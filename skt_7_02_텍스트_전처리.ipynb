{
  "nbformat": 4,
  "nbformat_minor": 0,
  "metadata": {
    "colab": {
      "private_outputs": true,
      "provenance": [],
      "authorship_tag": "ABX9TyOxR5TRkPGChTITBiMX58wL",
      "include_colab_link": true
    },
    "kernelspec": {
      "name": "python3",
      "display_name": "Python 3"
    },
    "language_info": {
      "name": "python"
    }
  },
  "cells": [
    {
      "cell_type": "markdown",
      "metadata": {
        "id": "view-in-github",
        "colab_type": "text"
      },
      "source": [
        "<a href=\"https://colab.research.google.com/github/park-hoyeon/park-hoyeon.github.io/blob/master/skt_7_02_%ED%85%8D%EC%8A%A4%ED%8A%B8_%EC%A0%84%EC%B2%98%EB%A6%AC.ipynb\" target=\"_parent\"><img src=\"https://colab.research.google.com/assets/colab-badge.svg\" alt=\"Open In Colab\"/></a>"
      ]
    },
    {
      "cell_type": "markdown",
      "source": [
        "# 텍스트 전처리\n",
        "\n",
        "- 토큰화: 실제로\t사용하는\t문장들을\t모아서\t만든\t텍스트\t데이터를\t말뭉치(Corpus,\t코퍼스)라고\t한다.\n",
        "말뭉치의\t문장들을\t문법적인\t최소\t단위(Token,\t토큰)로\t나누는\t작업을\t토큰화(Tokenization)\n",
        "라고\t한다."
      ],
      "metadata": {
        "id": "1nYnGrPQIl4M"
      }
    },
    {
      "cell_type": "code",
      "source": [
        "sentences  = [\n",
        " 'I love my dog',\n",
        " 'I love my cat',\n",
        " 'You love my dog!',\n",
        " 'Do you think my dog is amazing?'\n",
        "]"
      ],
      "metadata": {
        "id": "4YYsSMpAIr9H"
      },
      "execution_count": null,
      "outputs": []
    },
    {
      "cell_type": "markdown",
      "source": [
        "num_words는\t출현\t빈도에\t따라서\t저장할\t최대\t단어\t개수를\t설정한다.<br>\n",
        "oov_token는\t최대\t저장\t단어의\t개수를\t넘어간\t단어를\t표시할\t문자열을\t지정한다."
      ],
      "metadata": {
        "id": "B4CqZIpoIxwa"
      }
    },
    {
      "cell_type": "code",
      "source": [
        "from tensorflow.keras.preprocessing.text import Tokenizer\n",
        "tokenizer = Tokenizer(num_words = 100, oov_token = '<OOV>')\n",
        "tokenizer.fit_on_texts(sentences)"
      ],
      "metadata": {
        "id": "lwvxqlhXIv_e"
      },
      "execution_count": null,
      "outputs": []
    },
    {
      "cell_type": "code",
      "source": [
        "word_index = tokenizer.word_index\n",
        "print(word_index)"
      ],
      "metadata": {
        "id": "797qTkBAI6Be"
      },
      "execution_count": null,
      "outputs": []
    },
    {
      "cell_type": "code",
      "source": [
        "# 문자열인 문장을 숫자로 변환한다.\n",
        "sequences = tokenizer.texts_to_sequences(sentences)\n",
        "print(sequences)"
      ],
      "metadata": {
        "id": "7p6UmS6IJCag"
      },
      "execution_count": null,
      "outputs": []
    },
    {
      "cell_type": "code",
      "source": [
        "# 패딩 설정 - 최대 시퀀스의 길이보다 짧은 시퀀스는 나머지를 0으로 채운다.\n",
        "from tensorflow.keras.preprocessing.sequence import pad_sequences\n",
        "sentences = pad_sequences(sequences, maxlen=6, padding='pre')\n",
        "print(sentences)"
      ],
      "metadata": {
        "id": "RKMszbOTJII-"
      },
      "execution_count": null,
      "outputs": []
    },
    {
      "cell_type": "code",
      "source": [
        "# 인코딩\n",
        "from tensorflow.keras.utils import to_categorical\n",
        "sequences = to_categorical(sentences)\n",
        "print(sequences[0])\n",
        "print(sequences.shape)"
      ],
      "metadata": {
        "id": "Gri3ISNKJQym"
      },
      "execution_count": null,
      "outputs": []
    },
    {
      "cell_type": "code",
      "source": [
        "# 임베딩 레이어 사용\n",
        "# 인공 신경망에서는 임베딩 벡터들을 학습을 통해 자동으로 생성한다. - Keras의 Embeding 레이어를 확인한다.\n",
        "from tensorflow.keras.layers import Embedding\n",
        "embedding = Embedding(input_dim=100, output_dim=3, input_length=6)\n",
        "output = embedding(sentences)\n",
        "print(output)"
      ],
      "metadata": {
        "id": "wQMFmSRqJWKK"
      },
      "execution_count": null,
      "outputs": []
    },
    {
      "cell_type": "markdown",
      "source": [
        "# IMDB의 긍정/부정 분류\n",
        "IMDB\t데이터는\t영화\t리뷰에\t대한\t데이터이다.\tIMDB\t데이터를\t사용해서\t리뷰가\t긍정인지\t부정\n",
        "인지를\t분류하는\t과정을\t확인한다."
      ],
      "metadata": {
        "id": "Um0JjRi1JkRN"
      }
    },
    {
      "cell_type": "code",
      "source": [
        "# 데이터 준비\n",
        "from keras.datasets import imdb\n",
        "(X_train, y_train), (X_test, y_test) = imdb.load_data(num_words=500)\n",
        "print(X_train.shape, X_test.shape)\n",
        "print(X_test.shape, y_test.shape)"
      ],
      "metadata": {
        "id": "wIgNdxo6JhUQ"
      },
      "execution_count": null,
      "outputs": []
    },
    {
      "cell_type": "code",
      "source": [
        "# 데이터 확인\n",
        "print(X_train[0])\n",
        "print('length : ', len(X_train[0]))"
      ],
      "metadata": {
        "id": "hym-smoadD2v"
      },
      "execution_count": null,
      "outputs": []
    },
    {
      "cell_type": "code",
      "source": [
        "# 타깃값을 출력해서 확인한다. - 1은 긍정, 0은 부정\n",
        "print(y_train[0])\n"
      ],
      "metadata": {
        "id": "up0Uo62ZdPMR"
      },
      "execution_count": null,
      "outputs": []
    },
    {
      "cell_type": "code",
      "source": [
        "# 문장 복원 - 데이터의 첫 번째 문장을 숫자에서 문자열로 복원해서 확인한다.\n",
        "# 먼저 word index를 출력해서 확인하기\n",
        "\n",
        "print(imdb.get_word_index())"
      ],
      "metadata": {
        "id": "5BHmn_BPdW63"
      },
      "execution_count": null,
      "outputs": []
    },
    {
      "cell_type": "code",
      "source": [
        "# word index를 역으로 숫자를 키로 가지는 사전을 만든다.\n",
        "word_index = imdb.get_word_index()\n",
        "reverse_word_index = dict(\n",
        "    [(value, key) for (key, value) in word_index.items()]\n",
        ")\n",
        "print(reverse_word_index)"
      ],
      "metadata": {
        "id": "N725rupodlmY"
      },
      "execution_count": null,
      "outputs": []
    },
    {
      "cell_type": "code",
      "source": [
        "# 숫자로 인코딩된 문장을 문자로 바꾼다.\n",
        "# 0,1,2 는 특수한 목적으로 사용하므로 단어를 할당하지 않고 ?로 설정한다.\n",
        "\n",
        "decode_review = ' '.join(\n",
        "    [reverse_word_index.get(i-3, '?') for i in X_train[0]]\n",
        ")\n",
        "print(decode_review)"
      ],
      "metadata": {
        "id": "FP5cc9Zud5KR"
      },
      "execution_count": null,
      "outputs": []
    },
    {
      "cell_type": "markdown",
      "source": [
        "### 시퀀스 만들기\n",
        "- 입력으로 사용하기 위해서는 모든 리뷰가 같은 길이의 시퀀스 데이터이어야 한다,\n",
        "- 적당한 시퀀스의 길이를 확정하기 위한 절차를 진행한다.\n",
        "- 모든 문장의 길이를 조사한다.\n"
      ],
      "metadata": {
        "id": "_kgqsqhBeVcy"
      }
    },
    {
      "cell_type": "code",
      "source": [
        "import numpy as np\n",
        "lengths = np.array([len(x) for x in X_train])\n",
        "print(lengths[:20])"
      ],
      "metadata": {
        "id": "rwu4nttkeOxH"
      },
      "execution_count": null,
      "outputs": []
    },
    {
      "cell_type": "code",
      "source": [
        "# 문장 길이의 분포를 확인한다.\n",
        "import matplotlib.pyplot as plt\n",
        "plt.figure(figsize=(10, 7))\n",
        "plt.hist(lengths)\n",
        "plt.xlabel('length')\n",
        "plt.ylabel('frequency')\n",
        "plt.show()"
      ],
      "metadata": {
        "id": "Ot0Y6uX4e6FF"
      },
      "execution_count": null,
      "outputs": []
    },
    {
      "cell_type": "code",
      "source": [
        "# 시퀀스의 최대 길이를 200으로 설정하고 시퀀스를 만든다.\n",
        "from tensorflow.keras.preprocessing.sequence import pad_sequences\n",
        "max_len = 200\n",
        "X_train = pad_sequences(X_train, maxlen=max_len)\n",
        "print(X_train.shape)"
      ],
      "metadata": {
        "id": "aHxF0TWQeiW6"
      },
      "execution_count": null,
      "outputs": []
    },
    {
      "cell_type": "code",
      "source": [
        "# 시퀀스 데이터를 몇 개만 출력해서 확인한다.\n",
        "print(X_train[:2])"
      ],
      "metadata": {
        "id": "n-z84MAtfKVj"
      },
      "execution_count": null,
      "outputs": []
    },
    {
      "cell_type": "code",
      "source": [
        "# 원-핫 인코딩\n",
        "# 함수의 결과는 Tensor 타입이다. 출력되는 Shpae에 주목한다.\n",
        "from tensorflow import keras\n",
        "from tensorflow.keras.utils import to_categorical\n",
        "\n",
        "train_oh = keras.utils.to_categorical(X_train)\n",
        "print(train_oh.shape)"
      ],
      "metadata": {
        "id": "zXGq-WKUfSJf"
      },
      "execution_count": null,
      "outputs": []
    },
    {
      "cell_type": "code",
      "source": [
        "# 모델 만들기 - LSTM 레이어를 사용하며, 입력 데이터의 형태와 출력의 활성화 함수에 주의한다.\n",
        "model = keras.Sequential()\n",
        "model.add(keras.layers.Embedding(500, 16, input_length=200))\n",
        "model.add(keras.layers.LSTM(64, return_sequences=True))\n",
        "model.add(keras.layers.LSTM(32))\n",
        "model.add(keras.layers.Dense(1, activation='sigmoid'))\n",
        "model.summary()"
      ],
      "metadata": {
        "id": "D6NPesiffd1M"
      },
      "execution_count": null,
      "outputs": []
    },
    {
      "cell_type": "code",
      "source": [],
      "metadata": {
        "id": "d3bxVUSOfpUT"
      },
      "execution_count": null,
      "outputs": []
    }
  ]
}