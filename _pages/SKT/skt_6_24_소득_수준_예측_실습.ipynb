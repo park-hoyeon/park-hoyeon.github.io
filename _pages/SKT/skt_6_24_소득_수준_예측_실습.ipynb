{
  "nbformat": 4,
  "nbformat_minor": 0,
  "metadata": {
    "colab": {
      "private_outputs": true,
      "provenance": [],
      "authorship_tag": "ABX9TyNquiJ16jns8L8coDPbaLJU",
      "include_colab_link": true
    },
    "kernelspec": {
      "name": "python3",
      "display_name": "Python 3"
    },
    "language_info": {
      "name": "python"
    }
  },
  "cells": [
    {
      "cell_type": "markdown",
      "metadata": {
        "id": "view-in-github",
        "colab_type": "text"
      },
      "source": [
        "<a href=\"https://colab.research.google.com/github/park-hoyeon/park-hoyeon.github.io/blob/master/skt_6_24_%EC%86%8C%EB%93%9D_%EC%88%98%EC%A4%80_%EC%98%88%EC%B8%A1_%EC%8B%A4%EC%8A%B5.ipynb\" target=\"_parent\"><img src=\"https://colab.research.google.com/assets/colab-badge.svg\" alt=\"Open In Colab\"/></a>"
      ]
    },
    {
      "cell_type": "code",
      "execution_count": null,
      "metadata": {
        "id": "L3Ey_pgNvkhL"
      },
      "outputs": [],
      "source": [
        "import pandas as pd\n",
        "import numpy as np\n",
        "import matplotlib.pyplot as plt\n",
        "import seaborn as sns\n",
        "\n",
        "# 시각화 스타일 설정\n",
        "plt.style.use('seaborn-v0_8-whitegrid')\n",
        "# 한글 폰트 설정 (Colab 환경에서 필요한 경우)\n",
        "#!sudo apt-get install -y fonts-nanum\n",
        "#!sudo fc-cache -fv\n",
        "#!rm ~/.cache/matplotlib -rf\n",
        "# plt.rc('font', family='NanumBarunGothic')\n",
        "plt.rcParams['axes.unicode_minus'] = False # 마이너스 기호 깨짐 방지"
      ]
    },
    {
      "cell_type": "code",
      "source": [
        "# 데이터셋 URL\n",
        "url = 'https://archive.ics.uci.edu/ml/machine-learning-databases/adult/adult.data'\n",
        "\n",
        "# 데이터셋의 열 이름 정의\n",
        "column_names = [\n",
        "    'age', 'workclass', 'fnlwgt', 'education', 'education-num',\n",
        "    'marital-status', 'occupation', 'relationship', 'race', 'sex',\n",
        "    'capital-gain', 'capital-loss', 'hours-per-week', 'native-country', 'income'\n",
        "]\n",
        "\n",
        "# 데이터 불러오기\n",
        "# names 파라미터로 열 이름을 지정하고, na_values로 결측치 문자를 지정합니다.\n",
        "# strip() 함수를 사용하여 각 열의 값 앞뒤에 있을 수 있는 공백을 제거합니다.\n",
        "df = pd.read_csv(url, header=None, names=column_names,\n",
        "                 na_values='?', sep=',\\s*', engine='python')\n",
        "\n",
        "# 데이터의 첫 5행 확인\n",
        "print(\"데이터 샘플 (상위 35개):\")\n",
        "print(df.head(35))\n"
      ],
      "metadata": {
        "id": "oBjuJ13DvqIk"
      },
      "execution_count": null,
      "outputs": []
    },
    {
      "cell_type": "code",
      "source": [
        "# 기본 정보 확인\n",
        "# 데이터의 차원 확인 (행, 열 개수)\n",
        "print(f\"데이터 차원: {df.shape}\")\n",
        "\n",
        "# 데이터의 전반적인 정보 확인\n",
        "print(\"\\n데이터 기본 정보:\")\n",
        "df.info()\n"
      ],
      "metadata": {
        "id": "SVdxswk7v06N"
      },
      "execution_count": null,
      "outputs": []
    },
    {
      "cell_type": "code",
      "source": [
        "# 한글 폰트 설정 (Colab 환경에서 필요한 경우)\n",
        "!sudo apt-get install -y fonts-nanum\n",
        "!sudo fc-cache -fv\n",
        "!rm ~/.cache/matplotlib -rf\n",
        "import seaborn as sns\n",
        "import matplotlib.pyplot as plt\n",
        "\n",
        "# 'capital-loss'가 0보다 큰 경우를 자본 손실이 발생한 것으로 정의\n",
        "df['has_capital_loss'] = (df['capital-loss'] > 0).astype(int)\n",
        "\n",
        "# 자본 손실 발생 여부에 따른 소득 분포 시각화\n",
        "plt.figure(figsize=(8, 6))\n",
        "sns.countplot(data=df, x='has_capital_loss', hue='income', palette='viridis')\n",
        "plt.title(\"자본 손실 발생 여부에 따른 소득 분포\")\n",
        "plt.xlabel(\"자본 손실 발생 (0: 없음, 1: 있음)\")\n",
        "plt.ylabel(\"사람 수\")\n",
        "plt.xticks([0, 1], ['자본 손실 없음', '자본 손실 있음'])\n",
        "plt.legend(title=\"소득\")\n",
        "plt.show()"
      ],
      "metadata": {
        "id": "B8q1KzTp6Qix"
      },
      "execution_count": null,
      "outputs": []
    },
    {
      "cell_type": "code",
      "source": [
        "# 남성이면서 백인인 데이터 필터링\n",
        "male_white_df = df[(df['sex'] == 'Male') & (df['race'] == 'White')].copy()\n",
        "\n",
        "# 필터링된 데이터에서 자본 손실 발생 여부에 따른 소득 분포 시각화\n",
        "plt.figure(figsize=(8, 6))\n",
        "sns.countplot(data=male_white_df, x='has_capital_loss', hue='income', palette='viridis')\n",
        "plt.title(\"남성 백인의 자본 손실 발생 여부에 따른 소득 분포\")\n",
        "plt.xlabel(\"자본 손실 발생 (0: 없음, 1: 있음)\")\n",
        "plt.ylabel(\"사람 수\")\n",
        "plt.xticks([0, 1], ['자본 손실 없음', '자본 손실 있음'])\n",
        "plt.legend(title=\"소득\")\n",
        "plt.show()"
      ],
      "metadata": {
        "id": "gKdpSm5e6f72"
      },
      "execution_count": null,
      "outputs": []
    },
    {
      "cell_type": "code",
      "source": [
        "import matplotlib.pyplot as plt\n",
        "import seaborn as sns\n",
        "\n",
        "# 시각화 스타일 설정\n",
        "plt.figure(figsize=(12, 6))\n",
        "sns.set(style=\"whitegrid\")\n",
        "\n",
        "# race별로 age vs hours-per-week 산점도 (income 색상)\n",
        "sns.scatterplot(\n",
        "    data=df,\n",
        "    x='age',\n",
        "    y='hours-per-week',\n",
        "    hue='income',\n",
        "    style='race',\n",
        "    palette='Set1',\n",
        "    alpha=0.7\n",
        ")\n",
        "\n",
        "plt.title(\"인종(race) 및 소득에 따른 나이-근무시간 산점도\")\n",
        "plt.xlabel(\"나이 (age)\")\n",
        "plt.ylabel(\"주당 근무시간 (hours-per-week)\")\n",
        "plt.legend(title='소득 & 인종')\n",
        "plt.show()\n"
      ],
      "metadata": {
        "id": "92hzrOCy3u6S"
      },
      "execution_count": null,
      "outputs": []
    },
    {
      "cell_type": "code",
      "source": [
        "import seaborn as sns\n",
        "import matplotlib.pyplot as plt\n",
        "\n",
        "# 자본 이득이 0보다 큰 데이터만 필터링\n",
        "df_gain_only = df[df['capital-gain'] > 0].copy()\n",
        "\n",
        "if not df_gain_only.empty:\n",
        "    plt.figure(figsize=(8, 6))\n",
        "    sns.boxplot(data=df_gain_only, x='income', y='capital-gain', palette='viridis')\n",
        "    plt.title(\"Distribution of Capital Gain by Income (>0)\")  # 제목 변경\n",
        "    plt.xlabel(\"Income\")  # x축 라벨 변경\n",
        "    plt.ylabel(\"Capital Gain\")  # y축 라벨 변경\n",
        "    plt.yscale('log') # 값의 범위가 넓을 수 있으므로 로그 스케일 적용\n",
        "    plt.show()\n",
        "else:\n",
        "    print(\"No data with capital gain greater than 0.\") # 메시지 변경"
      ],
      "metadata": {
        "id": "DHt_i7r_80wC"
      },
      "execution_count": null,
      "outputs": []
    },
    {
      "cell_type": "code",
      "source": [
        "import seaborn as sns\n",
        "import matplotlib.pyplot as plt\n",
        "\n",
        "# 자본 손실이 0보다 큰 데이터만 필터링\n",
        "df_loss_only = df[df['capital-loss'] > 0].copy()\n",
        "\n",
        "if not df_loss_only.empty:\n",
        "    plt.figure(figsize=(8, 6))\n",
        "    sns.boxplot(data=df_loss_only, x='income', y='capital-loss', palette='viridis')\n",
        "    plt.title(\"Distribution of Capital Loss by Income (>0)\")  # 제목 변경\n",
        "    plt.xlabel(\"Income\")  # x축 라벨 변경\n",
        "    plt.ylabel(\"Capital Loss\")  # y축 라벨 변경\n",
        "    plt.yscale('log') # 값의 범위가 넓을 수 있으므로 로그 스케일 적용\n",
        "    plt.show()\n",
        "else:\n",
        "    print(\"No data with capital loss greater than 0.\") # 메시지 변경"
      ],
      "metadata": {
        "id": "NK34oJf08JmG"
      },
      "execution_count": null,
      "outputs": []
    },
    {
      "cell_type": "code",
      "source": [
        "import seaborn as sns\n",
        "import matplotlib.pyplot as plt\n",
        "\n",
        "plt.figure(figsize=(8, 5))\n",
        "sns.countplot(data=df, x='race', hue='income', palette='pastel')\n",
        "plt.title(\"인종별 소득 분포 (<=50K vs >50K)\")\n",
        "plt.xlabel(\"인종\")\n",
        "plt.ylabel(\"사람 수\")\n",
        "plt.xticks(rotation=30)\n",
        "plt.legend(title=\"소득\")\n",
        "plt.tight_layout()\n",
        "plt.show()\n"
      ],
      "metadata": {
        "id": "GZMSeNrP4Bmx"
      },
      "execution_count": null,
      "outputs": []
    },
    {
      "cell_type": "code",
      "source": [
        "plt.figure(figsize=(8, 5))\n",
        "sns.barplot(data=df, x='race', y='hours-per-week', palette='Blues')\n",
        "plt.title(\"인종별 평균 주당 근무시간\")\n",
        "plt.xlabel(\"인종\")\n",
        "plt.ylabel(\"평균 근무시간\")\n",
        "plt.xticks(rotation=30)\n",
        "plt.tight_layout()\n",
        "plt.show()\n"
      ],
      "metadata": {
        "id": "j8dXB7LB4Hwp"
      },
      "execution_count": null,
      "outputs": []
    },
    {
      "cell_type": "code",
      "source": [
        "plt.figure(figsize=(10, 6))\n",
        "sns.scatterplot(data=df, x='age', y='hours-per-week', hue='race', alpha=0.6)\n",
        "plt.title(\"인종별 나이 vs 근무시간 산점도\")\n",
        "plt.xlabel(\"나이\")\n",
        "plt.ylabel(\"근무시간\")\n",
        "plt.legend(title='인종')\n",
        "plt.tight_layout()\n",
        "plt.show()\n"
      ],
      "metadata": {
        "id": "HLkU-l8X4RVS"
      },
      "execution_count": null,
      "outputs": []
    },
    {
      "cell_type": "code",
      "source": [
        "# 각 열의 결측치 개수 확인\n",
        "print(\"열별 결측치 개수:\")\n",
        "print(df.isnull().sum())\n",
        "\n",
        "# 결측치 비율 계산\n",
        "missing_percentage = (df.isnull().sum() / len(df)) * 100\n",
        "print(\"\\n열별 결측치 비율 (%):\")\n",
        "print(missing_percentage[missing_percentage > 0])\n"
      ],
      "metadata": {
        "id": "AQcU5iUkwAAQ"
      },
      "execution_count": null,
      "outputs": []
    },
    {
      "cell_type": "code",
      "source": [
        "# 예: education별로 결측 비율\n",
        "df['missing_group'] = df['workclass'].isnull()\n",
        "df.groupby('education')['missing_group'].mean().sort_values(ascending=False)\n"
      ],
      "metadata": {
        "id": "JTupDumD1eQh"
      },
      "execution_count": null,
      "outputs": []
    },
    {
      "cell_type": "code",
      "source": [
        "df['workclass'] = df['workclass'].fillna('Unknown')\n",
        "df['occupation'] = df['occupation'].fillna('Unknown')\n"
      ],
      "metadata": {
        "id": "HbjUiJF31uuC"
      },
      "execution_count": null,
      "outputs": []
    },
    {
      "cell_type": "code",
      "source": [
        "# workclass == 'Unknown'의 고소득 비율\n",
        "df[df['workclass'] == 'Unknown']['income'].value_counts(normalize=True)\n"
      ],
      "metadata": {
        "id": "Ak3V0rZ31xkJ"
      },
      "execution_count": null,
      "outputs": []
    },
    {
      "cell_type": "code",
      "source": [
        "# workclass가 결측치인 행에서 occupation 열의 상태 확인\n",
        "missing_workclass_rows = df[df['workclass'].isnull()]\n",
        "print(f\"workclass가 결측치인 행의 수: {len(missing_workclass_rows)}\")\n",
        "print(f\"그 중 occupation도 결측치인 행의 수: {missing_workclass_rows['occupation'].isnull().sum()}\")\n"
      ],
      "metadata": {
        "id": "TqoIOO0QwEGv"
      },
      "execution_count": null,
      "outputs": []
    },
    {
      "cell_type": "code",
      "source": [
        "# workclass와 occupation의 결측치를 'Unknown'으로 채우기\n",
        "df['workclass'].fillna('Unknown', inplace=True)\n",
        "df['occupation'].fillna('Unknown', inplace=True)\n",
        "\n",
        "# native-country는 결측치 비율이 낮고, 대부분이 'United-States'이므로 최빈값으로 채우거나 행을 제거할 수 있습니다.\n",
        "# 여기서는 분석의 일관성을 위해 최빈값으로 채우겠습니다.\n",
        "mode_country = df['native-country'].mode()\n",
        "df['native-country'].fillna(mode_country, inplace=True)\n",
        "\n",
        "# 결측치가 모두 처리되었는지 다시 확인\n",
        "print(\"\\n결측치 처리 후 데이터 정보:\")\n",
        "df.info()\n"
      ],
      "metadata": {
        "id": "XTUSnvdXwfJJ"
      },
      "execution_count": null,
      "outputs": []
    },
    {
      "cell_type": "code",
      "source": [
        "#목표 변수(Income) 정리\n",
        "# income 열의 고유값 확인\n",
        "print(\"\\nIncome 변수의 고유값:\")\n",
        "print(df['income'].value_counts())\n",
        "\n",
        "# income 열을 0과 1로 변환하여 새로운 열 'income_binary' 생성\n",
        "df['income_binary'] = df['income'].apply(lambda x: 1 if x == '>50K' else 0)\n",
        "\n",
        "# 변환 결과 확인\n",
        "print(\"\\nIncome 변수 변환 후 (상위 5개):\")\n",
        "print(df[['income', 'income_binary']].head())\n"
      ],
      "metadata": {
        "id": "g-Gz4ERrwnFA"
      },
      "execution_count": null,
      "outputs": []
    },
    {
      "cell_type": "code",
      "source": [
        "# 수치형 데이터의 기술 통계량 확인\n",
        "print(df.describe())\n"
      ],
      "metadata": {
        "id": "YS8JifB7wwQY"
      },
      "execution_count": null,
      "outputs": []
    },
    {
      "cell_type": "code",
      "source": [
        "# 수치형 변수 리스트\n",
        "numerical_features = ['age', 'fnlwgt', 'education-num', 'capital-gain', 'capital-loss', 'hours-per-week']\n",
        "\n",
        "# 히스토그램으로 분포 확인\n",
        "df[numerical_features].hist(bins=30, figsize=(15, 10))\n",
        "plt.suptitle(\"Distribution of Numerical Features\", size=20)\n",
        "plt.tight_layout(rect=[0, 0.03, 1, 0.95])\n",
        "plt.show()\n"
      ],
      "metadata": {
        "id": "accm24Gnw8qF"
      },
      "execution_count": null,
      "outputs": []
    },
    {
      "cell_type": "code",
      "source": [
        "# 주요 범주형 변수 리스트\n",
        "categorical_features = ['workclass', 'education', 'marital-status', 'occupation', 'relationship', 'race', 'sex']\n",
        "\n",
        "# 각 범주형 변수에 대한 countplot 그리기\n",
        "fig, axes = plt.subplots(4, 2, figsize=(15, 25))\n",
        "axes = axes.flatten() # 2차원 배열을 1차원으로 변환\n",
        "\n",
        "for i, col in enumerate(categorical_features):\n",
        "    order = df[col].value_counts().index\n",
        "    sns.countplot(y=col, data=df, order=order, ax=axes[i], palette='viridis')\n",
        "    axes[i].set_title(f'Count of Individuals by {col}')\n",
        "    axes[i].set_xlabel('Count')\n",
        "    axes[i].set_ylabel('')\n",
        "\n",
        "# 마지막 subplot이 비어있으면 숨기기\n",
        "if len(categorical_features) < len(axes):\n",
        "    axes[-1].set_visible(False)\n",
        "\n",
        "plt.tight_layout()\n",
        "plt.show()\n"
      ],
      "metadata": {
        "id": "JKjS2KUBxSp-"
      },
      "execution_count": null,
      "outputs": []
    },
    {
      "cell_type": "code",
      "source": [
        "#우리가 예측하고자 하는 소득 그룹의 분포부터 확인하기!\n",
        "plt.figure(figsize=(6, 5))\n",
        "sns.countplot(x='income', data=df, palette='magma')\n",
        "plt.title('Distribution of Income Groups')\n",
        "plt.xlabel('Income')\n",
        "plt.ylabel('Count')\n",
        "\n",
        "# 비율 출력\n",
        "income_counts = df['income'].value_counts(normalize=True) * 100\n",
        "print(f\"<=50K 비율: {income_counts['<=50K']:.2f}%\")\n",
        "print(f\">50K 비율: {income_counts['>50K']:.2f}%\")\n",
        "\n",
        "plt.show()\n"
      ],
      "metadata": {
        "id": "CEQL6X2sxrZq"
      },
      "execution_count": null,
      "outputs": []
    },
    {
      "cell_type": "code",
      "source": [
        "# 교육 수준별 고소득자 비율 시각화\n",
        "plt.figure(figsize=(12, 8))\n",
        "# 각 education 카테고리 내에서 income 비율을 계산하여 정규화된 막대 그래프를 그립니다.\n",
        "prop_df = df.groupby('education')['income_binary'].mean().reset_index().sort_values('income_binary', ascending=False)\n",
        "sns.barplot(x='income_binary', y='education', data=prop_df, palette='coolwarm')\n",
        "plt.title('Proportion of >50K Earners by Education Level', fontsize=15)\n",
        "plt.xlabel('Proportion of >50K Earners')\n",
        "plt.ylabel('Education Level')\n",
        "plt.xticks(np.arange(0, 1.0, 0.1))\n",
        "plt.show()\n"
      ],
      "metadata": {
        "id": "-96wYiISx1Ab"
      },
      "execution_count": null,
      "outputs": []
    },
    {
      "cell_type": "code",
      "source": [
        "#수치형 변수와 소득의 관계\n",
        "\n",
        "fig, axes = plt.subplots(1, 2, figsize=(14, 6))\n",
        "\n",
        "# 나이(age)와 소득의 관계 - Use the first Axes object (axes[0])\n",
        "sns.boxplot(x='income', y='age', data=df, ax=axes[0], palette='viridis')\n",
        "axes[0].set_title('Distribution of Age by Income Group')\n",
        "axes[0].set_xlabel('Income')\n",
        "axes[0].set_ylabel('Age')\n",
        "\n",
        "# 주당 근무 시간(hours-per-week)과 소득의 관계 - Use the second Axes object (axes[1])\n",
        "sns.boxplot(x='income', y='hours-per-week', data=df, ax=axes[1], palette='viridis')\n",
        "axes[1].set_title('Distribution of Hours-per-week by Income Group')\n",
        "axes[1].set_xlabel('Income')\n",
        "axes[1].set_ylabel('Hours per Week')\n",
        "\n",
        "plt.tight_layout()\n",
        "plt.show()"
      ],
      "metadata": {
        "id": "vKd_PfuOyWyp"
      },
      "execution_count": null,
      "outputs": []
    },
    {
      "cell_type": "code",
      "source": [
        "# 피처 엔지니어링\n",
        "# education-num을 기준으로 교육 수준을 그룹화하는 함수 정의\n",
        "def group_education(num):\n",
        "    if num < 9:\n",
        "        return 'No-HS-Diploma'\n",
        "    elif num == 9:\n",
        "        return 'HS-Graduate'\n",
        "    elif num > 9 and num < 13:\n",
        "        return 'Some-College'\n",
        "    elif num == 13:\n",
        "        return 'Bachelors'\n",
        "    else:\n",
        "        return 'Post-Graduate'\n",
        "\n",
        "# 새로운 'education_group' 열 생성\n",
        "df['education_group'] = df['education-num'].apply(group_education)\n",
        "\n",
        "# 그룹화된 교육 수준별 고소득자 비율 확인\n",
        "edu_group_prop = df.groupby('education_group')['income_binary'].mean().sort_values(ascending=False)\n",
        "print(edu_group_prop)\n"
      ],
      "metadata": {
        "id": "mfeb0tuiy0ZP"
      },
      "execution_count": null,
      "outputs": []
    },
    {
      "cell_type": "code",
      "source": [
        "#자본 이득/손실 이진화\n",
        "df['has_capital_gain'] = (df['capital-gain'] > 0).astype(int)\n",
        "df['has_capital_loss'] = (df['capital-loss'] > 0).astype(int)\n",
        "\n",
        "print(\"\\n자본 이득 발생 여부에 따른 고소득자 비율:\")\n",
        "print(df.groupby('has_capital_gain')['income_binary'].mean())\n"
      ],
      "metadata": {
        "id": "xlcuASMPzBdi"
      },
      "execution_count": null,
      "outputs": []
    },
    {
      "cell_type": "code",
      "source": [
        "# 나이와 소득의 관계를 성별로 나누어 시각화\n",
        "sns.catplot(x='income', y='age', data=df, kind='violin', col='sex', palette='pastel')\n",
        "plt.suptitle('Age Distribution by Income and Sex', y=1.02)\n",
        "plt.show()\n"
      ],
      "metadata": {
        "id": "Ya_rqG3MzGx7"
      },
      "execution_count": null,
      "outputs": []
    },
    {
      "cell_type": "code",
      "source": [
        "# 근무 시간과 소득의 관계를 새로 만든 교육 그룹별로 나누어 시각화\n",
        "sns.catplot(x='income', y='hours-per-week', data=df, kind='box',col='education_group', palette='Set3')\n",
        "plt.suptitle('Hours-per-week Distribution by Income and Education Group', y=1.02)\n",
        "plt.show()\n"
      ],
      "metadata": {
        "id": "v9Zu8mE5zjBE"
      },
      "execution_count": null,
      "outputs": []
    },
    {
      "cell_type": "code",
      "source": [
        "from sklearn.linear_model import LogisticRegression\n",
        "from sklearn.preprocessing import LabelEncoder\n",
        "from sklearn.model_selection import train_test_split\n",
        "from sklearn.metrics import classification_report\n",
        "\n",
        "# 1. 결측 그룹 레이블 생성 (결측치 채우기 전에 생성)\n",
        "# workclass 열의 null 여부를 기반으로 missing_label 생성\n",
        "df['missing_label'] = df['workclass'].isnull().astype(int)\n",
        "\n",
        "# 참고: 이미 결측치를 'Unknown'으로 채웠기 때문에,\n",
        "# 만약 이전에 'Unknown'으로 채우는 셀을 실행했다면,\n",
        "# df['workclass'].isnull()은 모두 False가 될 것입니다.\n",
        "# 따라서 이 셀은 결측치를 채우기 전의 df 상태에서 실행되어야 정확합니다.\n",
        "# 또는, 결측치를 채우기 전에 이 부분을 먼저 실행하거나\n",
        "# 원본 데이터셋을 다시 로드하여 missing_label을 생성해야 합니다.\n",
        "\n",
        "# 2. 수치형 + 범주형 주요 변수 선택\n",
        "# df_model을 생성할 때 missing_label을 포함하고,\n",
        "# 나머지 결측치는 dropna() 전에 이미 처리되었다고 가정합니다.\n",
        "# 만약 다른 열에 결측치가 있다면 dropna()가 여전히 일부 행을 제거할 수 있습니다.\n",
        "cols = ['age', 'education-num', 'hours-per-week', 'sex', 'relationship', 'native-country']\n",
        "# missing_label 컬럼은 dropna()에 포함시키지 않거나, 이미 결측치가 없도록 처리해야 합니다.\n",
        "# 여기서는 missing_label이 이미 생성되었으므로, dropna()는 선택된 cols에만 적용됩니다.\n",
        "df_model = df[cols + ['missing_label']].copy() # .copy()를 사용하여 SettingWithCopyWarning 방지\n",
        "\n",
        "# 3. 범주형 라벨 인코딩\n",
        "# df_model에 포함된 범주형 컬럼만 인코딩합니다.\n",
        "for col in df_model.select_dtypes(include='object').columns:\n",
        "    # dropna() 이후에도 missing_label 컬럼은 남아야 하므로 missing_label이 object 타입이 아니라고 가정\n",
        "    if col != 'missing_label': # missing_label이 정수형이므로 이 조건은 불필요할 수 있지만 명시적으로 제외\n",
        "        df_model[col] = LabelEncoder().fit_transform(df_model[col])\n",
        "\n",
        "# 4. 학습 및 평가\n",
        "X = df_model.drop('missing_label', axis=1)\n",
        "y = df_model['missing_label']\n",
        "\n",
        "# y에 0과 1이 모두 포함되어 있는지 확인\n",
        "print(f\"Unique values in y: {y.unique()}\")\n",
        "\n",
        "# y에 2개 이상의 클래스가 있는지 확인하고 stratify 사용\n",
        "if len(y.unique()) >= 2:\n",
        "    X_train, X_test, y_train, y_test = train_test_split(X, y, stratify=y, test_size=0.2, random_state=42)\n",
        "    model = LogisticRegression(max_iter=1000)\n",
        "    model.fit(X_train, y_train)\n",
        "    y_pred = model.predict(X_test)\n",
        "\n",
        "    print(classification_report(y_test, y_pred))\n",
        "else:\n",
        "    print(\"Target variable 'missing_label' contains only one class. Cannot train the model.\")"
      ],
      "metadata": {
        "id": "4yITAi-n2TnC"
      },
      "execution_count": null,
      "outputs": []
    }
  ]
}
