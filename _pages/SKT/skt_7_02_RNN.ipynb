{
  "nbformat": 4,
  "nbformat_minor": 0,
  "metadata": {
    "colab": {
      "private_outputs": true,
      "provenance": [],
      "authorship_tag": "ABX9TyPhb0nxLHuT/QT2M4G4s4Me",
      "include_colab_link": true
    },
    "kernelspec": {
      "name": "python3",
      "display_name": "Python 3"
    },
    "language_info": {
      "name": "python"
    }
  },
  "cells": [
    {
      "cell_type": "markdown",
      "metadata": {
        "id": "view-in-github",
        "colab_type": "text"
      },
      "source": [
        "<a href=\"https://colab.research.google.com/github/park-hoyeon/park-hoyeon.github.io/blob/master/skt_7_02_RNN.ipynb\" target=\"_parent\"><img src=\"https://colab.research.google.com/assets/colab-badge.svg\" alt=\"Open In Colab\"/></a>"
      ]
    },
    {
      "cell_type": "markdown",
      "source": [
        "# 순환 신경망(Recurrent Neural Network)\n",
        "- 시퀀스\t데이터(음성,\t자연어,\t시계열\t데이터\t등)를\t학습시키기\t위한\t신경망\n",
        "- RNN의 가장 큰 특징: 은닉층이 이전 데이터를 참조하도록 서로 연결된다.\n",
        "- \t셀(Cell)\t:\t은닉층에서\t결과를\t출력하는\t노드를\t말한다.\t셀은\t이전의\t값을\t기억하려고\t하는\t일종의\t메모리\t역할을\t수행\n",
        "- \t은닉\t상태(hidden\tstate)\t:\t메모리\t셀이\t출력층\t방향\t또는\t다음\t시점인\tt+1의\t자신에게\t보내는\t값"
      ],
      "metadata": {
        "id": "5pLAAjqZ14Ws"
      }
    },
    {
      "cell_type": "markdown",
      "source": [
        "### 주가 예측 모델"
      ],
      "metadata": {
        "id": "mpPWcGo72aSb"
      }
    },
    {
      "cell_type": "code",
      "source": [
        " pip install -U finance-datareader"
      ],
      "metadata": {
        "id": "waTkdf2n2dL6"
      },
      "execution_count": null,
      "outputs": []
    },
    {
      "cell_type": "code",
      "source": [
        "import FinanceDataReader as fdr\n",
        "samsung = fdr.DataReader('005930', '1998-09-01', '2022-10-30')\n",
        "samsung.shape"
      ],
      "metadata": {
        "id": "BHGVWaTB2hUk"
      },
      "execution_count": null,
      "outputs": []
    },
    {
      "cell_type": "code",
      "source": [
        "samsung.head()"
      ],
      "metadata": {
        "id": "Ux4waFCN2ppg"
      },
      "execution_count": null,
      "outputs": []
    },
    {
      "cell_type": "code",
      "source": [
        "# 데이터 시각화\n",
        "import matplotlib.pyplot as plt\n",
        "import seaborn as sns\n",
        "plt.figure(figsize=(12, 6))\n",
        "sns.lineplot(y=samsung['Close'], x=samsung.index)\n",
        "plt.show()"
      ],
      "metadata": {
        "id": "iuUR01cn2kyv"
      },
      "execution_count": null,
      "outputs": []
    },
    {
      "cell_type": "code",
      "source": [
        "# 특성 추가 - rolling() 함수를 사용해 3일 평균과 5일 평균의 피처를 추가한다.\n",
        "import numpy as np\n",
        "samsung['3MA'] = np.around(samsung['Close'].rolling(window=3).mean(), 0)\n",
        "samsung['5MA'] = np.around(samsung['Close'].rolling(window=5).mean(), 0)"
      ],
      "metadata": {
        "id": "6j9klkVi2v-o"
      },
      "execution_count": null,
      "outputs": []
    },
    {
      "cell_type": "code",
      "source": [
        "# 최고와 최저의 중간값을 특성으로 추가한다.\n",
        "samsung['Mid'] = (samsung['High'] + samsung['Low'])/2\n",
        "samsung.head()"
      ],
      "metadata": {
        "id": "jhWwZEmV28Zv"
      },
      "execution_count": null,
      "outputs": []
    },
    {
      "cell_type": "code",
      "source": [
        "# 이상치 처리 - 거래량 'Voiume'이 0인 데이터는 이상치로 판단하고, Volime이 0인 행만 추출해서 확인한다.\n",
        "samsung[samsung['Volume'] == 0]"
      ],
      "metadata": {
        "id": "h2lNPkMl3Kla"
      },
      "execution_count": null,
      "outputs": []
    },
    {
      "cell_type": "code",
      "source": [
        "# Volume이 0인 값을 NaN값으로 변경해서 결측치로 처리하기 위함\n",
        "samsung['Volume'] = samsung['Volume'].replace(0, np.nan)\n",
        "samsung.isna().sum(axis=0)"
      ],
      "metadata": {
        "id": "ciHdXgC33TTT"
      },
      "execution_count": null,
      "outputs": []
    },
    {
      "cell_type": "code",
      "source": [
        "# 결측치가 포함된 행을 삭제하고 확인한다.\n",
        "samsung = samsung.dropna()\n",
        "samsung.isna().sum(axis=0)"
      ],
      "metadata": {
        "id": "4ziRBxC_4R2b"
      },
      "execution_count": null,
      "outputs": []
    },
    {
      "cell_type": "code",
      "source": [
        "# 데이터 정규화\n",
        "from sklearn.preprocessing import MinMaxScaler\n",
        "import pandas as pd # Import pandas\n",
        "scaler = MinMaxScaler()\n",
        "scale_cols = ['Close', '3MA', '5MA', 'Mid','Volume']\n",
        "df_scaled = scaler.fit_transform(samsung[scale_cols])\n",
        "df_scaled = pd.DataFrame(df_scaled)\n",
        "df_scaled.columns = scale_cols\n",
        "print(df_scaled[:5])"
      ],
      "metadata": {
        "id": "xuPGSALg4emk"
      },
      "execution_count": null,
      "outputs": []
    },
    {
      "cell_type": "code",
      "source": [
        "# 시퀀스 데이터로 변형\n",
        "def make_sequene_dataset(feature, label, window_size):\n",
        "  feature_list = []\n",
        "  label_list = []\n",
        "  for i in range(len(feature)-window_size):\n",
        "    feature_list.append(feature[i:i+window_size])\n",
        "    label_list.append(label[i+window_size])\n",
        "  return np.array(feature_list), np.array(label_list)"
      ],
      "metadata": {
        "id": "SD3jyvg24jnI"
      },
      "execution_count": null,
      "outputs": []
    },
    {
      "cell_type": "code",
      "source": [
        "# 데이터 프레임을 생성한다.\n",
        "feature_cols = ['3MA', '5MA', 'Mid','Volume']\n",
        "label_cols = [ 'Close' ]\n",
        "npX = pd.DataFrame(df_scaled, columns=feature_cols).values\n",
        "npY = pd.DataFrame(df_scaled, columns=label_cols).values\n",
        "print(npX.shape, npY.shape)"
      ],
      "metadata": {
        "id": "E22eAY5S6Giq"
      },
      "execution_count": null,
      "outputs": []
    },
    {
      "cell_type": "code",
      "source": [
        "# 윈도우 사이즈는 타임스텝의 길이가 된다.\n",
        "window_size = 20\n",
        "X_data, Y_data = make_sequene_dataset(npX, npY, window_size)\n",
        "print(X_data.shape, Y_data.shape)"
      ],
      "metadata": {
        "id": "9ggCGOZ66LsK"
      },
      "execution_count": null,
      "outputs": []
    },
    {
      "cell_type": "code",
      "source": [
        "# 테스트 데이터 분리 - 넘파이 슬라이싱 기능을 사용해 데이터를 분리한다.\n",
        "split = int(len(X_data)*0.8)\n",
        "X_train = X_data[0:split]\n",
        "y_train = Y_data[0:split]\n",
        "X_test = X_data[split:]\n",
        "y_test = Y_data[split:]\n",
        "print(X_train.shape, y_train.shape)\n",
        "print(X_test.shape, y_test.shape)\n"
      ],
      "metadata": {
        "id": "4ufbdNt96QWP"
      },
      "execution_count": null,
      "outputs": []
    },
    {
      "cell_type": "code",
      "source": [
        "# 모델 만들기\n",
        "from tensorflow import keras\n",
        "from tensorflow.keras import layers\n",
        "model = keras.Sequential()\n",
        "model.add(layers.LSTM(64, activation='tanh', input_shape=(20, 4)))\n",
        "model.add(layers.Dense(16, activation='relu'))\n",
        "model.add(layers.Dense(1))\n",
        "model.summary()"
      ],
      "metadata": {
        "id": "Z28cpQ4S6X0v"
      },
      "execution_count": null,
      "outputs": []
    },
    {
      "cell_type": "code",
      "source": [
        "# 모델 학습\n",
        "from tensorflow.keras.losses import Huber\n",
        "from keras.callbacks import EarlyStopping\n",
        "model.compile(loss='mse', optimizer='adam', metrics=['mae'])\n",
        "early_stop = EarlyStopping(monitor='val_loss', patience=10)\n",
        "EPOCHS = 100\n",
        "BATCH_SIZE = 16\n",
        "history = model.fit(X_train, y_train,\n",
        "           epochs=EPOCHS,\n",
        "           batch_size=BATCH_SIZE,\n",
        "           validation_data=(X_test, y_test),\n",
        "           callbacks=[early_stop])"
      ],
      "metadata": {
        "id": "q0bY7cvJ6bgx"
      },
      "execution_count": null,
      "outputs": []
    },
    {
      "cell_type": "code",
      "source": [
        "# 학습 곡선\n",
        "import matplotlib.pyplot as plt\n",
        "def plot_history(history):\n",
        "  his_dict = history.history\n",
        "  loss = his_dict['loss']\n",
        "  val_loss = his_dict['val_loss']\n",
        "  epochs = range(1, len(loss) + 1)\n",
        "  fig = plt.figure(figsize = (12, 5))\n",
        "  ax1 = fig.add_subplot(1, 2, 1)\n",
        "  ax1.plot(epochs, loss, 'b-', label = 'train_loss')\n",
        "  ax1.plot(epochs, val_loss, 'r-', label = 'val_loss')\n",
        "  ax1.set_title('train and val loss')\n",
        "  ax1.set_xlabel('epochs')\n",
        "  ax1.set_ylabel('loss')\n",
        "  ax1.legend()\n",
        "  acc = his_dict['mae']\n",
        "  val_acc = his_dict['val_mae']\n",
        "  ax2 = fig.add_subplot(1, 2, 2)\n",
        "  ax2.plot(epochs, acc, 'b-', label = 'train_mae')\n",
        "  ax2.plot(epochs, val_acc, 'r-', label = 'val_mae')\n",
        "  ax2.set_title('train and val mae')\n",
        "  ax2.set_xlabel('epochs')\n",
        "  ax2.set_ylabel('mae')\n",
        "  ax2.legend()\n",
        "  plt.show()\n",
        "plot_history(history)"
      ],
      "metadata": {
        "id": "x_f81nKk6gF3"
      },
      "execution_count": null,
      "outputs": []
    },
    {
      "cell_type": "code",
      "source": [
        "# 평가 및 예측 - 테스트 데이터를 사용해 평가한다.\n",
        "loss, mae = model.evaluate(X_test, y_test)"
      ],
      "metadata": {
        "id": "M5LXUjHM6igA"
      },
      "execution_count": null,
      "outputs": []
    },
    {
      "cell_type": "code",
      "source": [
        "# 테스트 데이터를 사용해 예측한다.\n",
        "y_pred = model.predict(X_test)\n",
        "for i in range(5):\n",
        "  print('Close: ', y_test[i], ' Predict: ', y_pred[i])"
      ],
      "metadata": {
        "id": "g2zZK-1U7sZJ"
      },
      "execution_count": null,
      "outputs": []
    },
    {
      "cell_type": "code",
      "source": [
        "# 결과 시각화\n",
        "plt.figure(figsize=(12, 6))\n",
        "plt.ylabel('Close')\n",
        "plt.xlabel('period')\n",
        "plt.plot(y_test[20:], label='actual')\n",
        "plt.plot(y_pred, label='prediction')\n",
        "plt.grid()\n",
        "plt.legend(loc='best')\n",
        "plt.show()"
      ],
      "metadata": {
        "id": "I9oUn4PU7ywD"
      },
      "execution_count": null,
      "outputs": []
    },
    {
      "cell_type": "code",
      "source": [
        "# MAPE(평균 절대값 백분율 오차)\n",
        "# MAPE는\t퍼센트\t값을\t가지며\t0에\t가까울수록\t회귀\t모형의\t성능이\t좋다\n",
        "\n",
        "loss, mae = model.evaluate(X_test, y_test)"
      ],
      "metadata": {
        "id": "x5qnu1XR73j0"
      },
      "execution_count": null,
      "outputs": []
    },
    {
      "cell_type": "code",
      "source": [
        "# 테스트 데이터를 사용해 예측한다.\n",
        "mape1 = np.sum(abs(y_test-y_pred)/y_test) / len(X_test)\n",
        "print(mape1)"
      ],
      "metadata": {
        "id": "ga4Vfqj68CXv"
      },
      "execution_count": null,
      "outputs": []
    },
    {
      "cell_type": "markdown",
      "source": [
        "# 멀티레이어 LSTM\n"
      ],
      "metadata": {
        "id": "_nu4xMKB8JmN"
      }
    },
    {
      "cell_type": "code",
      "source": [
        "# 모델 만들기\n",
        "# LSTM을\t여러층을\t사용할\t경우는\treturn_sequences=True의\t설정이\t필요\n",
        "from tensorflow import keras\n",
        "from tensorflow.keras import layers\n",
        "model = keras.Sequential()\n",
        "model.add(layers.LSTM(64, activation='tanh',\n",
        "                      return_sequences=True,\n",
        "                      input_shape=(20, 4)))\n",
        "model.add(layers.LSTM(128, activation='tanh',\n",
        "                      return_sequences=False))\n",
        "model.add(layers.Dense(16, activation='relu'))\n",
        "model.add(layers.Dense(1))\n",
        "model.summary()"
      ],
      "metadata": {
        "id": "54ZZdyyf8HNM"
      },
      "execution_count": null,
      "outputs": []
    },
    {
      "cell_type": "code",
      "source": [
        "# 모델의 학습 - 시퀀스데이터의 학습에 성능이 좋은 Huber를 손실함수로 사용한다.\n",
        "from tensorflow.keras.losses import Huber\n",
        "from keras.callbacks import EarlyStopping\n",
        "model.compile(loss=Huber(), optimizer='adam', metrics=['mae'])\n",
        "early_stop = EarlyStopping(monitor='val_loss', patience=10)\n",
        "EPOCHS = 100\n",
        "BATCH_SIZE = 16\n",
        "history = model.fit(X_train, y_train,\n",
        "           epochs=EPOCHS,\n",
        "           batch_size=BATCH_SIZE,\n",
        "           validation_data=(X_test, y_test),\n",
        "           callbacks=[early_stop])"
      ],
      "metadata": {
        "id": "VED6Z6RcFRvG"
      },
      "execution_count": null,
      "outputs": []
    },
    {
      "cell_type": "code",
      "source": [
        "# 예측\n",
        "y_pred = model.predict(X_test)\n",
        "for i in range(5):\n",
        "   print('Close: ', y_test[i], ' Predict: ', y_pred[i])"
      ],
      "metadata": {
        "id": "o22VVQp4FcPZ"
      },
      "execution_count": null,
      "outputs": []
    },
    {
      "cell_type": "code",
      "source": [
        "# 결과의 시각화\n",
        "plt.figure(figsize=(12, 6))\n",
        "plt.ylabel('Close')\n",
        "plt.xlabel('period')\n",
        "plt.plot(y_test[20:], label='actual')\n",
        "plt.plot(y_pred, label='prediction')\n",
        "plt.grid()\n",
        "plt.legend(loc='best')\n",
        "plt.show()"
      ],
      "metadata": {
        "id": "MpnPwTJVFqFN"
      },
      "execution_count": null,
      "outputs": []
    },
    {
      "cell_type": "code",
      "source": [
        "# MAPE 계산\n",
        "mape2 = np.sum(abs(y_test-y_pred)/y_test) / len(y_test)"
      ],
      "metadata": {
        "id": "9MHNpepdHBoR"
      },
      "execution_count": null,
      "outputs": []
    },
    {
      "cell_type": "code",
      "source": [
        "# MAPE 비교\n",
        "print('MAPE 1 : ', mape1)\n",
        "print('MAPE 2 : ', mape2)"
      ],
      "metadata": {
        "id": "DM5Pji-rHGQM"
      },
      "execution_count": null,
      "outputs": []
    },
    {
      "cell_type": "markdown",
      "source": [
        "# RNN으로 이미지 분류"
      ],
      "metadata": {
        "id": "AWGZN6fXHLF9"
      }
    },
    {
      "cell_type": "code",
      "source": [
        "# 데이터 준비\n",
        "from tensorflow.keras.datasets import mnist\n",
        "(X_train, y_train), (X_test, y_test) = mnist.load_data()\n",
        "print(X_train.shape, y_train.shape)\n",
        "print(X_test.shape, y_test.shape)"
      ],
      "metadata": {
        "id": "JzDcYEajHJ4n"
      },
      "execution_count": null,
      "outputs": []
    },
    {
      "cell_type": "code",
      "source": [
        "# 데이터 표시\n",
        "import matplotlib.pyplot as plt\n",
        "_, axes = plt.subplots(nrows=1, ncols=3, figsize=(15, 7))\n",
        "for ax, image, label in zip(axes, X_train, y_train):\n",
        "    ax.set_axis_off()\n",
        "    ax.imshow(image, cmap='gray')\n",
        "    ax.set_title(label)"
      ],
      "metadata": {
        "id": "FIcL5GToHUZS"
      },
      "execution_count": null,
      "outputs": []
    },
    {
      "cell_type": "code",
      "source": [
        "# 정규화\n",
        "import numpy as np\n",
        "\n",
        "X_train = X_train/255.\n",
        "X_test = X_test/255.\n",
        "print(np.min(X_train), np.max(X_train))"
      ],
      "metadata": {
        "id": "CyMhlVkpHfXm"
      },
      "execution_count": null,
      "outputs": []
    },
    {
      "cell_type": "code",
      "source": [
        "# 원-핫 인코딩\n",
        "from tensorflow.keras.utils import to_categorical\n",
        "y_train_oh = to_categorical(y_train)\n",
        "y_test_oh = to_categorical(y_test)\n",
        "y_train_oh[:5]"
      ],
      "metadata": {
        "id": "-Pke5BzaHbFl"
      },
      "execution_count": null,
      "outputs": []
    },
    {
      "cell_type": "code",
      "source": [
        "#  모델 만들기\n",
        "from tensorflow import keras\n",
        "from tensorflow.keras import layers\n",
        "model = keras.Sequential([\n",
        "   layers.LSTM(64, input_shape=(28, 28)),\n",
        "   layers.Dense(10, activation='softmax')\n",
        "])\n",
        "model.summary()"
      ],
      "metadata": {
        "id": "wAKDKiteHwJI"
      },
      "execution_count": null,
      "outputs": []
    },
    {
      "cell_type": "code",
      "source": [
        "# 모델 학습\n",
        "model.compile(loss='categorical_crossentropy',\n",
        "        optimizer='adam',\n",
        "        metrics=['accuracy'])\n",
        "epochs = 30\n",
        "batch_size = 64\n",
        "history = model.fit(X_train, y_train_oh,\n",
        "           validation_data=(X_test, y_test_oh),\n",
        "           epochs=epochs,\n",
        "           batch_size=batch_size,\n",
        "           verbose=1)"
      ],
      "metadata": {
        "id": "BC0z4xlXHz_1"
      },
      "execution_count": null,
      "outputs": []
    },
    {
      "cell_type": "code",
      "source": [
        "plot_history(history)"
      ],
      "metadata": {
        "id": "qBe7GZKHH3cs"
      },
      "execution_count": null,
      "outputs": []
    }
  ]
}
