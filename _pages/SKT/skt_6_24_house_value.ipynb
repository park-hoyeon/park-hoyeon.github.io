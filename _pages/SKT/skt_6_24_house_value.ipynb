{
  "nbformat": 4,
  "nbformat_minor": 0,
  "metadata": {
    "colab": {
      "private_outputs": true,
      "provenance": [],
      "authorship_tag": "ABX9TyNDjXXAeCqzgnCtsq3Mgpv9",
      "include_colab_link": true
    },
    "kernelspec": {
      "name": "python3",
      "display_name": "Python 3"
    },
    "language_info": {
      "name": "python"
    }
  },
  "cells": [
    {
      "cell_type": "markdown",
      "metadata": {
        "id": "view-in-github",
        "colab_type": "text"
      },
      "source": [
        "<a href=\"https://colab.research.google.com/github/park-hoyeon/park-hoyeon.github.io/blob/master/skt_6_24_house_value.ipynb\" target=\"_parent\"><img src=\"https://colab.research.google.com/assets/colab-badge.svg\" alt=\"Open In Colab\"/></a>"
      ]
    },
    {
      "cell_type": "code",
      "execution_count": null,
      "metadata": {
        "id": "vhhyl4VDMRIR"
      },
      "outputs": [],
      "source": [
        "import seaborn as sns\n",
        "import pandas as pd\n",
        "import matplotlib.pyplot as plt\n",
        "\n",
        "tips = pd.read_csv('./tips.csv')\n",
        "sns.countplot(data=tips, x='day')\n",
        "plt.show()"
      ]
    },
    {
      "cell_type": "code",
      "source": [
        "x = tips['day'].value_counts()\n",
        "print(x)"
      ],
      "metadata": {
        "id": "TYDbTC9CXSUk"
      },
      "execution_count": null,
      "outputs": []
    },
    {
      "cell_type": "code",
      "source": [
        " sns.countplot(data=tips, x='day', hue='smoker')\n",
        " plt.show()"
      ],
      "metadata": {
        "id": "6BCyd985XWtt"
      },
      "execution_count": null,
      "outputs": []
    },
    {
      "cell_type": "code",
      "source": [
        "tips.head()"
      ],
      "metadata": {
        "id": "7w0AEkE9Xdi7"
      },
      "execution_count": null,
      "outputs": []
    },
    {
      "cell_type": "code",
      "source": [
        "sns.histplot(x='total_bill', data=tips)\n",
        "plt.show()"
      ],
      "metadata": {
        "id": "cfG386_LXqfz"
      },
      "execution_count": null,
      "outputs": []
    },
    {
      "cell_type": "code",
      "source": [
        "sns.histplot(data=tips, x='total_bill', bins=10)\n",
        "plt.show()"
      ],
      "metadata": {
        "id": "UyrdbJOjYBcM"
      },
      "execution_count": null,
      "outputs": []
    },
    {
      "cell_type": "code",
      "source": [
        "sns.histplot(data=tips, x='total_bill', bins=10, kde=True)\n",
        "plt.show()"
      ],
      "metadata": {
        "id": "_ha5Y5eKYK7V"
      },
      "execution_count": null,
      "outputs": []
    },
    {
      "cell_type": "code",
      "source": [
        "sns.boxplot(x='smoker', y='total_bill', data=tips)\n",
        "plt.show()"
      ],
      "metadata": {
        "id": "35slgbmfYWoc"
      },
      "execution_count": null,
      "outputs": []
    },
    {
      "cell_type": "code",
      "source": [
        "df = tips.select_dtypes(['number'])\n",
        "df.head()"
      ],
      "metadata": {
        "id": "lJOY6P86YsOt"
      },
      "execution_count": null,
      "outputs": []
    },
    {
      "cell_type": "code",
      "source": [
        "x = df.corr()\n",
        "sns.heatmap(x, annot=True, cmap='viridis')\n",
        "plt.show()"
      ],
      "metadata": {
        "id": "lAl5Dv_yZK6D"
      },
      "execution_count": null,
      "outputs": []
    },
    {
      "cell_type": "code",
      "source": [
        "g = sns.FacetGrid(tips, col=\"time\",  row=\"sex\")\n",
        "g.map(sns.scatterplot, \"total_bill\", \"tip\")\n",
        "plt.show()"
      ],
      "metadata": {
        "id": "4M6zj-QcZjSP"
      },
      "execution_count": null,
      "outputs": []
    },
    {
      "cell_type": "code",
      "source": [
        "import pandas as pd\n",
        "import numpy as np\n",
        "import matplotlib.pyplot as plt\n",
        "import seaborn as sns\n",
        "\n",
        "file_path = './housing.csv'\n",
        "\n",
        "df = pd.read_csv(file_path)\n",
        "\n",
        "print(\"데이터 샘플 (상위 5개):\")\n",
        "print(df.head())\n",
        "\n",
        "print(\"\\n데이터 기본 정보:\")\n",
        "df.info()"
      ],
      "metadata": {
        "id": "XinR-jbZaYb9"
      },
      "execution_count": null,
      "outputs": []
    },
    {
      "cell_type": "code",
      "source": [
        "# total_bedrooms의 중앙값 계산\n",
        "median_bedrooms = df['total_bedrooms'].median()\n",
        "\n",
        "# 결측치를 중앙값으로 채우기 (inplace=True는 원본 DataFrame을 바로 수정)\n",
        "df['total_bedrooms'].fillna(median_bedrooms, inplace=True)\n",
        "\n",
        "# 결측치가 처리되었는지 다시 확인\n",
        "print(\"\\n결측치 처리 후 데이터 정보:\")\n",
        "df.info()"
      ],
      "metadata": {
        "id": "b71dkshSbgs8"
      },
      "execution_count": null,
      "outputs": []
    },
    {
      "cell_type": "code",
      "source": [
        "# 수치형 데이터의 기술 통계량 확인\n",
        "print(df.describe())"
      ],
      "metadata": {
        "id": "pvujbNMvaB7f"
      },
      "execution_count": null,
      "outputs": []
    },
    {
      "cell_type": "code",
      "source": [
        "# 전체 수치형 변수에 대한 히스토그램 그리기\n",
        "df.hist(bins=50, figsize=(20, 15))\n",
        "plt.suptitle(\"Distribution of Numerical Features\", size=20)\n",
        "plt.tight_layout(rect=[0, 0.03, 1, 0.95]) # suptitle과 겹치지 않도록 조정\n",
        "plt.show()"
      ],
      "metadata": {
        "id": "P6wxAhSJbbjq"
      },
      "execution_count": null,
      "outputs": []
    },
    {
      "cell_type": "code",
      "source": [
        "# ocean_proximity 변수의 카테고리별 개수 확인\n",
        "print(df['ocean_proximity'].value_counts())\n",
        "\n",
        "# countplot으로 시각화\n",
        "plt.figure(figsize=(8, 6))\n",
        "sns.countplot(y='ocean_proximity', data=df, order=df['ocean_proximity'].value_counts().index)\n",
        "plt.title('Count of Properties by Ocean Proximity')\n",
        "plt.show()"
      ],
      "metadata": {
        "id": "Vrek_G4AcVTT"
      },
      "execution_count": null,
      "outputs": []
    },
    {
      "cell_type": "code",
      "source": [
        "# 새로운 비율 기반 변수 생성\n",
        "df['rooms_per_household'] = df['total_rooms'] / df['households']\n",
        "df['bedrooms_per_room'] = df['total_bedrooms'] / df['total_rooms']\n",
        "df['population_per_household'] = df['population'] / df['households']\n",
        "\n",
        "# 새로 생성된 변수를 포함하여 다시 통계량 확인\n",
        "print(df[['rooms_per_household', 'bedrooms_per_room', 'population_per_household']].describe())"
      ],
      "metadata": {
        "id": "inRx_cbNcaez"
      },
      "execution_count": null,
      "outputs": []
    },
    {
      "cell_type": "code",
      "source": [
        "# 상관관계 행렬 계산 (수치형 데이터만 대상)\n",
        "corr_matrix = df.corr(numeric_only=True)\n",
        "\n",
        "# median_house_value와의 상관관계가 높은 순으로 정렬하여 확인\n",
        "print(corr_matrix['median_house_value'].sort_values(ascending=False))\n",
        "\n",
        "# 히트맵으로 전체 상관관계 시각화\n",
        "plt.figure(figsize=(14, 10))\n",
        "sns.heatmap(corr_matrix, annot=True, fmt='.2f', cmap='coolwarm')\n",
        "plt.title('Correlation Matrix of Housing Features')\n",
        "plt.show()"
      ],
      "metadata": {
        "id": "O9xyGE-wceHF"
      },
      "execution_count": null,
      "outputs": []
    },
    {
      "cell_type": "code",
      "source": [
        "# 소득과 주택 가격의 관계 시각화\n",
        "plt.figure(figsize=(10, 6))\n",
        "sns.scatterplot(x='median_income', y='median_house_value', data=df, alpha=0.1)\n",
        "plt.title('Median House Value vs. Median Income')\n",
        "plt.show()"
      ],
      "metadata": {
        "id": "DvGoJy0EcjYk"
      },
      "execution_count": null,
      "outputs": []
    },
    {
      "cell_type": "code",
      "source": [
        "import folium\n",
        "import branca.colormap as cm\n",
        "\n",
        "# 1. ColorMap 만들기\n",
        "min_price = df[\"median_house_value\"].min()\n",
        "max_price = df[\"median_house_value\"].max()\n",
        "\n",
        "colormap = cm.LinearColormap(colors=['blue', 'green', 'yellow', 'red'],\n",
        "                             vmin=min_price, vmax=max_price)\n",
        "\n",
        "# 지도 생성\n",
        "m = folium.Map(location=[37, -119], zoom_start=6)\n",
        "\n",
        "# 마커 추가\n",
        "for _, row in df.iterrows():\n",
        "    price = row[\"median_house_value\"]\n",
        "    color = colormap(price)  # 가격에 따라 색상 결정\n",
        "\n",
        "    folium.CircleMarker(\n",
        "        location=[row[\"latitude\"], row[\"longitude\"]],\n",
        "        radius=min(row[\"population\"]/1000, 10),\n",
        "        color=color,\n",
        "        fill=True,\n",
        "        fill_color=color,\n",
        "        fill_opacity=0.6,\n",
        "        popup=f\"${price:,.0f}\"\n",
        "    ).add_to(m)\n",
        "\n",
        "# ColorMap(범례) 추가\n",
        "colormap.caption = \"Median House Value\"\n",
        "colormap.add_to(m)\n",
        "\n",
        "# 지도 출력\n",
        "m\n"
      ],
      "metadata": {
        "id": "UbwxB2PVcxad"
      },
      "execution_count": null,
      "outputs": []
    }
  ]
}
