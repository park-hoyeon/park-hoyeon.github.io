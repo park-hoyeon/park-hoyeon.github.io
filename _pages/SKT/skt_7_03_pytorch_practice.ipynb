{
  "nbformat": 4,
  "nbformat_minor": 0,
  "metadata": {
    "colab": {
      "private_outputs": true,
      "provenance": [],
      "authorship_tag": "ABX9TyNh671M0iyPuAa3FoV5p2F7",
      "include_colab_link": true
    },
    "kernelspec": {
      "name": "python3",
      "display_name": "Python 3"
    },
    "language_info": {
      "name": "python"
    }
  },
  "cells": [
    {
      "cell_type": "markdown",
      "metadata": {
        "id": "view-in-github",
        "colab_type": "text"
      },
      "source": [
        "<a href=\"https://colab.research.google.com/github/park-hoyeon/park-hoyeon.github.io/blob/master/skt_7_03_pytorch_practice.ipynb\" target=\"_parent\"><img src=\"https://colab.research.google.com/assets/colab-badge.svg\" alt=\"Open In Colab\"/></a>"
      ]
    },
    {
      "cell_type": "code",
      "execution_count": null,
      "metadata": {
        "id": "dwZ1ZSmS0AC3"
      },
      "outputs": [],
      "source": [
        "import torch"
      ]
    },
    {
      "cell_type": "code",
      "source": [
        "import torchvision.transforms as transforms"
      ],
      "metadata": {
        "id": "gDhOJ9bd0My7"
      },
      "execution_count": null,
      "outputs": []
    },
    {
      "cell_type": "code",
      "source": [
        "mnist_transform = transforms.Compose([\n",
        "    transforms.ToTensor(),\n",
        "    transforms.Normalize((0.5),(1.0))\n",
        "])"
      ],
      "metadata": {
        "id": "UiWW6xIi0Ueb"
      },
      "execution_count": null,
      "outputs": []
    },
    {
      "cell_type": "code",
      "source": [
        "from torchvision.datasets import MNIST\n",
        "import requests\n",
        "\n",
        "download_root = '../chap02/data/MNIST_DATASET'"
      ],
      "metadata": {
        "id": "RnfC9syC0WL0"
      },
      "execution_count": null,
      "outputs": []
    },
    {
      "cell_type": "code",
      "source": [
        "train_dataset = MNIST(download_root, transform=mnist_transform, train = True, download=True)\n",
        "valid_dataset = MNIST(download_root, transform=mnist_transform, train = False, download=True)\n",
        "test_dataset = MNIST(download_root, transform=mnist_transform, train = False, download=True)"
      ],
      "metadata": {
        "id": "g0ofYOLt0cZZ"
      },
      "execution_count": null,
      "outputs": []
    },
    {
      "cell_type": "code",
      "source": [
        "import torch.nn as nn\n",
        "model = nn.Linear(in_features=1, out_features=1, bias=True)"
      ],
      "metadata": {
        "id": "NqORfhtQ0mHG"
      },
      "execution_count": null,
      "outputs": []
    },
    {
      "cell_type": "code",
      "source": [
        "class MLP(nn.Module):\n",
        "    def __init__(self, inputs):\n",
        "        super(MLP, self).__init__()\n",
        "        self.layer = Linear(inputs, 1)\n",
        "        self.activation = Sigmoid()\n",
        "\n",
        "    def forward(self, X):\n",
        "        X = self.layer(X)\n",
        "        X = self.activation(X)\n",
        "        return X"
      ],
      "metadata": {
        "id": "uIdjU_L40n76"
      },
      "execution_count": null,
      "outputs": []
    },
    {
      "cell_type": "code",
      "source": [
        "import torch.nn as nn\n",
        "class MLP(nn.Module):\n",
        "    def __init__(self):\n",
        "        super(MLP, self).__init__()\n",
        "        self.layer1 = nn.Sequential(\n",
        "        nn.Conv2d(in_channels=1, out_channels=64, kernel_size=5),\n",
        "        nn.ReLU(inplace=True),\n",
        "        nn.MaxPool2d(2))\n",
        "\n",
        "        self.layer2 = nn.Sequential(\n",
        "        nn.Conv2d(in_channels=64, out_channels=30, kernel_size=5),\n",
        "        nn.ReLU(inplace=True),\n",
        "        nn.MaxPool2d(2))\n",
        "\n",
        "        self.layer3 = nn.Sequential(\n",
        "        nn.Linear(in_features=30*4*4, out_features=10, bias=True),\n",
        "        nn.ReLU(inplace=True))\n",
        "\n",
        "    def forward(self, x):\n",
        "        x = self.layer1(x)\n",
        "        x = self.layer2(x)\n",
        "        x = x.view(x.shape[0], -1)\n",
        "        x = self.layer3(x)\n",
        "        return x\n",
        "\n",
        "model = MLP()"
      ],
      "metadata": {
        "id": "i_iWSqtX0pEc"
      },
      "execution_count": null,
      "outputs": []
    },
    {
      "cell_type": "code",
      "source": [
        "print(list(model.modules()))"
      ],
      "metadata": {
        "id": "e7U1jx0n0qa2"
      },
      "execution_count": null,
      "outputs": []
    },
    {
      "cell_type": "code",
      "source": [
        "print(list(model.children()))"
      ],
      "metadata": {
        "id": "T7RWnyif0sNp"
      },
      "execution_count": null,
      "outputs": []
    },
    {
      "cell_type": "code",
      "source": [
        "import torch\n",
        "from torch.optim import optimizer\n",
        "from torch.utils.data import DataLoader\n",
        "\n",
        "criterion = torch.nn.CrossEntropyLoss()\n",
        "optimizer = torch.optim.SGD(model.parameters(), lr=0.01, momentum=0.9)\n",
        "scheduler = torch.optim.lr_scheduler.LambdaLR(optimizer=optimizer, lr_lambda=lambda epoch: 0.95 ** epoch)"
      ],
      "metadata": {
        "id": "_9Edd4vL0t-v"
      },
      "execution_count": null,
      "outputs": []
    },
    {
      "cell_type": "code",
      "source": [
        "dataloader = DataLoader(train_dataset, batch_size=64, shuffle=True) #train_loader"
      ],
      "metadata": {
        "id": "WIvRBu0A0vfY"
      },
      "execution_count": null,
      "outputs": []
    },
    {
      "cell_type": "code",
      "source": [
        "for epoch in range(1, 100+1):\n",
        "    for x, y in dataloader:\n",
        "        optimizer.zero_grad()\n",
        "        criterion(model(x), y).backward()\n",
        "        optimizer.step()\n",
        "    scheduler.step()"
      ],
      "metadata": {
        "id": "Rz0UXT4K0xBX"
      },
      "execution_count": null,
      "outputs": []
    },
    {
      "cell_type": "code",
      "source": [
        "for epoch in range(100):\n",
        "    yhat = model(x_train)\n",
        "    loss = criterion(yhat, y_train)\n",
        "    optimizer.zero_grad()\n",
        "    loss.backward()\n",
        "    optimizer.step()"
      ],
      "metadata": {
        "id": "M1uO57LM0yUE"
      },
      "execution_count": null,
      "outputs": []
    },
    {
      "cell_type": "markdown",
      "source": [
        "# 간단한 실습\n"
      ],
      "metadata": {
        "id": "rkaG57OC1_RH"
      }
    },
    {
      "cell_type": "code",
      "source": [
        "import torch\n",
        "import torch.nn as nn\n",
        "import torch.optim as optim\n",
        "from torchvision import datasets, transforms\n",
        "from torch.utils.data import DataLoader\n",
        "\n",
        "batch_size = 64\n",
        "learning_rate = 0.001\n",
        "num_epochs = 5\n",
        "\n",
        "train_loader = DataLoader(dataset=train_dataset, batch_size=batch_size, shuffle=True)\n",
        "valid_loader = DataLoader(dataset=valid_dataset, batch_size=batch_size, shuffle=True)\n",
        "test_loader = DataLoader(dataset=test_dataset, batch_size=batch_size, shuffle=True)"
      ],
      "metadata": {
        "id": "oAt5PcbH1W9U"
      },
      "execution_count": null,
      "outputs": []
    },
    {
      "cell_type": "code",
      "source": [
        "class SimpleNN(nn.Module):\n",
        "    def __init__(self):\n",
        "        super(SimpleNN, self).__init__()\n",
        "        self.fc1 = nn.Linear(28*28, 128)\n",
        "        self.fc2 = nn.Linear(128, 64)\n",
        "        self.fc3 = nn.Linear(64, 10)\n",
        "\n",
        "    def forward(self, x):\n",
        "        x = x.view(-1, 28 * 28)  # 2D 이미지를 1D로 변환\n",
        "        x = torch.relu(self.fc1(x))  # 활성화 함수\n",
        "        x = torch.relu(self.fc2(x))\n",
        "        x = self.fc3(x)\n",
        "        return x"
      ],
      "metadata": {
        "id": "cEY1v86v17yx"
      },
      "execution_count": null,
      "outputs": []
    },
    {
      "cell_type": "code",
      "source": [
        "model = SimpleNN().to(device='cpu')\n",
        "criterion = nn.CrossEntropyLoss()\n",
        "optimizer = optim.Adam(model.parameters(), lr=learning_rate)"
      ],
      "metadata": {
        "id": "oG2jhrgo2BD8"
      },
      "execution_count": null,
      "outputs": []
    },
    {
      "cell_type": "code",
      "source": [
        "# 모델 학습 (only train)\n",
        "for epoch in range(num_epochs):\n",
        "    for images, labels in train_loader:\n",
        "        images, labels = images.to(device='cpu'), labels.to(device='cpu')\n",
        "        optimizer.zero_grad()  # 기울기 초기화\n",
        "        outputs = model(images)  # 모델 예측\n",
        "        loss = criterion(outputs, labels)  # 손실 계산\n",
        "        loss.backward()  # 역전파\n",
        "        optimizer.step()  # 가중치 업데이트\n",
        "\n",
        "    print(f'Epoch [{epoch+1}/{num_epochs}], Loss: {loss.item():.4f}')\n",
        "\n",
        "print(\"모델 학습 완료!\")"
      ],
      "metadata": {
        "id": "LDuFzHfE2ESB"
      },
      "execution_count": null,
      "outputs": []
    },
    {
      "cell_type": "code",
      "source": [
        "# 모델 평가\n",
        "model.eval()  # 평가 모드로 전환\n",
        "correct = 0\n",
        "total = 0\n",
        "\n",
        "with torch.no_grad():  # 기울기 계산 비활성화\n",
        "    for images, labels in test_loader:  # 테스트 데이터 로더에서 배치 가져오기\n",
        "        images, labels = images.to(device='cpu'), labels.to(device='cpu')  # 데이터 이동\n",
        "        outputs = model(images)  # 모델 예측\n",
        "        _, predicted = torch.max(outputs.data, 1)  # 예측된 클래스\n",
        "        total += labels.size(0)  # 총 샘플 수\n",
        "        correct += (predicted == labels).sum().item()  # 올바른 예측 수\n",
        "\n",
        "accuracy = 100 * correct / total  # 정확도 계산\n",
        "print(f'Accuracy of the model on the test set: {accuracy:.2f}%')"
      ],
      "metadata": {
        "id": "DdYG0lOO2Fft"
      },
      "execution_count": null,
      "outputs": []
    },
    {
      "cell_type": "code",
      "source": [
        "# 모델 학습 및 평가 with valid\n",
        "for epoch in range(num_epochs):\n",
        "    model.train()  # 학습 모드로 전환\n",
        "    for images, labels in train_loader:\n",
        "        images, labels = images.to(device='cpu'), labels.to(device='cpu')\n",
        "        optimizer.zero_grad()  # 기울기 초기화\n",
        "        outputs = model(images)  # 모델 예측\n",
        "        loss = criterion(outputs, labels)  # 손실 계산\n",
        "        loss.backward()  # 역전파\n",
        "        optimizer.step()  # 가중치 업데이트\n",
        "\n",
        "    # 매 에폭마다 평가\n",
        "    model.eval()  # 평가 모드로 전환\n",
        "    correct = 0\n",
        "    total = 0\n",
        "\n",
        "    with torch.no_grad():  # 기울기 계산 비활성화\n",
        "        for images, labels in valid_loader:  # 평가 데이터 로더에서 배치 가져오기\n",
        "            images, labels = images.to(device='cpu'), labels.to(device='cpu')  # 데이터 이동\n",
        "            outputs = model(images)  # 모델 예측\n",
        "            _, predicted = torch.max(outputs.data, 1)  # 예측된 클래스\n",
        "            total += labels.size(0)  # 총 샘플 수\n",
        "            correct += (predicted == labels).sum().item()  # 올바른 예측 수\n",
        "\n",
        "    accuracy = 100 * correct / total  # 정확도 계산\n",
        "    print(f'Epoch [{epoch+1}/{num_epochs}], Loss: {loss.item():.4f}, Accuracy: {accuracy:.2f}%')\n",
        "\n",
        "print(\"모델 학습 완료!\")"
      ],
      "metadata": {
        "id": "7yFE89LZ2hHm"
      },
      "execution_count": null,
      "outputs": []
    },
    {
      "cell_type": "code",
      "source": [
        "!pip install torchmetrics"
      ],
      "metadata": {
        "id": "vq3Jv07_2wQO"
      },
      "execution_count": null,
      "outputs": []
    },
    {
      "cell_type": "code",
      "source": [
        "import torch\n",
        "import torchmetrics\n",
        "\n",
        "preds = torch.randn(10, 5).softmax(dim=-1)\n",
        "target = torch.randint(5, (10,))\n",
        "\n",
        "acc = torchmetrics.functional.accuracy(preds, target, task='multiclass', num_classes=5)\n",
        "print(f'Accuracy: {acc}')"
      ],
      "metadata": {
        "id": "D3YLEv6c3YP_"
      },
      "execution_count": null,
      "outputs": []
    },
    {
      "cell_type": "code",
      "source": [
        "metric = torchmetrics.Accuracy(task='multiclass', num_classes=5)\n",
        "\n",
        "n_batches = 10\n",
        "\n",
        "for i in range(n_batches):\n",
        "    preds = torch.randn(10, 5).softmax(dim=-1)\n",
        "    target = torch.randint(5, (10,))\n",
        "\n",
        "    acc = metric(preds, target)\n",
        "    print(f'Accuracy on batch {i}: {acc}')\n",
        "\n",
        "acc = metric.compute()\n",
        "print(f'Accuracy on all data: {acc}')"
      ],
      "metadata": {
        "id": "cj4wu4jM38YR"
      },
      "execution_count": null,
      "outputs": []
    },
    {
      "cell_type": "markdown",
      "source": [
        "# Practice2"
      ],
      "metadata": {
        "id": "qcR65DDcF0fd"
      }
    },
    {
      "cell_type": "code",
      "source": [],
      "metadata": {
        "id": "aFAna0iy4Uz3"
      },
      "execution_count": null,
      "outputs": []
    }
  ]
}
