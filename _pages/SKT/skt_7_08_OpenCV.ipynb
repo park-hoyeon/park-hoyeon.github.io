{
  "nbformat": 4,
  "nbformat_minor": 0,
  "metadata": {
    "colab": {
      "private_outputs": true,
      "provenance": [],
      "authorship_tag": "ABX9TyO7Cz3owmtPBaN1db4gddZJ",
      "include_colab_link": true
    },
    "kernelspec": {
      "name": "python3",
      "display_name": "Python 3"
    },
    "language_info": {
      "name": "python"
    }
  },
  "cells": [
    {
      "cell_type": "markdown",
      "metadata": {
        "id": "view-in-github",
        "colab_type": "text"
      },
      "source": [
        "<a href=\"https://colab.research.google.com/github/park-hoyeon/park-hoyeon.github.io/blob/master/skt_7_08_OpenCV.ipynb\" target=\"_parent\"><img src=\"https://colab.research.google.com/assets/colab-badge.svg\" alt=\"Open In Colab\"/></a>"
      ]
    },
    {
      "cell_type": "markdown",
      "source": [
        "# Geometric Transformations (기하 변환)\n"
      ],
      "metadata": {
        "id": "q7ISq7N5VviW"
      }
    },
    {
      "cell_type": "code",
      "source": [
        "# 예시: messi5.jpg를 불러와 2배 확대\n",
        "!wget -q https://raw.githubusercontent.com/opencv/opencv/master/samples/data/messi5.jpg -O messi5.jpg\n",
        "import cv2 as cv\n",
        "import numpy as np\n",
        "import matplotlib.pyplot as plt\n",
        "import os\n",
        "img_path = 'messi5.jpg'\n",
        "if not os.path.exists(img_path):\n",
        "    print(\"messi5.jpg not found. Please upload or replace.\")\n",
        "else:\n",
        "    img = cv.imread(img_path)\n",
        "    if img is None:\n",
        "        print(\"Could not read image.\")\n",
        "    else:\n",
        "        # 방법 1: fx, fy 지정\n",
        "        res1 = cv.resize(img, None, fx=2, fy=2, interpolation=cv.INTER_CUBIC)\n",
        "        # 방법 2: (width, height) 직접 지정\n",
        "        h, w = img.shape[:2]\n",
        "        new_size = (2*w, 2*h)\n",
        "        res2 = cv.resize(img, new_size, interpolation=cv.INTER_CUBIC)\n",
        "        print(\"Original:\", img.shape)\n",
        "        print(\"Resized x2 #1:\", res1.shape)\n",
        "        print(\"Resized x2 #2:\", res2.shape)\n",
        "        plt.figure(figsize=(12,6))\n",
        "        plt.subplot(1,3,1)\n",
        "        plt.title('Original')\n",
        "        plt.imshow(cv.cvtColor(img, cv.COLOR_BGR2RGB))\n",
        "        plt.axis('off')\n",
        "        plt.subplot(1,3,2)\n",
        "        plt.title('Resized x2 (Method1)')\n",
        "        plt.imshow(cv.cvtColor(res1, cv.COLOR_BGR2RGB))\n",
        "        plt.axis('off')\n",
        "        plt.subplot(1,3,3)\n",
        "        plt.title('Resized x2 (Method2)')\n",
        "        plt.imshow(cv.cvtColor(res2, cv.COLOR_BGR2RGB))\n",
        "        plt.axis('off')\n",
        "        plt.tight_layout()\n",
        "        plt.show()"
      ],
      "metadata": {
        "id": "n0fuBrZAVvz2"
      },
      "execution_count": null,
      "outputs": []
    },
    {
      "cell_type": "code",
      "source": [
        "# 예시: messi5.jpg를 (tx=100, ty=50)만큼 이동\n",
        "img_path = 'messi5.jpg'\n",
        "if not os.path.exists(img_path):\n",
        "    print(\"messi5.jpg not found.\")\n",
        "else:\n",
        "    img = cv.imread(img_path, cv.IMREAD_GRAYSCALE)\n",
        "    if img is None:\n",
        "        print(\"Could not read image.\")\n",
        "    else:\n",
        "        rows, cols = img.shape[:2]\n",
        "        tx, ty = 100, 50\n",
        "        M = np.float32([[1,0,tx],[0,1,ty]])\n",
        "        translated = cv.warpAffine(img, M, (cols, rows))\n",
        "        plt.figure(figsize=(10,5))\n",
        "        plt.subplot(1,2,1)\n",
        "        plt.title('Original')\n",
        "        plt.imshow(img, cmap='gray')\n",
        "        plt.axis('off')\n",
        "        plt.subplot(1,2,2)\n",
        "        plt.title(f'Translated ({tx},{ty})')\n",
        "        plt.imshow(translated, cmap='gray')\n",
        "        plt.axis('off')\n",
        "        plt.tight_layout()\n",
        "        plt.show()"
      ],
      "metadata": {
        "id": "zHWq0in4a0eA"
      },
      "execution_count": null,
      "outputs": []
    },
    {
      "cell_type": "code",
      "source": [
        "# 예시: messi5.jpg를 (tx=100, ty=50)만큼 이동\n",
        "img_path = 'messi5.jpg'\n",
        "if not os.path.exists(img_path):\n",
        "    print(\"messi5.jpg not found.\")\n",
        "else:\n",
        "    img = cv.imread(img_path, cv.IMREAD_GRAYSCALE)\n",
        "    if img is None:\n",
        "        print(\"Could not read image.\")\n",
        "    else:\n",
        "        rows, cols = img.shape[:2]\n",
        "        tx, ty = 100, 50\n",
        "        M = np.float32([[1,0,tx],[0,1,ty]])\n",
        "        translated = cv.warpAffine(img, M, (cols, rows))\n",
        "        plt.figure(figsize=(10,5))\n",
        "        plt.subplot(1,2,1)\n",
        "        plt.title('Original')\n",
        "        plt.imshow(img, cmap='gray')\n",
        "        plt.axis('off')\n",
        "        plt.subplot(1,2,2)\n",
        "        plt.title(f'Translated ({tx},{ty})')\n",
        "        plt.imshow(translated, cmap='gray')\n",
        "        plt.axis('off')\n",
        "        plt.tight_layout()\n",
        "        plt.show()"
      ],
      "metadata": {
        "id": "TZdn4xvpcKCK"
      },
      "execution_count": null,
      "outputs": []
    },
    {
      "cell_type": "code",
      "source": [
        "# 예시: messi5.jpg를 사용해 Affine 변환 (3점 기반)\n",
        "# 간단히 좌상, 우상, 좌하 단 3점을 잡아 변환\n",
        "img_path = 'messi5.jpg'\n",
        "if not os.path.exists(img_path):\n",
        "    print(\"messi5.jpg not found.\")\n",
        "else:\n",
        "    img = cv.imread(img_path)\n",
        "    if img is None:\n",
        "        print(\"Could not read image.\")\n",
        "    else:\n",
        "        rows, cols = img.shape[:2]\n",
        "        # 예시 점 3개 (srcPoints): 왼쪽 위, 오른쪽 위, 왼쪽 아래\n",
        "        pts1 = np.float32([[0,0], [cols-1, 0], [0, rows-1]])\n",
        "        # 변환 후 목표 점 3개 (dstPoints): x, y를 조금씩 변경해 skew, translate등을 만들기\n",
        "        pts2 = np.float32([[0,50], [cols-100, 50], [50, rows-50]])\n",
        "        # 2x3 행렬 계산\n",
        "        M_aff = cv.getAffineTransform(pts1, pts2)\n",
        "        # warpAffine 적용\n",
        "        dst_aff = cv.warpAffine(img, M_aff, (cols, rows))\n",
        "        plt.figure(figsize=(10,5))\n",
        "        plt.subplot(1,2,1)\n",
        "        plt.title('Original')\n",
        "        plt.imshow(cv.cvtColor(img, cv.COLOR_BGR2RGB))\n",
        "        plt.axis('off')\n",
        "        plt.subplot(1,2,2)\n",
        "        plt.title('Affine Transformed')\n",
        "        plt.imshow(cv.cvtColor(dst_aff, cv.COLOR_BGR2RGB))\n",
        "        plt.axis('off')\n",
        "        plt.tight_layout()\n",
        "        plt.show()\n",
        "\n",
        "\n",
        "\n",
        "\n",
        "\n",
        "\n"
      ],
      "metadata": {
        "id": "yqWa7ghzch5y"
      },
      "execution_count": null,
      "outputs": []
    },
    {
      "cell_type": "code",
      "source": [
        "# 예시: sudoku.png (OpenCV 예시) -> (300x300)으로 펼치기\n",
        "!wget -q https://raw.githubusercontent.com/opencv/opencv/master/samples/data/sudoku.png -O sudoku.png\n",
        "if not os.path.exists('sudoku.png'):\n",
        "    print(\"sudoku.png not found.\")\n",
        "else:\n",
        "    img = cv.imread('sudoku.png')\n",
        "    if img is None:\n",
        "        print(\"Could not read sudoku.png.\")\n",
        "    else:\n",
        "        rows, cols = img.shape[:2]\n",
        "        # 4점(사다리꼴) -> 300x300 사각형\n",
        "        pts1 = np.float32([[56,65],[368,52],[28,387],[389,390]])\n",
        "        pts2 = np.float32([[0,0],[300,0],[0,300],[300,300]])\n",
        "        M = cv.getPerspectiveTransform(pts1, pts2)\n",
        "        dst = cv.warpPerspective(img, M, (300, 300))\n",
        "        plt.figure(figsize=(10,5))\n",
        "        plt.subplot(1,2,1)\n",
        "        plt.title('Input (Sudoku)')\n",
        "        plt.imshow(cv.cvtColor(img, cv.COLOR_BGR2RGB))\n",
        "        plt.axis('off')\n",
        "        plt.subplot(1,2,2)\n",
        "        plt.title('Output (WarpPerspective)')\n",
        "        plt.imshow(cv.cvtColor(dst, cv.COLOR_BGR2RGB))\n",
        "        plt.axis('off')\n",
        "        plt.tight_layout()\n",
        "        plt.show()\n",
        "        print(\"\\n사다리꼴 영역이 사각형으로 '펴진' 모습.\")"
      ],
      "metadata": {
        "id": "MSc8PHoedFIf"
      },
      "execution_count": null,
      "outputs": []
    },
    {
      "cell_type": "code",
      "source": [
        "!wget -q https://raw.githubusercontent.com/opencv/opencv/master/samples/data/lena.jpg -O lena.jpg\n",
        "if not os.path.exists('lena.jpg'):\n",
        "    print(\"lena.jpg not found.\")\n",
        "else:\n",
        "    img = cv.imread('lena.jpg')\n",
        "    if img is None:\n",
        "        print(\"Could not read lena.jpg.\")\n",
        "    else:\n",
        "        rows, cols = img.shape[:2]\n",
        "        img_result = img.copy()\n",
        "        # 삼각형 원본 좌표\n",
        "        src_triangle = np.float32([[50,50],[200,50],[50,200]])\n",
        "        # 삼각형 변형 후 좌표\n",
        "        dst_triangle = np.float32([[70,70],[180,60],[60,220]])\n",
        "        r1 = cv.boundingRect(src_triangle)\n",
        "        r2 = cv.boundingRect(dst_triangle)\n",
        "        src_roi_pts = np.float32([\n",
        "            [src_triangle[0][0]-r1[0], src_triangle[0][1]-r1[1]],\n",
        "            [src_triangle[1][0]-r1[0], src_triangle[1][1]-r1[1]],\n",
        "            [src_triangle[2][0]-r1[0], src_triangle[2][1]-r1[1]]\n",
        "        ])\n",
        "        dst_roi_pts = np.float32([\n",
        "            [dst_triangle[0][0]-r2[0], dst_triangle[0][1]-r2[1]],\n",
        "            [dst_triangle[1][0]-r2[0], dst_triangle[1][1]-r2[1]],\n",
        "            [dst_triangle[2][0]-r2[0], dst_triangle[2][1]-r2[1]]\n",
        "        ])\n",
        "        src_cropped = img[r1[1]:r1[1]+r1[3], r1[0]:r1[0]+r1[2]]\n",
        "        M_tri = cv.getAffineTransform(src_roi_pts, dst_roi_pts)\n",
        "        warp_cropped = cv.warpAffine(src_cropped, M_tri, (r2[2], r2[3]),\n",
        "                                     flags=cv.INTER_LINEAR,\n",
        "                                     borderMode=cv.BORDER_REFLECT_101)\n",
        "        mask = np.zeros((r2[3], r2[2], 3), dtype=np.uint8)\n",
        "        cv.fillConvexPoly(mask, np.int32(dst_roi_pts), (255,255,255), cv.LINE_AA)\n",
        "        img_roi = img_result[r2[1]:r2[1]+r2[3], r2[0]:r2[0]+r2[2]]\n",
        "        img_roi = img_roi*(1 - mask/255.0) + warp_cropped*(mask/255.0)\n",
        "        img_result[r2[1]:r2[1]+r2[3], r2[0]:r2[0]+r2[2]] = img_roi\n",
        "        # 라인 표시\n",
        "        draw_img = img.copy()\n",
        "        cv.polylines(draw_img, [np.int32(src_triangle)], True, (0,255,0), 2)\n",
        "        cv.polylines(draw_img, [np.int32(dst_triangle)], True, (255,0,0), 2)\n",
        "        plt.figure(figsize=(15,5))\n",
        "        plt.subplot(1,3,1)\n",
        "        plt.title('Original (Triangle)')\n",
        "        plt.imshow(cv.cvtColor(draw_img, cv.COLOR_BGR2RGB))\n",
        "        plt.axis('off')\n",
        "        plt.subplot(1,3,2)\n",
        "        plt.title('Warped Triangle Patch')\n",
        "        plt.imshow(cv.cvtColor(warp_cropped, cv.COLOR_BGR2RGB))\n",
        "        plt.axis('off')\n",
        "        plt.subplot(1,3,3)\n",
        "        plt.title('Result (Piecewise Affine)')\n",
        "        plt.imshow(cv.cvtColor(img_result, cv.COLOR_BGR2RGB))\n",
        "        plt.axis('off')\n",
        "        plt.tight_layout()\n",
        "        plt.show()\n",
        "        print(\"\\n한 삼각형만 변형했지만, 다수 삼각형으로 나누면 얼굴 합성이나 모핑에 활용 가능합니다.\")"
      ],
      "metadata": {
        "id": "yH9a2Y5-eRBr"
      },
      "execution_count": null,
      "outputs": []
    },
    {
      "cell_type": "markdown",
      "source": [
        "# 모폴로지 영상처리\n"
      ],
      "metadata": {
        "id": "_mCRwbfRlhiW"
      }
    },
    {
      "cell_type": "code",
      "source": [
        "!pip install opencv-python numpy matplotlib --quiet\n",
        "import cv2, numpy as np\n",
        "import matplotlib.pyplot as plt\n",
        "print(\"OpenCV version:\", cv2.__version__)"
      ],
      "metadata": {
        "id": "aZLTh36Qgb-4"
      },
      "execution_count": null,
      "outputs": []
    },
    {
      "cell_type": "code",
      "source": [
        "binary_img_path = '/content/image.png'  # Colab에 업로드한 후 경로\n",
        "img_bin = cv2.imread(binary_img_path, cv2.IMREAD_GRAYSCALE)\n",
        "if img_bin is None:\n",
        "    print(\"이미지 로드 실패: 경로 확인 필요\")\n",
        "else:\n",
        "    kernel = np.ones((5,5), np.uint8)  # 5x5 정방형 SE\n",
        "    erosion  = cv2.erode(img_bin, kernel, iterations=1)\n",
        "    dilation = cv2.dilate(img_bin, kernel, iterations=1)\n",
        "    fig, axs = plt.subplots(1,3, figsize=(16,5))\n",
        "    axs[0].imshow(img_bin,    cmap='gray'); axs[0].set_title('Original'); axs[0].axis('off')\n",
        "    axs[1].imshow(erosion,    cmap='gray'); axs[1].set_title('Erosion');  axs[1].axis('off')\n",
        "    axs[2].imshow(dilation,   cmap='gray'); axs[2].set_title('Dilation'); axs[2].axis('off')\n",
        "    plt.show()\n",
        "\n",
        "\n",
        "\n",
        "\n",
        "\n"
      ],
      "metadata": {
        "id": "IZL9rHxGm-cN"
      },
      "execution_count": null,
      "outputs": []
    },
    {
      "cell_type": "markdown",
      "source": [
        "# Opening & Closing\n",
        "\n"
      ],
      "metadata": {
        "id": "gne6i1ZxosO4"
      }
    },
    {
      "cell_type": "code",
      "source": [
        "if img_bin is not None:\n",
        "    kernel = np.ones((5,5), np.uint8)\n",
        "    opening = cv2.morphologyEx(img_bin, cv2.MORPH_OPEN, kernel)\n",
        "    closing = cv2.morphologyEx(img_bin, cv2.MORPH_CLOSE, kernel)\n",
        "    fig, axs = plt.subplots(1,3, figsize=(12,4))\n",
        "    axs[0].imshow(img_bin,    cmap='gray'); axs[0].set_title('Original'); axs[0].axis('off')\n",
        "    axs[1].imshow(opening,   cmap='gray'); axs[1].set_title('Opening');  axs[1].axis('off')\n",
        "    axs[2].imshow(closing,   cmap='gray'); axs[2].set_title('Closing'); axs[2].axis('off')\n",
        "    plt.show()"
      ],
      "metadata": {
        "id": "Fhc-_6_ZnFQA"
      },
      "execution_count": null,
      "outputs": []
    },
    {
      "cell_type": "code",
      "source": [
        "if img_bin is not None:\n",
        "    kernel = np.ones((5,5), np.uint8)\n",
        "    opening = cv2.morphologyEx(img_bin, cv2.MORPH_OPEN, kernel)\n",
        "    closing = cv2.morphologyEx(img_bin, cv2.MORPH_CLOSE, kernel)\n",
        "    fig, axs = plt.subplots(1,3, figsize=(12,4))\n",
        "    axs[0].imshow(img_bin, cmap='gray'); axs[0].set_title('Original'); axs[0].axis('off')\n",
        "    axs[1].imshow(opening, cmap='gray'); axs[1].set_title('Opening'); axs[1].axis('off')\n",
        "    axs[2].imshow(closing, cmap='gray'); axs[2].set_title('Closing'); axs[2].axis('off')\n",
        "    plt.show()"
      ],
      "metadata": {
        "id": "mYVyWOarpGB4"
      },
      "execution_count": null,
      "outputs": []
    },
    {
      "cell_type": "code",
      "source": [
        "# -------------------------------\n",
        "# 3.1 Hit-or-Miss 예시\n",
        "# -------------------------------\n",
        "def hit_or_miss(src_bin, kernel1, kernel2):\n",
        "    \"\"\"\n",
        "    Hit-or-Miss 구현:\n",
        "    (A ⊖ B1) ∩ (A^c ⊖ B2)\n",
        "    \"\"\"\n",
        "    # 이진화 (0/1)\n",
        "    img_01 = (src_bin > 128).astype(np.uint8)\n",
        "    eroded1 = cv2.erode(img_01, kernel1)\n",
        "    inv     = 1 - img_01\n",
        "    eroded2 = cv2.erode(inv,   kernel2)\n",
        "    hm      = eroded1 & eroded2\n",
        "    return (hm*255).astype(np.uint8)\n",
        "if img_bin is not None:\n",
        "    # B1, B2 정의 (예시)\n",
        "    k1 = np.array([[0,0,0],\n",
        "                   [1,1,0],\n",
        "                   [0,0,0]], dtype=np.uint8)\n",
        "    k2 = np.array([[0,0,0],\n",
        "                   [0,0,1],\n",
        "                   [0,0,0]], dtype=np.uint8)\n",
        "    hm_result = hit_or_miss(img_bin, k1, k2)\n",
        "    fig, axs = plt.subplots(1,2, figsize=(14,5))\n",
        "    axs[0].imshow(img_bin,    cmap='gray'); axs[0].set_title('Original');    axs[0].axis('off')\n",
        "    axs[1].imshow(hm_result, cmap='gray'); axs[1].set_title('Hit-or-Miss'); axs[1].axis('off')\n",
        "    plt.show()"
      ],
      "metadata": {
        "id": "Gg72t966pZS-"
      },
      "execution_count": null,
      "outputs": []
    },
    {
      "cell_type": "markdown",
      "source": [
        "# Skeletionzation (골격화)\n"
      ],
      "metadata": {
        "id": "0OcSRoqLq62J"
      }
    },
    {
      "cell_type": "code",
      "source": [
        "# -------------------------------\n",
        "# 3.2 Skeleton (골격화) 예시\n",
        "# -------------------------------\n",
        "def morphological_skeleton(src_bin):\n",
        "    \"\"\"\n",
        "    단순 반복 침식 + 윤곽 추출을 통해 Skeleton을 구하는 방식\n",
        "    (성능이 빠르지는 않음)\n",
        "    \"\"\"\n",
        "    img_01 = (src_bin > 128).astype(np.uint8)\n",
        "    skel   = np.zeros_like(img_01)\n",
        "    temp   = np.copy(img_01)\n",
        "    kernel = cv2.getStructuringElement(cv2.MORPH_CROSS, (3,3))\n",
        "    while True:\n",
        "        eroded   = cv2.erode(temp, kernel)\n",
        "        opened   = cv2.dilate(eroded, kernel)\n",
        "        boundary = temp - opened\n",
        "        skel    |= boundary\n",
        "        temp     = eroded\n",
        "        if np.count_nonzero(temp) == 0:\n",
        "            break\n",
        "    return (skel*255).astype(np.uint8)\n",
        "if img_bin is not None:\n",
        "    sk_img = morphological_skeleton(img_bin)\n",
        "    fig, axs = plt.subplots(1,2, figsize=(14,5))\n",
        "    axs[0].imshow(img_bin, cmap='gray'); axs[0].set_title('Original');   axs[0].axis('off')\n",
        "    axs[1].imshow(sk_img,  cmap='gray'); axs[1].set_title('Skeleton');   axs[1].axis('off')\n",
        "    plt.show()\n",
        "\n",
        "\n",
        "\n",
        "\n",
        "\n",
        "\n"
      ],
      "metadata": {
        "id": "jMftY3_kpqfy"
      },
      "execution_count": null,
      "outputs": []
    },
    {
      "cell_type": "markdown",
      "source": [
        "# 이거 과제!!\n"
      ],
      "metadata": {
        "id": "iN_h7nQAy7-c"
      }
    },
    {
      "cell_type": "code",
      "source": [
        "# -------------------------------\n",
        "# 3.3 Morphological Reconstruction 예시 (Hole Filling)\n",
        "# -------------------------------\n",
        "def morphological_reconstruction(marker_01, mask_01):\n",
        "    \"\"\"\n",
        "    Marker 이미지를 제한적으로 팽창시키되,\n",
        "    Mask 이미지 범위를 벗어나지 않도록 복원하는 함수\n",
        "    (Binary)\n",
        "    \"\"\"\n",
        "    prev = np.zeros_like(marker_01)\n",
        "    curr = np.copy(marker_01)\n",
        "    kernel = cv2.getStructuringElement(cv2.MORPH_CROSS, (3,3))\n",
        "    while True:\n",
        "        dilated = cv2.dilate(curr, kernel)\n",
        "        new_    = np.minimum(dilated, mask_01)\n",
        "        if np.array_equal(new_, curr):\n",
        "            break\n",
        "        curr = new_\n",
        "    return curr\n",
        "if img_bin is not None:\n",
        "    img_01 = (img_bin > 128).astype(np.uint8)\n",
        "    inv    = 1 - img_01  # 마스크(반전)\n",
        "    h, w   = inv.shape\n",
        "    # Marker를 가장자리 픽셀만 1로 설정\n",
        "    marker_01 = np.zeros_like(inv)\n",
        "    marker_01[0,     :] = inv[0,     :]\n",
        "    marker_01[h - 1, :] = inv[h - 1, :]\n",
        "    marker_01[:,  0 ] = inv[:,  0 ]\n",
        "    marker_01[:, w - 1] = inv[:, w - 1]\n",
        "    rec   = morphological_reconstruction(marker_01, inv)\n",
        "    filled = 1 - rec  # Hole filled\n",
        "    fig, axs = plt.subplots(1,3, figsize=(15,5))\n",
        "    axs[0].imshow(img_bin,  cmap='gray'); axs[0].set_title('Original');      axs[0].axis('off')\n",
        "    axs[1].imshow(inv*255,  cmap='gray'); axs[1].set_title('Mask (Inverted)'); axs[1].axis('off')\n",
        "    axs[2].imshow(filled*255,cmap='gray');axs[2].set_title('Hole Filled');   axs[2].axis('off')\n",
        "    plt.show()"
      ],
      "metadata": {
        "id": "20d_gVNKrVAC"
      },
      "execution_count": null,
      "outputs": []
    },
    {
      "cell_type": "markdown",
      "source": [
        "# Trp-hat & Black-hat"
      ],
      "metadata": {
        "id": "rTqdhgI1zfxB"
      }
    },
    {
      "cell_type": "code",
      "source": [
        "## 4. 과제 & 결과 예시\n",
        "### 4.1 과제\n",
        "1.# **구조 요소(Structuring Element)의 크기/모양**을 바꿔 다양한 결과 비교\n",
        "2. #**Hit-or-Miss**에서 패턴(커널) 여러 개 시도하기\n",
        "3. #**Skeleton**을 큰 이미지에서 수행해본 뒤, 시간 개선(최적화) 방법 찾기\n",
        "4. #**Reconstruction**에서 마커 설정 방법 바꿔서 다른 용도(객체 분리 등) 시도\n",
        "5. #**그레이스케일 모폴로지**(Top-hat, Black-hat 등)도 적용해보기\n",
        "### 4.2 결과 예시 코드: Top-hat & Black-hat\n",
        "\n",
        "!wget -q https://raw.githubusercontent.com/opencv/opencv/master/samples/data/baboon.jpg -O gray_sample.png\n",
        "\n",
        "gray_img = cv2.imread('귀여움.jpg', cv2.IMREAD_GRAYSCALE)\n",
        "kernel = cv2.getStructuringElement(cv2.MORPH_ELLIPSE, (15,15))\n",
        "tophat = cv2.morphologyEx(gray_img, cv2.MORPH_TOPHAT, kernel)\n",
        "blackhat = cv2.morphologyEx(gray_img, cv2.MORPH_BLACKHAT, kernel)\n",
        "plt.figure(figsize=(12,4))\n",
        "plt.subplot(1,3,1); plt.imshow(gray_img, cmap='gray');    plt.title('Gray Original'); plt.axis('off')\n",
        "plt.subplot(1,3,2); plt.imshow(tophat,  cmap='gray');     plt.title('Top-hat');       plt.axis('off')\n",
        "plt.subplot(1,3,3); plt.imshow(blackhat, cmap='gray');    plt.title('Black-hat');     plt.axis('off')\n",
        "plt.show()"
      ],
      "metadata": {
        "id": "CwSQC1_ftsxn"
      },
      "execution_count": null,
      "outputs": []
    },
    {
      "cell_type": "code",
      "source": [
        "# OpenCV, NumPy, Matplotlib 설치와 임포트 (Colab 기준)\n",
        "!pip install opencv-python numpy matplotlib --quiet\n",
        "import cv2 as cv\n",
        "import numpy as np\n",
        "import matplotlib.pyplot as plt\n",
        "print(\"OpenCV version:\", cv.__version__)"
      ],
      "metadata": {
        "id": "gbtXSS2Aznjx"
      },
      "execution_count": null,
      "outputs": []
    },
    {
      "cell_type": "code",
      "source": [
        "!wget -q https://raw.githubusercontent.com/opencv/opencv/master/samples/data/messi5.jpg\n",
        "import os\n",
        "if not os.path.exists('messi5.jpg'):\n",
        "    print(\"이미지 다운로드 실패. 직접 이미지를 업로드하세요.\")\n",
        "else:\n",
        "    print(\"messi5.jpg 다운로드 완료.\")"
      ],
      "metadata": {
        "id": "j7ZypjVl6hz1"
      },
      "execution_count": null,
      "outputs": []
    },
    {
      "cell_type": "code",
      "source": [
        "def load_image(path, gray=True):\n",
        "    if gray:\n",
        "        return cv.imread(path, cv.IMREAD_GRAYSCALE)\n",
        "    else:\n",
        "        img_bgr = cv.imread(path)\n",
        "        return cv.cvtColor(img_bgr, cv.COLOR_BGR2RGB)\n",
        "img_path = 'messi5.jpg'\n",
        "img = load_image(img_path, gray=True)\n",
        "if img is None:\n",
        "    raise FileNotFoundError(\"이미지를 찾을 수 없습니다.\")"
      ],
      "metadata": {
        "id": "N52-XST26osA"
      },
      "execution_count": null,
      "outputs": []
    },
    {
      "cell_type": "code",
      "source": [
        "def show_images(images, titles=None, cmap='gray', figsize=(15,5)):\n",
        "    if not isinstance(images, list):\n",
        "        images = [images]\n",
        "    if titles is None:\n",
        "        titles = [''] * len(images)\n",
        "    plt.figure(figsize=figsize)\n",
        "    for i, img_ in enumerate(images):\n",
        "        plt.subplot(1, len(images), i+1)\n",
        "        if len(img_.shape) == 2:\n",
        "            plt.imshow(img_, cmap=cmap)\n",
        "        else:\n",
        "            plt.imshow(img_)\n",
        "        plt.title(titles[i])\n",
        "        plt.xticks([])\n",
        "        plt.yticks([])\n",
        "    plt.show()\n",
        "# 원본 이미지 확인\n",
        "show_images(img, [\"Original Gray\"])\n",
        "\n",
        "sobelx = cv.Sobel(img, cv.CV_64F, 1, 0, ksize=3)\n",
        "sobely = cv.Sobel(img, cv.CV_64F, 0, 1, ksize=3)\n",
        "abs_sobelx = np.uint8(np.absolute(sobelx))\n",
        "abs_sobely = np.uint8(np.absolute(sobely))\n",
        "sobel_combined = cv.bitwise_or(abs_sobelx, abs_sobely)\n",
        "show_images([\n",
        "    abs_sobelx, abs_sobely, sobel_combined\n",
        "], [\"Sobel X\", \"Sobel Y\", \"Sobel Combined\"])"
      ],
      "metadata": {
        "id": "vK2oRilj6rbj"
      },
      "execution_count": null,
      "outputs": []
    },
    {
      "cell_type": "code",
      "source": [
        "prewitt_kx = np.array([[-1, 0, 1],\n",
        "                       [-1, 0, 1],\n",
        "                       [-1, 0, 1]], dtype=np.float32)\n",
        "prewitt_ky = np.array([[-1, -1, -1],\n",
        "                       [ 0,  0,  0],\n",
        "                       [ 1,  1,  1]], dtype=np.float32)\n",
        "prewitt_x = cv.filter2D(img, cv.CV_32F, prewitt_kx)\n",
        "prewitt_y = cv.filter2D(img, cv.CV_32F, prewitt_ky)\n",
        "abs_prex = np.uint8(np.absolute(prewitt_x))\n",
        "abs_prey = np.uint8(np.absolute(prewitt_y))\n",
        "prewitt_combined = cv.bitwise_or(abs_prex, abs_prey)\n",
        "show_images([\n",
        "    abs_prex, abs_prey, prewitt_combined\n",
        "], [\"Prewitt X\", \"Prewitt Y\", \"Prewitt Combined\"])"
      ],
      "metadata": {
        "id": "UWxYhoaB61i6"
      },
      "execution_count": null,
      "outputs": []
    },
    {
      "cell_type": "code",
      "source": [
        "roberts_kx = np.array([[1, 0],\n",
        "                       [0,-1]], dtype=np.float32)\n",
        "roberts_ky = np.array([[0, 1],\n",
        "                       [-1,0]], dtype=np.float32)\n",
        "roberts_x = cv.filter2D(img, cv.CV_32F, roberts_kx)\n",
        "roberts_y = cv.filter2D(img, cv.CV_32F, roberts_ky)\n",
        "abs_rx = np.uint8(np.absolute(roberts_x))\n",
        "abs_ry = np.uint8(np.absolute(roberts_y))\n",
        "roberts_combined = cv.bitwise_or(abs_rx, abs_ry)\n",
        "show_images([\n",
        "    abs_rx, abs_ry, roberts_combined\n",
        "], [\"Roberts X\", \"Roberts Y\", \"Roberts Combined\"])"
      ],
      "metadata": {
        "id": "YAhW9SUM7KG7"
      },
      "execution_count": null,
      "outputs": []
    },
    {
      "cell_type": "code",
      "source": [
        "# 가우시안 블러 후 라플라시안.\n",
        "blur_img = cv.GaussianBlur(img, (3,3), 0)\n",
        "lap = cv.Laplacian(blur_img, cv.CV_32F, ksize=3)\n",
        "lap_abs = np.uint8(np.absolute(lap))\n",
        "show_images([img, lap_abs], [\"Original\", \"Laplacian(LoG)\"])"
      ],
      "metadata": {
        "id": "3rKZcQbk7fON"
      },
      "execution_count": null,
      "outputs": []
    },
    {
      "cell_type": "code",
      "source": [
        "sigma1, sigma2 = 1.0, 2.0  # 예시\n",
        "g1 = cv.GaussianBlur(img, (0,0), sigma1)\n",
        "g2 = cv.GaussianBlur(img, (0,0), sigma2)\n",
        "dog = g1.astype(np.float32) - g2.astype(np.float32)\n",
        "# 절댓값을 스케일링해서 표시\n",
        "dog_abs = np.uint8(cv.normalize(np.abs(dog), None, 0, 255, cv.NORM_MINMAX))\n",
        "show_images([img, dog_abs], [\"Original\", f\"DoG (sigma1={sigma1}, sigma2={sigma2})\"])\n",
        "\n",
        "\n",
        "\n",
        "\n",
        "\n"
      ],
      "metadata": {
        "id": "3dQSG_E67vBK"
      },
      "execution_count": null,
      "outputs": []
    },
    {
      "cell_type": "code",
      "source": [
        "def canny_test(img, min_val_list, max_val_list):\n",
        "    plt.figure(figsize=(12, len(min_val_list)*3))\n",
        "    idx = 1\n",
        "    for mn in min_val_list:\n",
        "        for mx in max_val_list:\n",
        "            edges_ = cv.Canny(img, mn, mx)\n",
        "            plt.subplot(len(min_val_list), len(max_val_list), idx)\n",
        "            plt.imshow(edges_, cmap='gray')\n",
        "            plt.title(f\"min={mn}, max={mx}\")\n",
        "            plt.xticks([])\n",
        "            plt.yticks([])\n",
        "            idx += 1\n",
        "    plt.show()\n",
        "min_vals = [50, 100]\n",
        "max_vals = [150, 200]\n",
        "canny_test(img, min_vals, max_vals)"
      ],
      "metadata": {
        "id": "mOPGZ8e48c0x"
      },
      "execution_count": null,
      "outputs": []
    },
    {
      "cell_type": "code",
      "source": [],
      "metadata": {
        "id": "QlVtFSB_AkYI"
      },
      "execution_count": null,
      "outputs": []
    }
  ]
}
