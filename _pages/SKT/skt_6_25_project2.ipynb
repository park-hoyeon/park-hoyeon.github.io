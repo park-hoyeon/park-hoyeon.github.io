{
  "nbformat": 4,
  "nbformat_minor": 0,
  "metadata": {
    "colab": {
      "private_outputs": true,
      "provenance": [],
      "authorship_tag": "ABX9TyPhah7gUJ1s5wYQ4EOL29hN",
      "include_colab_link": true
    },
    "kernelspec": {
      "name": "python3",
      "display_name": "Python 3"
    },
    "language_info": {
      "name": "python"
    }
  },
  "cells": [
    {
      "cell_type": "markdown",
      "metadata": {
        "id": "view-in-github",
        "colab_type": "text"
      },
      "source": [
        "<a href=\"https://colab.research.google.com/github/park-hoyeon/park-hoyeon.github.io/blob/master/skt_6_25_project2.ipynb\" target=\"_parent\"><img src=\"https://colab.research.google.com/assets/colab-badge.svg\" alt=\"Open In Colab\"/></a>"
      ]
    },
    {
      "cell_type": "code",
      "execution_count": null,
      "metadata": {
        "id": "RJK8s1ihjb04"
      },
      "outputs": [],
      "source": [
        "import numpy as np\n",
        "import pandas as pd\n",
        "customers = pd.read_csv('./Mall_Customers.csv')\n",
        "customers.head()"
      ]
    },
    {
      "cell_type": "code",
      "source": [
        "# 컬럼 추출\n",
        "df = customers[['Annual Income (k$)', 'Spending Score (1-100)']]\n",
        "df.head()"
      ],
      "metadata": {
        "id": "MDuNg-uzkIx4"
      },
      "execution_count": null,
      "outputs": []
    },
    {
      "cell_type": "code",
      "source": [
        "# 스케일링\n",
        "from sklearn.preprocessing import MinMaxScaler\n",
        "sc = MinMaxScaler()\n",
        "df = sc.fit_transform(df)\n",
        "df[:10]"
      ],
      "metadata": {
        "id": "WI7KgCVVkR4K"
      },
      "execution_count": null,
      "outputs": []
    },
    {
      "cell_type": "code",
      "source": [
        "# 알고리즘 학습\n",
        "from sklearn.cluster import KMeans\n",
        "model = KMeans(n_clusters=3)\n",
        "model.fit(df)"
      ],
      "metadata": {
        "id": "Jvs3dF-Ak0ik"
      },
      "execution_count": null,
      "outputs": []
    },
    {
      "cell_type": "code",
      "source": [
        "#예측\n",
        "pred = model.predict(df)\n",
        "df['label'] = pred\n",
        "pred[:30]"
      ],
      "metadata": {
        "id": "40v1qDp6lKwv"
      },
      "execution_count": null,
      "outputs": []
    },
    {
      "cell_type": "code",
      "source": [
        "# 데이터 시각화\n",
        "import seaborn as sns\n",
        "sns.scatterplot(data=df, x='Annual Income (k$)', y='Spending Score (1-100)', hue='label')\n",
        "plt.show()"
      ],
      "metadata": {
        "id": "w4qp2DboliED"
      },
      "execution_count": null,
      "outputs": []
    },
    {
      "cell_type": "code",
      "source": [
        "# 엘보우 메소드\n",
        "inertia = []\n",
        "for i in range(1,10):\n",
        "    model = KMeans(n_clusters= i, init = 'random',random_state=42)\n",
        "    model.fit(df)\n",
        "    inertia.append(model.inertia_)\n"
      ],
      "metadata": {
        "id": "HuDtLqZOlqw0"
      },
      "execution_count": null,
      "outputs": []
    },
    {
      "cell_type": "code",
      "source": [
        "# 차원축소 데이터 준비\n",
        "from sklearn import datasets\n",
        "import pandas as pd\n",
        "iris = datasets.load_iris()\n",
        "dfX = pd.DataFrame(data=iris.data, columns=iris.feature_names)\n",
        "dfY = pd.DataFrame(data=iris.target, columns=['species'])\n",
        "df = pd.concat([dfX,dfY], axis=1)\n",
        "df.head()"
      ],
      "metadata": {
        "id": "VIfWYLWnl1_n"
      },
      "execution_count": null,
      "outputs": []
    },
    {
      "cell_type": "code",
      "source": [
        "# 피처와 레이블 분리\n",
        "from sklearn.preprocessing import StandardScaler\n",
        "X = df.iloc[:, :-1]\n",
        "y = df.iloc[:, -1]\n",
        "X.head()"
      ],
      "metadata": {
        "id": "sMI6Iv5FmM1E"
      },
      "execution_count": null,
      "outputs": []
    },
    {
      "cell_type": "code",
      "source": [
        "# 차원축소\n",
        "from sklearn.decomposition import PCA\n",
        "\n",
        "pca = PCA(n_components=2)\n",
        "X2 = pca.fit_transform(X)\n",
        "df = pd.DataFrame(data=X2, columns = ['PC_1', 'PC_2'])\n",
        "df.head()"
      ],
      "metadata": {
        "id": "NGzdPO2ymbo9"
      },
      "execution_count": null,
      "outputs": []
    },
    {
      "cell_type": "code",
      "source": [
        "# 시각화\n",
        "import matplotlib.pyplot as plt\n",
        "import seaborn as sns\n",
        "sns.scatterplot(x=df['PC_1'], y=df['PC_2'], hue=y.values)\n",
        "plt.show()"
      ],
      "metadata": {
        "id": "gfgCBccWmnvf"
      },
      "execution_count": null,
      "outputs": []
    },
    {
      "cell_type": "code",
      "source": [
        "# 위에서 \tPCA를\t실행한\t데이터에서\t테스트\t데이터를\t분리한다.\n",
        "from sklearn.model_selection import train_test_split\n",
        "from sklearn.tree import DecisionTreeClassifier\n",
        "X_train, X_test, y_train, y_test = train_test_split(X, y, test_size=0.2, random_state=42)\n",
        "model = DecisionTreeClassifier()\n",
        "model.fit(X_train, y_train)"
      ],
      "metadata": {
        "id": "9xMwbgbFmt1X"
      },
      "execution_count": null,
      "outputs": []
    },
    {
      "cell_type": "code",
      "source": [
        "#예측과 평가\n",
        "from sklearn.metrics import *\n",
        "def print_scores(y_true, y_pred):\n",
        "    print('accuracy_score: {0:.4f}'.format(accuracy_score(y_true, y_pred)))\n",
        "    print('precision_score: {0:.4f}'.format(precision_score(y_true, y_pred, average='weighted')))\n",
        "    print('recall_score: {0:.4f}'.format(recall_score(y_true, y_pred, average='weighted')))\n",
        "y_pred = model.predict(X_test)\n",
        "print_scores(y_test, y_pred)"
      ],
      "metadata": {
        "id": "GbJ0-fytm-N1"
      },
      "execution_count": null,
      "outputs": []
    },
    {
      "cell_type": "code",
      "source": [
        "# 선형회귀 - 맨하탄의\t임대료\t데이터를\t사용하여\t다변량\t선형\t회귀를\t실행\n",
        "import pandas as pd\n",
        "manhattan = pd.read_csv('./manhattan.csv')\n",
        "manhattan.head()"
      ],
      "metadata": {
        "id": "x-uPXX66nWFN"
      },
      "execution_count": null,
      "outputs": []
    },
    {
      "cell_type": "code",
      "source": [
        "manhattan.info()"
      ],
      "metadata": {
        "id": "Hc1DdR8MoJVW"
      },
      "execution_count": null,
      "outputs": []
    },
    {
      "cell_type": "code",
      "source": [
        "# 상관관계\n",
        "corr_matrix = manhattan.select_dtypes(include=np.number).corr()\n",
        "corr_matrix[\"rent\"].sort_values(ascending=False)"
      ],
      "metadata": {
        "id": "MtgvmMftoNuC"
      },
      "execution_count": null,
      "outputs": []
    },
    {
      "cell_type": "code",
      "source": [
        "import matplotlib.pyplot as plt\n",
        "corr_df = pd.DataFrame(corr_matrix[\"rent\"].sort_values(ascending=False))\n",
        "plt.figure(figsize=(12,6))\n",
        "plt.bar(corr_df.index, corr_df[\"rent\"])\n",
        "plt.xticks(rotation=45)\n",
        "plt.show()"
      ],
      "metadata": {
        "id": "Xs2saHgkoa3w"
      },
      "execution_count": null,
      "outputs": []
    },
    {
      "cell_type": "code",
      "source": [
        "#임대료와\t상관\t관계가\t높은\t7개의\t피쳐만\t선택\n",
        "X = manhattan[['size_sqft','bathrooms','bedrooms', 'floor','has_washer_dryer', 'has_dishwasher','has_elevator']]\n",
        "y = manhattan[['rent']]"
      ],
      "metadata": {
        "id": "-QvYtUC5ojH4"
      },
      "execution_count": null,
      "outputs": []
    },
    {
      "cell_type": "code",
      "source": [
        "# 테스트 데이터 분리\n",
        "from sklearn.model_selection import train_test_split\n",
        "X_train, X_test, y_train, y_test = train_test_split(X, y,\n",
        "                                  test_size=0.3, random_state=42)\n",
        "X_train.head()"
      ],
      "metadata": {
        "id": "KQy4UruIopdG"
      },
      "execution_count": null,
      "outputs": []
    },
    {
      "cell_type": "code",
      "source": [
        "# 모델 학습\n",
        "from sklearn.linear_model import LinearRegression\n",
        "lr = LinearRegression()\n",
        "lr.fit(X_train, y_train)\n",
        "print('coef : ', lr.coef_)\n",
        "print('intercept : ', lr.intercept_)"
      ],
      "metadata": {
        "id": "KtEJ3E7yoxgg"
      },
      "execution_count": null,
      "outputs": []
    },
    {
      "cell_type": "code",
      "source": [
        "# 모델 평가\n",
        "from sklearn.metrics import mean_squared_error\n",
        "from sklearn.metrics import mean_absolute_error\n",
        "from sklearn.metrics import r2_score\n",
        "\n",
        "y_pred = lr.predict(X_test) # Predict using the trained linear regression model\n",
        "\n",
        "mse = mean_squared_error(y_test, y_pred)\n",
        "rmse = mse ** 0.5\n",
        "mae = mean_absolute_error(y_test, y_pred)\n",
        "r2score = r2_score(y_test, y_pred)\n",
        "\n",
        "print('mse :', mse)\n",
        "print('rmse :', rmse)\n",
        "print('mae :', mae)\n",
        "print('r2score :', r2score)"
      ],
      "metadata": {
        "id": "YuaMYyY1o2jq"
      },
      "execution_count": null,
      "outputs": []
    },
    {
      "cell_type": "code",
      "source": [
        "# 예측 결과 시각화\n",
        "plt.scatter(y_test, y_pred, alpha = 0.4)\n",
        "plt.plot([0, 20000], [0, 20000])\n",
        "plt.show()"
      ],
      "metadata": {
        "id": "b6OL_AvIpB-K"
      },
      "execution_count": null,
      "outputs": []
    },
    {
      "cell_type": "code",
      "source": [
        "import numpy as np\n",
        "import matplotlib.pyplot as plt\n",
        "\n",
        "X = -5 + 15 * np.random.rand(100, 1)\n",
        "noise = 10 * np.random.randn(100, 1)\n",
        "y = 2*X**2 + 1*X + 10 + noise\n",
        "\n",
        "plt.plot(X, y, \".\")\n",
        "plt.ylabel(\"Y\", fontsize=15, rotation=0)\n",
        "plt.xlabel(\"X\", fontsize=15)\n",
        "plt.show()"
      ],
      "metadata": {
        "id": "zWg-0M2pp3El"
      },
      "execution_count": null,
      "outputs": []
    },
    {
      "cell_type": "markdown",
      "source": [
        "# 6/25 최종프로젝트\n"
      ],
      "metadata": {
        "id": "Ay6EisUGt4Ea"
      }
    },
    {
      "cell_type": "code",
      "source": [
        "import pandas as pd\n",
        "import numpy as np\n",
        "import matplotlib.pyplot as plt\n",
        "import seaborn as sns\n",
        "import matplotlib.font_manager as fm\n",
        "\n",
        "# 시각화 스타일 설정\n",
        "plt.style.use('seaborn-v0_8-whitegrid')\n",
        "\n",
        "# 한글 폰트 설정 (Colab 환경에서 필요한 경우)\n",
        "!sudo apt-get install -y fonts-nanum\n",
        "!sudo fc-cache -fv\n",
        "!rm ~/.cache/matplotlib -rf\n",
        "\n",
        "# Reload font manager\n",
        "fm.fontManager.addfont('/usr/share/fonts/truetype/nanum/NanumGothic.ttf')\n",
        "plt.rc('font', family='NanumGothic')\n",
        "plt.rcParams['axes.unicode_minus'] = False # 마이너스 기호 깨짐 방지"
      ],
      "metadata": {
        "id": "R8m6WiQ1v4rV"
      },
      "execution_count": null,
      "outputs": []
    },
    {
      "cell_type": "code",
      "source": [
        "import seaborn as sns\n",
        "import pandas as pd\n",
        "import matplotlib.pyplot as plt\n",
        "\n",
        "tips = pd.read_csv('./인구 동향 출생 사망 혼인 이혼 2025.csv', encoding='cp949')\n",
        "sns.countplot(data=tips, x='행정구역별(1)')\n",
        "plt.show()"
      ],
      "metadata": {
        "id": "B2zkOosYqSL9"
      },
      "execution_count": null,
      "outputs": []
    },
    {
      "cell_type": "markdown",
      "metadata": {
        "id": "bb7229ab"
      },
      "source": [
        "# Task\n",
        "Analyze the data in the CSV file \"인구 동향 출생 사망 혼인 이혼 2025.csv\" by first performing visual analysis."
      ]
    },
    {
      "cell_type": "markdown",
      "metadata": {
        "id": "af397832"
      },
      "source": [
        "## Detect file encoding\n",
        "\n",
        "### Subtask:\n",
        "Read the file in binary mode and use `chardet` to detect the likely encoding.\n"
      ]
    },
    {
      "cell_type": "markdown",
      "metadata": {
        "id": "f2f32fa3"
      },
      "source": [
        "**Reasoning**:\n",
        "Import the chardet library and detect the encoding of the file.\n",
        "\n"
      ]
    },
    {
      "cell_type": "code",
      "metadata": {
        "id": "e20db6d1"
      },
      "source": [
        "import chardet\n",
        "\n",
        "with open('./인구 동향 출생 사망 혼인 이혼 2025.csv', 'rb') as f:\n",
        "    result = chardet.detect(f.read())\n",
        "\n",
        "print(result)"
      ],
      "execution_count": null,
      "outputs": []
    },
    {
      "cell_type": "markdown",
      "metadata": {
        "id": "8b83b8c1"
      },
      "source": [
        "## Load data\n",
        "\n",
        "### Subtask:\n",
        "Read the CSV file into a pandas DataFrame using the detected encoding.\n"
      ]
    },
    {
      "cell_type": "markdown",
      "metadata": {
        "id": "e109ed5f"
      },
      "source": [
        "**Reasoning**:\n",
        "Read the CSV file into a pandas DataFrame using the detected encoding and store it in a variable named `df_population`.\n",
        "\n"
      ]
    },
    {
      "cell_type": "code",
      "metadata": {
        "id": "c9dd1ac2"
      },
      "source": [
        "df_population = pd.read_csv('./인구 동향 출생 사망 혼인 이혼 2025.csv', encoding='EUC-KR')\n",
        "df_population.head()"
      ],
      "execution_count": null,
      "outputs": []
    },
    {
      "cell_type": "markdown",
      "metadata": {
        "id": "975d54b3"
      },
      "source": [
        "## Initial data exploration\n",
        "\n",
        "### Subtask:\n",
        "Display the first few rows and the column names of the DataFrame to understand its structure.\n"
      ]
    },
    {
      "cell_type": "markdown",
      "metadata": {
        "id": "694740a9"
      },
      "source": [
        "**Reasoning**:\n",
        "Display the first few rows and the column names of the DataFrame to understand its structure, as requested by the subtask instructions.\n",
        "\n"
      ]
    },
    {
      "cell_type": "code",
      "metadata": {
        "id": "4833a2c2"
      },
      "source": [
        "display(df_population.head())\n",
        "display(df_population.columns)"
      ],
      "execution_count": null,
      "outputs": []
    },
    {
      "cell_type": "markdown",
      "metadata": {
        "id": "13e8dd3f"
      },
      "source": [
        "## Generate initial visualizations\n",
        "\n",
        "### Subtask:\n",
        "Generate initial visualizations to get a sense of the data distribution.\n"
      ]
    },
    {
      "cell_type": "markdown",
      "metadata": {
        "id": "44ff1b81"
      },
      "source": [
        "**Reasoning**:\n",
        "The first row contains the actual column headers, so I will set the first row as the header and drop the original first row. Then I will filter the DataFrame to keep only the row where \"행정구역별(1)\" is \"전국\" and select the columns related to births and deaths over time. Finally, I will create line plots to visualize the trends and add appropriate labels.\n",
        "\n"
      ]
    },
    {
      "cell_type": "markdown",
      "metadata": {
        "id": "a9ea0878"
      },
      "source": [
        "**Reasoning**:\n",
        "The previous code failed because the shapes of the x and y data for plotting were not the same. This is likely due to an issue in how the columns were selected or processed. I need to re-examine how the time labels and the corresponding birth and death data are extracted to ensure they have the same length and correspond correctly. The time labels should correspond to the columns containing the birth and death counts.\n",
        "\n"
      ]
    },
    {
      "cell_type": "markdown",
      "metadata": {
        "id": "4dd0d7ee"
      },
      "source": [
        "## Summary:\n",
        "\n",
        "### Data Analysis Key Findings\n",
        "\n",
        "*   The detected encoding for the CSV file is 'EUC-KR' with a high confidence level of 0.99.\n",
        "*   The DataFrame initially loaded contains 5 rows and 526 columns, with the first row likely containing the actual headers and subsequent rows containing data from 2021.01 to 2025.03.\n",
        "*   Initial visualizations show the trend of national birth and death counts over time.\n",
        "\n",
        "### Insights or Next Steps\n",
        "\n",
        "*   The first row of the DataFrame should be set as the header to correctly label the columns.\n",
        "*   Further analysis should focus on specific time periods or regions to identify more granular trends in birth and death rates, as well as marriage and divorce statistics.\n"
      ]
    },
    {
      "cell_type": "code",
      "source": [
        "# 3. 엑셀 데이터 불러오기\n",
        "file_name = '읍면동별_다문화가구_현황_20250625155538.xlsx'\n",
        "xls = pd.ExcelFile(file_name)\n",
        "\n",
        "# 시트 확인\n",
        "print(\"시트 목록:\", xls.sheet_names)\n",
        "\n",
        "# 실제 데이터 시트 불러오기 (헤더는 3번째 줄부터 시작)\n",
        "df = xls.parse('데이터', header=2)\n",
        "\n",
        "# 확인\n",
        "df.head()\n"
      ],
      "metadata": {
        "id": "K0kNCbLB5oPn"
      },
      "execution_count": null,
      "outputs": []
    },
    {
      "cell_type": "code",
      "source": [
        "# 4. 필요한 열만 뽑기\n",
        "df_filtered = df[df['행정구역(읍면동)별(1)'].str.contains('전국|시$', na=False)]\n",
        "\n",
        "# 열 이름 간단하게 바꾸기\n",
        "df_filtered = df_filtered[['행정구역(읍면동)별(1)', '소계', '소계.2', '소계.3']]\n",
        "df_filtered.columns = ['지역', '다문화가구합계', '결혼이민자_및_귀화자', '자녀수_합계']\n",
        "\n",
        "# 숫자형 변환\n",
        "df_filtered[['다문화가구합계', '결혼이민자_및_귀화자', '자녀수_합계']] = df_filtered[['다문화가구합계', '결혼이민자_및_귀화자', '자녀수_합계']].apply(pd.to_numeric)\n"
      ],
      "metadata": {
        "id": "UWJeKKtN6C9S"
      },
      "execution_count": null,
      "outputs": []
    },
    {
      "cell_type": "code",
      "source": [
        "# 1. 라이브러리 설치 및 한글 폰트 설정 (Colab에서 한 번만 실행하면 됨)\n",
        "!pip install -q matplotlib seaborn openpyxl\n",
        "!apt-get -qq install -y fonts-nanum\n",
        "import matplotlib.pyplot as plt\n",
        "import seaborn as sns\n",
        "import pandas as pd\n",
        "import matplotlib.font_manager as fm\n",
        "import matplotlib\n",
        "\n",
        "# 한글 폰트 적용\n",
        "matplotlib.rc('font', family='NanumGothic')\n",
        "plt.rcParams['axes.unicode_minus'] = False\n"
      ],
      "metadata": {
        "id": "pINmro7b6M4i"
      },
      "execution_count": null,
      "outputs": []
    },
    {
      "cell_type": "code",
      "source": [
        "# 다문화가구 수\n",
        "plt.figure(figsize=(12,6))\n",
        "sns.barplot(data=df_filtered.sort_values('다문화가구합계', ascending=False),\n",
        "            x='지역', y='다문화가구합계', palette='Blues_d')\n",
        "plt.title('2023년 지역별 다문화가구 수')\n",
        "plt.xticks(rotation=45)\n",
        "plt.tight_layout()\n",
        "plt.show()\n"
      ],
      "metadata": {
        "id": "pbavXaRi6Ivg"
      },
      "execution_count": null,
      "outputs": []
    },
    {
      "cell_type": "code",
      "source": [
        "# 다문화 자녀 수\n",
        "plt.figure(figsize=(12,6))\n",
        "sns.barplot(data=df_filtered.sort_values('자녀수_합계', ascending=False),\n",
        "            x='지역', y='자녀수_합계', palette='Greens_d')\n",
        "plt.title('2023년 지역별 다문화 자녀 수')\n",
        "plt.xticks(rotation=45)\n",
        "plt.tight_layout()\n",
        "plt.show()\n"
      ],
      "metadata": {
        "id": "6354qsaD6VTC"
      },
      "execution_count": null,
      "outputs": []
    },
    {
      "cell_type": "code",
      "source": [
        "# 결혼이민자 및 귀화자 수\n",
        "plt.figure(figsize=(12,6))\n",
        "sns.barplot(data=df_filtered.sort_values('결혼이민자_및_귀화자', ascending=False),\n",
        "            x='지역', y='결혼이민자_및_귀화자', palette='Oranges_d')\n",
        "plt.title('2023년 지역별 결혼이민자 및 귀화자 수')\n",
        "plt.xticks(rotation=45)\n",
        "plt.tight_layout()\n",
        "plt.show()\n"
      ],
      "metadata": {
        "id": "_kDD4qXk6Z0e"
      },
      "execution_count": null,
      "outputs": []
    },
    {
      "cell_type": "code",
      "source": [
        "# 다문화가구 파일 불러오기\n",
        "xls1 = pd.ExcelFile('읍면동별_다문화가구_현황.xlsx')\n",
        "df1 = xls1.parse('데이터', header=2)\n",
        "\n",
        "# 광역시/전국만 필터링\n",
        "df1_filtered = df1[df1['행정구역(읍면동)별(1)'].str.contains('전국|시$', na=False)]\n",
        "\n",
        "# 필요한 열만 추출\n",
        "df1_filtered = df1_filtered[['행정구역(읍면동)별(1)', '소계', '소계.2', '소계.3']]\n",
        "df1_filtered.columns = ['지역', '다문화가구합계', '결혼이민자_및_귀화자', '자녀수_합계']\n",
        "df1_filtered = df1_filtered.copy()\n",
        "df1_filtered[['다문화가구합계', '결혼이민자_및_귀화자', '자녀수_합계']] = df1_filtered[['다문화가구합계', '결혼이민자_및_귀화자', '자녀수_합계']].apply(pd.to_numeric)\n"
      ],
      "metadata": {
        "id": "EcdXIPnm7KY3"
      },
      "execution_count": null,
      "outputs": []
    },
    {
      "cell_type": "code",
      "source": [
        "# 이민자 경제활동 여부 엑셀 파일 다시 불러오기\n",
        "xls2 = pd.ExcelFile('./국내_거주_배우자의_경제활동_여부_이민자__20250625155111.xlsx')\n",
        "df2 = xls2.parse(0, header=4)  # 헤더 4번째 줄에 있음\n",
        "\n",
        "# 첫 몇 줄 확인\n",
        "df2.head()"
      ],
      "metadata": {
        "id": "96xvBrWZ7b-B"
      },
      "execution_count": null,
      "outputs": []
    },
    {
      "cell_type": "code",
      "source": [],
      "metadata": {
        "id": "FAPASr_H9Ij8"
      },
      "execution_count": null,
      "outputs": []
    },
    {
      "cell_type": "markdown",
      "metadata": {
        "id": "12651bd7"
      },
      "source": [
        "# Task\n",
        "Compare and analyze the data from \"읍면동별_다문화가구_현황.xlsx\" and \"./국내_거주_배우자의_경제활동_여부_이민자_20250625155111.xlsx\" using visualizations."
      ]
    },
    {
      "cell_type": "markdown",
      "metadata": {
        "id": "8a1e5775"
      },
      "source": [
        "## Load multi-cultural household data\n",
        "\n",
        "### Subtask:\n",
        "Load the data from '읍면동별_다문화가구_현황.xlsx' into a DataFrame, handling the header and selecting relevant columns.\n"
      ]
    },
    {
      "cell_type": "markdown",
      "metadata": {
        "id": "95b9b58b"
      },
      "source": [
        "**Reasoning**:\n",
        "I need to load the data from the Excel file '읍면동별_다문화가구_현황.xlsx', handling the header which is located on the 3rd row. I will then display the head of the dataframe to confirm it was loaded correctly.\n",
        "\n"
      ]
    },
    {
      "cell_type": "code",
      "metadata": {
        "id": "18c5d8ba"
      },
      "source": [
        "xls_multicultural = pd.ExcelFile('읍면동별_다문화가구_현황.xlsx')\n",
        "df_multicultural = xls_multicultural.parse('데이터', header=2)\n",
        "display(df_multicultural.head())"
      ],
      "execution_count": null,
      "outputs": []
    },
    {
      "cell_type": "markdown",
      "metadata": {
        "id": "707b0622"
      },
      "source": [
        "**Reasoning**:\n",
        "The data is loaded correctly with the header set to the third row. Now I need to select the relevant columns as specified in the subtask.\n",
        "\n"
      ]
    },
    {
      "cell_type": "code",
      "metadata": {
        "id": "kaGCf3pI-POI"
      },
      "source": [
        "df_multicultural = df_multicultural[['행정구역(읍면동)별(1)', '소계', '소계.2', '소계.3']]\n",
        "display(df_multicultural.head())"
      ],
      "execution_count": null,
      "outputs": []
    },
    {
      "cell_type": "markdown",
      "metadata": {
        "id": "c18c1d6c"
      },
      "source": [
        "## Process multi-cultural household data\n",
        "\n",
        "### Subtask:\n",
        "Clean and rename the columns, and filter the data to keep relevant rows (e.g., national and city level data).\n"
      ]
    },
    {
      "cell_type": "markdown",
      "metadata": {
        "id": "aca738e0"
      },
      "source": [
        "**Reasoning**:\n",
        "Filter the DataFrame, rename columns, and convert columns to numeric types as requested by the subtask instructions.\n",
        "\n"
      ]
    },
    {
      "cell_type": "code",
      "metadata": {
        "id": "264b1dde"
      },
      "source": [
        "df_filtered = df_multicultural[df_multicultural['행정구역(읍면동)별(1)'].str.contains('전국|시$', na=False)].copy()\n",
        "df_filtered.columns = ['지역', '다문화가구합계', '결혼이민자_및_귀화자', '자녀수_합계']\n",
        "df_filtered[['다문화가구합계', '결혼이민자_및_귀화자', '자녀수_합계']] = df_filtered[['다문화가구합계', '결혼이민자_및_귀화자', '자녀수_합계']].apply(pd.to_numeric)\n",
        "display(df_filtered.head())"
      ],
      "execution_count": null,
      "outputs": []
    },
    {
      "cell_type": "markdown",
      "metadata": {
        "id": "632e7202"
      },
      "source": [
        "## Load economic activity data\n",
        "\n",
        "### Subtask:\n",
        "Load the data from './국내_거주_배우자의_경제활동_여부_이민자_20250625155111.xlsx' into a DataFrame, handling the header and selecting relevant columns.\n"
      ]
    },
    {
      "cell_type": "markdown",
      "metadata": {
        "id": "db27c4ca"
      },
      "source": [
        "**Reasoning**:\n",
        "Load the Excel file and parse the first sheet, specifying the header row. Then display the head of the dataframe.\n",
        "\n"
      ]
    },
    {
      "cell_type": "code",
      "metadata": {
        "id": "2221f39e"
      },
      "source": [
        "xls2 = pd.ExcelFile('./국내_거주_배우자의_경제활동_여부_이민자__20250625155111.xlsx')\n",
        "df2 = xls2.parse(0, header=4)\n",
        "display(df2.head())"
      ],
      "execution_count": null,
      "outputs": []
    },
    {
      "cell_type": "markdown",
      "metadata": {
        "id": "bf342c5e"
      },
      "source": [
        "**Reasoning**:\n",
        "The previous command failed because the file was not found. I need to check the correct file name from the notebook history and try loading it again.\n",
        "\n"
      ]
    },
    {
      "cell_type": "code",
      "metadata": {
        "id": "7vgZV_v0-bnn"
      },
      "source": [
        "xls2 = pd.ExcelFile('./국내_거주_배우자의_경제활동_여부_이민자__20250625155111.xlsx')\n",
        "df2 = xls2.parse(0, header=4)\n",
        "display(df2.head())"
      ],
      "execution_count": null,
      "outputs": []
    },
    {
      "cell_type": "markdown",
      "metadata": {
        "id": "f1e8e214"
      },
      "source": [
        "**Reasoning**:\n",
        "The data loaded correctly, but the header row looks incorrect. The actual header information appears to be spread across multiple rows. I need to manually set the correct column names based on the displayed data and then clean up the DataFrame by dropping unnecessary rows.\n",
        "\n"
      ]
    },
    {
      "cell_type": "code",
      "metadata": {
        "id": "NJ18G-WA-jKi"
      },
      "source": [
        "df2.columns = ['Category', 'Gender', 'Total', 'Economically Active', 'Economically Inactive', 'Unknown']\n",
        "df2 = df2.dropna(subset=['Category', 'Gender'])\n",
        "df2 = df2[df2['Category'].isin(['외국인', '귀화허가자'])]\n",
        "display(df2.head())"
      ],
      "execution_count": null,
      "outputs": []
    },
    {
      "cell_type": "markdown",
      "metadata": {
        "id": "7be72f03"
      },
      "source": [
        "**Reasoning**:\n",
        "The data has been loaded and initially cleaned. The next step is to further clean the data by dropping unnecessary rows and potentially converting data types if needed, based on the content of the 'Total', 'Economically Active', 'Economically Inactive', and 'Unknown' columns. I will also drop the 'Gender' column as it is not relevant for the overall economic activity analysis requested by the task, and I will reset the index.\n",
        "\n"
      ]
    },
    {
      "cell_type": "code",
      "metadata": {
        "id": "d9bd21c7"
      },
      "source": [
        "df2 = df2.drop(columns=['Gender'])\n",
        "df2 = df2.reset_index(drop=True)\n",
        "display(df2.head())"
      ],
      "execution_count": null,
      "outputs": []
    },
    {
      "cell_type": "markdown",
      "metadata": {
        "id": "d0fc8cdf"
      },
      "source": [
        "## Process economic activity data\n",
        "\n",
        "### Subtask:\n",
        "Clean and rename the columns, and filter the data to keep relevant rows and columns for comparison.\n"
      ]
    },
    {
      "cell_type": "markdown",
      "metadata": {
        "id": "5c1e18fa"
      },
      "source": [
        "**Reasoning**:\n",
        "Rename the columns of the df2 DataFrame to meaningful English names, remove rows with missing values in 'Category' or 'Gender', filter by '외국인' or '귀화허가자' in 'Category', remove the 'Gender' column, and reset the index.\n",
        "\n"
      ]
    },
    {
      "cell_type": "code",
      "metadata": {
        "id": "46a11312"
      },
      "source": [
        "# 기본 라이브러리\n",
        "import pandas as pd\n",
        "import matplotlib.pyplot as plt\n",
        "import seaborn as sns\n",
        "from sklearn.ensemble import RandomForestRegressor, RandomForestClassifier\n",
        "from sklearn.model_selection import train_test_split\n",
        "from sklearn.metrics import mean_squared_error, classification_report, confusion_matrix\n",
        "from sklearn.preprocessing import LabelEncoder"
      ],
      "execution_count": null,
      "outputs": []
    },
    {
      "cell_type": "code",
      "source": [
        "# 필수 라이브러리 불러오기\n",
        "import pandas as pd\n",
        "import matplotlib.pyplot as plt\n",
        "import seaborn as sns\n",
        "\n",
        "\n",
        "# 엑셀 파일 불러오기\n",
        "df = pd.read_excel('국내_거주_배우자의_경제활동_여부_이민자__20250625155111.xlsx', header=2)\n",
        "\n",
        "\n",
        "# 열 이름 확인\n",
        "print(df.columns)\n",
        "\n",
        "# 필요 열만 추출\n",
        "# 예시로 ‘성별’, ‘경제활동 여부’, ‘인원수’ 형태로 가정\n",
        "df = df[['성별', '경제활동 상태', '계']]\n",
        "df = df.dropna()\n",
        "\n",
        "# 인원수를 숫자로 변환\n",
        "df['계'] = pd.to_numeric(df['계'], errors='coerce')\n"
      ],
      "metadata": {
        "id": "uEUCZqyfAdOb"
      },
      "execution_count": null,
      "outputs": []
    },
    {
      "cell_type": "code",
      "source": [
        "# 열 이름 확인\n",
        "print(df.columns)\n",
        "\n",
        "# 필요 열만 추출\n",
        "# 예시로 ‘성별’, ‘경제활동 여부’, ‘인원수’ 형태로 가정\n",
        "df = df[['성별', '경제활동 상태', '계']]\n",
        "df = df.dropna()\n",
        "\n",
        "# 인원수를 숫자로 변환\n",
        "df['계'] = pd.to_numeric(df['계'], errors='coerce')\n"
      ],
      "metadata": {
        "id": "Sz2t9g3sDxDt"
      },
      "execution_count": null,
      "outputs": []
    },
    {
      "cell_type": "markdown",
      "source": [
        "https://docs.google.com/presentation/d/12ajxkBN-eHq-kWu-uE9tGMLXE-DXVufGMIcDoIRgJCI/edit?slide=id.g36ad57f14d5_1_0#slide=id.g36ad57f14d5_1_0\n"
      ],
      "metadata": {
        "id": "t1dC-nR3SnMH"
      }
    },
    {
      "cell_type": "markdown",
      "metadata": {
        "id": "8d034b05"
      },
      "source": [
        "**Reasoning**:\n",
        "The error indicates a mismatch in the number of columns when trying to assign new column names. I need to inspect the current columns of df2 to determine the correct number of names to assign.\n",
        "\n"
      ]
    }
  ]
}
