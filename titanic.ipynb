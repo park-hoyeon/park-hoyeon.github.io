{
  "nbformat": 4,
  "nbformat_minor": 0,
  "metadata": {
    "colab": {
      "private_outputs": true,
      "provenance": [],
      "authorship_tag": "ABX9TyMNA4yuvImcd1LnhMcN2Okl",
      "include_colab_link": true
    },
    "kernelspec": {
      "name": "python3",
      "display_name": "Python 3"
    },
    "language_info": {
      "name": "python"
    }
  },
  "cells": [
    {
      "cell_type": "markdown",
      "metadata": {
        "id": "view-in-github",
        "colab_type": "text"
      },
      "source": [
        "<a href=\"https://colab.research.google.com/github/park-hoyeon/park-hoyeon.github.io/blob/master/titanic.ipynb\" target=\"_parent\"><img src=\"https://colab.research.google.com/assets/colab-badge.svg\" alt=\"Open In Colab\"/></a>"
      ]
    },
    {
      "cell_type": "code",
      "execution_count": null,
      "metadata": {
        "id": "Vfxf5_6Ewk2X"
      },
      "outputs": [],
      "source": [
        "!wget https://web.stanford.edu/class/archive/cs/cs109/cs109.1166/stuff/titanic.csv -O titanic.csv"
      ]
    },
    {
      "cell_type": "code",
      "source": [
        "import pandas as pd\n",
        "import numpy as np\n",
        "\n",
        "file_path = './titanic.csv'\n",
        "df = pd.read_csv(file_path)\n",
        "df.head()"
      ],
      "metadata": {
        "id": "Ma3pPc-1wyHj"
      },
      "execution_count": null,
      "outputs": []
    },
    {
      "cell_type": "code",
      "source": [
        "print(df.groupby('Sex')['Survived'].mean())\n"
      ],
      "metadata": {
        "id": "g7r5vybnxCqU"
      },
      "execution_count": null,
      "outputs": []
    },
    {
      "cell_type": "code",
      "source": [
        "print(df.groupby('Sex').mean(numeric_only=True))"
      ],
      "metadata": {
        "id": "laRkChoExzik"
      },
      "execution_count": null,
      "outputs": []
    },
    {
      "cell_type": "code",
      "source": [
        "print(df.groupby('Pclass')['Survived'].mean())\n"
      ],
      "metadata": {
        "id": "vmdspm5SxV5F"
      },
      "execution_count": null,
      "outputs": []
    },
    {
      "cell_type": "code",
      "source": [
        "print(df.groupby(pd.cut(df['Age'], bins=5))['Survived'].mean())\n"
      ],
      "metadata": {
        "id": "42Sr_-VsyzsK"
      },
      "execution_count": null,
      "outputs": []
    },
    {
      "cell_type": "code",
      "source": [
        "import matplotlib.pyplot as plt\n",
        "import seaborn as sns\n",
        "\n",
        "# 성별에 따른 생존율 시각화\n",
        "plt.figure(figsize=(6, 4))\n",
        "sns.barplot(x='Sex', y='Survived', data=df)\n",
        "plt.title('Survival Rate by Sex')\n",
        "plt.show()\n",
        "\n",
        "# 객실 등급에 따른 생존율 시각화\n",
        "plt.figure(figsize=(6, 4))\n",
        "sns.barplot(x='Pclass', y='Survived', data=df)\n",
        "plt.title('Survival Rate by Pclass')\n",
        "plt.show()"
      ],
      "metadata": {
        "id": "9t8YkuJYxeCd"
      },
      "execution_count": null,
      "outputs": []
    },
    {
      "cell_type": "code",
      "source": [
        "plt.figure(figsize=(8, 5))\n",
        "plt.hist(df['Age'].dropna(), bins=20, edgecolor='black')\n",
        "plt.title('Age Distribution of Passengers')\n",
        "plt.xlabel('Age')\n",
        "plt.ylabel('Frequency')\n",
        "plt.show()\n"
      ],
      "metadata": {
        "id": "mpzXeB8QxigZ"
      },
      "execution_count": null,
      "outputs": []
    },
    {
      "cell_type": "code",
      "source": [
        "# Scikit-learn\n",
        "\n",
        "# 2단계: 전처리\n",
        "df['Sex'] = df['Sex'].map({'male': 0, 'female': 1})\n",
        "df['Age'].fillna(df['Age'].median(), inplace=True)\n",
        "\n",
        "# 3단계: feature/target 지정\n",
        "features = [\n",
        "    'Pclass',\n",
        "    'Sex',\n",
        "    'Age',\n",
        "    'Siblings/Spouses Aboard',\n",
        "    'Parents/Children Aboard'\n",
        "]\n",
        "\n",
        "X = df[features]\n",
        "y = df['Survived']\n",
        "\n",
        "from sklearn.tree import DecisionTreeClassifier\n",
        "\n",
        "# 모델 초기화\n",
        "model = DecisionTreeClassifier(random_state=42)\n",
        "\n",
        "# 모델 훈련\n",
        "model.fit(X, y)\n",
        "\n",
        "print(\"모델 훈련이 완료되었습니다.\")\n",
        "\n",
        "# 예: 3등석, 남성(0), 25세, Siblings/Spouses Aboard=0, Parents/Children Aboard=0\n",
        "example_passenger = [[1, 1, 25, 0, 0]]  # 정확한 feature 순서에 맞춰 입력\n",
        "\n",
        "# 예측\n",
        "prediction = model.predict(example_passenger)\n",
        "print(f\"예측 결과 (0: 사망, 1: 생존): {prediction[0]}\")"
      ],
      "metadata": {
        "id": "XYpTy8gYxl_k"
      },
      "execution_count": null,
      "outputs": []
    },
    {
      "cell_type": "code",
      "source": [
        "# 예: 3등석, 남성(0), 25세, Siblings/Spouses Aboard=0, Parents/Children Aboard=0\n",
        "example_passenger = [[3, 1, 40, 0, 0]]  # 정확한 feature 순서에 맞춰 입력\n",
        "\n",
        "# 예측\n",
        "prediction = model.predict(example_passenger)\n",
        "print(f\"예측 결과 (0: 사망, 1: 생존): {prediction[0]}\")"
      ],
      "metadata": {
        "id": "0gPBI0zJ3f42"
      },
      "execution_count": null,
      "outputs": []
    },
    {
      "cell_type": "code",
      "source": [
        "# 예: 3등석, 남성(0), 25세, Siblings/Spouses Aboard=0, Parents/Children Aboard=0\n",
        "example_passenger = [[1, 0, 25, 0, 0]]  # 정확한 feature 순서에 맞춰 입력\n",
        "\n",
        "# 예측\n",
        "prediction = model.predict(example_passenger)\n",
        "print(f\"예측 결과 (0: 사망, 1: 생존): {prediction[0]}\")"
      ],
      "metadata": {
        "id": "ybVQhjat4LY9"
      },
      "execution_count": null,
      "outputs": []
    }
  ]
}