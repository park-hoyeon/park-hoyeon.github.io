{
  "nbformat": 4,
  "nbformat_minor": 0,
  "metadata": {
    "colab": {
      "private_outputs": true,
      "provenance": [],
      "authorship_tag": "ABX9TyN+vkZ05SZ2a5MX3v09ZZ7E",
      "include_colab_link": true
    },
    "kernelspec": {
      "name": "python3",
      "display_name": "Python 3"
    },
    "language_info": {
      "name": "python"
    }
  },
  "cells": [
    {
      "cell_type": "markdown",
      "metadata": {
        "id": "view-in-github",
        "colab_type": "text"
      },
      "source": [
        "<a href=\"https://colab.research.google.com/github/park-hoyeon/park-hoyeon.github.io/blob/master/skt_6_30_Mutl_class_Classification.ipynb\" target=\"_parent\"><img src=\"https://colab.research.google.com/assets/colab-badge.svg\" alt=\"Open In Colab\"/></a>"
      ]
    },
    {
      "cell_type": "code",
      "execution_count": null,
      "metadata": {
        "id": "k9pCApV8ODou"
      },
      "outputs": [],
      "source": []
    },
    {
      "cell_type": "markdown",
      "source": [
        "# 다중퍼셉트론 모델 - 옵티마이즈 등 바꿔보기\n",
        "# 테스트 값을 대상으로.\n",
        "# 결론 뽑아내는 매트릭 - MAE\n"
      ],
      "metadata": {
        "id": "UJznZlALOSgr"
      }
    },
    {
      "cell_type": "code",
      "source": [
        "import pandas as pd\n",
        "value = pd.read_csv('./california_housing_train.csv', na_values = \"?\")\n",
        "display(value.head())"
      ],
      "metadata": {
        "id": "M0hHhGOMOah-"
      },
      "execution_count": null,
      "outputs": []
    },
    {
      "cell_type": "code",
      "source": [
        "from tensorflow.keras.datasets import fashion_mnist\n",
        "(X_train, y_train), (X_test, y_test) = fashion_mnist.load_data()\n",
        "print(X_train.shape, y_train.shape)\n",
        "print(X_test.shape, y_test.shape)"
      ],
      "metadata": {
        "id": "FuC-Jc4SOxnX"
      },
      "execution_count": null,
      "outputs": []
    },
    {
      "cell_type": "code",
      "source": [
        "# 이미지 확인\n",
        "import numpy as np\n",
        "import matplotlib.pyplot as plt\n",
        "\n",
        "class_names = ['T-shirt/top', 'Trouser', 'Pullover',\n",
        "               'Dress', 'Coat', 'Sandal',\n",
        "               'Shirt', 'Sneaker', 'Bag', 'Ankle boot'] # 클래스 10개짜리 문제 해결하는 것임.\n",
        "samples = np.random.randint(len(X_train), size=9)\n",
        "plt.figure(figsize = (8, 6))\n",
        "for i, idx in enumerate(samples):\n",
        "  plt.subplot(3, 3, i+1)\n",
        "  plt.xticks([])\n",
        "  plt.yticks([])\n",
        "  plt.imshow(X_train[idx], cmap = 'gray')\n",
        "  plt.title(class_names[y_train[idx]])\n",
        "plt.show()"
      ],
      "metadata": {
        "id": "TGsd9-_DrDEB"
      },
      "execution_count": null,
      "outputs": []
    },
    {
      "cell_type": "code",
      "source": [
        "# 검증 데이터 준비 - 검증용 데이터를 훈련용 데이터에서 분리한다.\n",
        "from sklearn.model_selection import train_test_split\n",
        "X_train, X_val, y_train, y_val = train_test_split(\n",
        "            X_train, y_train, test_size = 0.3, random_state = 42)\n",
        "print(X_train.shape, y_train.shape)\n",
        "print(X_val.shape, y_val.shape)"
      ],
      "metadata": {
        "id": "oZjrj8oIrPac"
      },
      "execution_count": null,
      "outputs": []
    },
    {
      "cell_type": "code",
      "source": [
        "# 이미지 데이터의 정규화\n",
        "import numpy as np\n",
        "X_train = X_train.astype('float32') / 255.\n",
        "X_val = X_val.astype('float32') / 255.\n",
        "X_test = X_test.astype('float32') / 255.\n",
        "print(np.max(X_train), np.min(X_train))"
      ],
      "metadata": {
        "id": "EJVW6I6zrV6V"
      },
      "execution_count": null,
      "outputs": []
    },
    {
      "cell_type": "code",
      "source": [
        "# shape 변경 - 이미지\t데이터를\tDense\t레이어에\t입력하기\t위해서\t데이터를\t(batch\tnum,\tinput\tnum)\t형태로\t변형\n",
        "X_train = (X_train.reshape((-1, 28 * 28)))\n",
        "X_val = (X_val.reshape((-1, 28 * 28)))\n",
        "X_test = (X_test.reshape((-1, 28 * 28)))\n",
        "print(X_train.shape, y_train.shape)\n",
        "print(X_val.shape, y_val.shape)\n",
        "print(X_test.shape, y_test.shape)"
      ],
      "metadata": {
        "id": "A3xoQUZLrk-r"
      },
      "execution_count": null,
      "outputs": []
    },
    {
      "cell_type": "code",
      "source": [
        "# 원-핫 인코딩\n",
        "from tensorflow.keras.utils import to_categorical\n",
        "y_train_oh = to_categorical(y_train)\n",
        "y_val_oh = to_categorical(y_val)\n",
        "y_test_oh = to_categorical(y_test)\n",
        "y_train_oh[:5]"
      ],
      "metadata": {
        "id": "XtSgapbwrvVo"
      },
      "execution_count": null,
      "outputs": []
    },
    {
      "cell_type": "code",
      "source": [
        "# 모델 만들기\n",
        "from tensorflow import keras\n",
        "from tensorflow.keras import layers\n",
        "def build_model():\n",
        " model = keras.Sequential()\n",
        " model.add(layers.Flatten(input_shape=(784,)))\n",
        " model.add(layers.Dense(64, activation = 'relu',\n",
        "                          input_shape=(784,)))\n",
        " model.add(layers.Dense(32, activation = 'relu'))\n",
        " model.add(layers.Dense(10, activation = 'softmax'))\n",
        " return model\n",
        "\n",
        "model = build_model()\n",
        "model.summary()"
      ],
      "metadata": {
        "id": "Cx52TUlgr0X5"
      },
      "execution_count": null,
      "outputs": []
    },
    {
      "cell_type": "code",
      "source": [
        "#컴파일\n",
        "import tensorflow as tf\n",
        "adam = tf.keras.optimizers.Adam(learning_rate=0.001)\n",
        "model.compile(optimizer=adam,\n",
        "      loss = 'categorical_crossentropy',\n",
        "      metrics=['acc'])"
      ],
      "metadata": {
        "id": "e-7-OCQ_r-sn"
      },
      "execution_count": null,
      "outputs": []
    },
    {
      "cell_type": "code",
      "source": [
        "# 학습\n",
        "EPOCHS = 100\n",
        "BATCH_SIZE = 64\n",
        "history = model.fit(X_train, y_train_oh,\n",
        "           epochs = EPOCHS,\n",
        "           batch_size = BATCH_SIZE,\n",
        "           validation_data = (X_val, y_val_oh),\n",
        "           verbose = 1)"
      ],
      "metadata": {
        "id": "MJKheADbsRGs"
      },
      "execution_count": null,
      "outputs": []
    },
    {
      "cell_type": "code",
      "metadata": {
        "id": "f2581994"
      },
      "source": [
        "def plot_history(history):\n",
        "    \"\"\"\n",
        "    Plots the training and validation accuracy and loss over epochs.\n",
        "\n",
        "    Args:\n",
        "        history: A Keras History object.\n",
        "    \"\"\"\n",
        "    acc = history.history['acc']\n",
        "    val_acc = history.history['val_acc']\n",
        "    loss = history.history['loss']\n",
        "    val_loss = history.history['val_loss']\n",
        "    epochs = range(1, len(acc) + 1)\n",
        "\n",
        "    plt.figure(figsize=(12, 5))\n",
        "\n",
        "    plt.subplot(1, 2, 2)\n",
        "    plt.plot(epochs, loss, 'bo', label='Training loss')\n",
        "    plt.plot(epochs, val_loss, 'b', label='Validation loss')\n",
        "    plt.title('Training and validation loss')\n",
        "    plt.xlabel('Epochs')\n",
        "    plt.ylabel('Loss')\n",
        "    plt.legend()\n",
        "\n",
        "\n",
        "\n",
        "    plt.subplot(1, 2, 1)\n",
        "    plt.plot(epochs, acc, 'bo', label='Training acc')\n",
        "    plt.plot(epochs, val_acc, 'b', label='Validation acc')\n",
        "    plt.title('Training and validation accuracy')\n",
        "    plt.xlabel('Epochs')\n",
        "    plt.ylabel('Accuracy')\n",
        "    plt.legend()\n",
        "\n",
        "\n",
        "\n",
        "    plt.show()"
      ],
      "execution_count": null,
      "outputs": []
    },
    {
      "cell_type": "code",
      "source": [
        "# 학습 곡선\n",
        "plot_history(history)"
      ],
      "metadata": {
        "id": "GFUo-KYktuB1"
      },
      "execution_count": null,
      "outputs": []
    },
    {
      "cell_type": "code",
      "source": [
        "# 예측\n",
        "y_pred = model.predict(X_test)\n",
        "y_pred[:1]"
      ],
      "metadata": {
        "id": "S74g4FNZuDCy"
      },
      "execution_count": null,
      "outputs": []
    },
    {
      "cell_type": "code",
      "source": [
        "#np.argmax() - 가장 확률이 높은 인덱스를 추출한다.\n",
        "y_pred_argmax = np.argmax(y_pred, axis=1)\n",
        "y_pred_argmax[:10]"
      ],
      "metadata": {
        "id": "jQOrMKSVuHi3"
      },
      "execution_count": null,
      "outputs": []
    },
    {
      "cell_type": "code",
      "source": [
        "# 예측 결과의 이미지 표시\n",
        "n_rows = 3\n",
        "n_cols = 8\n",
        "plt.figure(figsize=(n_cols * 2, n_rows * 2))\n",
        "plt.figure(figsize=(n_cols * 2, n_rows * 2))\n",
        "\n",
        "# Reload the Fashion MNIST dataset to get the original X_test data\n",
        "from tensorflow.keras.datasets import fashion_mnist\n",
        "(_, _), (X_test_original, y_test_original) = fashion_mnist.load_data()\n",
        "\n",
        "\n",
        "for row in range(n_rows):\n",
        "  for col in range(n_cols):\n",
        "    index = n_cols * row + col\n",
        "    plt.subplot(n_rows, n_cols, index + 1)\n",
        "    plt.imshow(X_test_original[index], cmap=\"gray\")\n",
        "    plt.axis('off')\n",
        "    plt.title(f'{class_names[y_pred_argmax[index]]}({class_names[y_test_original[index]]})')\n",
        "plt.show()"
      ],
      "metadata": {
        "id": "ft8ntIyHuQNi"
      },
      "execution_count": null,
      "outputs": []
    },
    {
      "cell_type": "code",
      "source": [
        "#혼동행렬 시각화\n",
        "from sklearn.metrics import confusion_matrix\n",
        "import seaborn as sns\n",
        "def plot_matrix(y_test, y_pred):\n",
        "  plt.figure(figsize = (10, 8))\n",
        "  cm = confusion_matrix(y_test, y_pred)\n",
        "  sns.heatmap(cm, annot = True, fmt = 'd',cmap = 'Blues')\n",
        "  plt.xlabel('predicted label', fontsize = 15)\n",
        "  plt.ylabel('true label', fontsize = 15)\n",
        "  plt.show()\n",
        "plot_matrix(y_test, y_pred_argmax)"
      ],
      "metadata": {
        "id": "nNJw8GgNuj5K"
      },
      "execution_count": null,
      "outputs": []
    },
    {
      "cell_type": "code",
      "source": [
        "#평가 지표 계산\n",
        "from sklearn.metrics import accuracy_score, precision_score, recall_score, f1_score\n",
        "def print_score(y_test, y_pred):\n",
        "  print('accuracy: %.3f' % (accuracy_score(y_test, y_pred)))\n",
        "  print('precision: %.3f' % (precision_score(y_test, y_pred,\n",
        "average='macro')))\n",
        "  print('recall_score: %.3f' % (recall_score(y_test, y_pred,\n",
        "average='macro')))\n",
        "  print('f1_score: %.3f' % (f1_score(y_test, y_pred,\n",
        "average='macro')))\n",
        "print_score(y_test, y_pred_argmax)"
      ],
      "metadata": {
        "id": "LWpVoZU5uqIV"
      },
      "execution_count": null,
      "outputs": []
    }
  ]
}