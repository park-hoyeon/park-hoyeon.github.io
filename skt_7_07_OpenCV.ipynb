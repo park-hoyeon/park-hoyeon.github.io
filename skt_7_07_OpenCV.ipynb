{
  "nbformat": 4,
  "nbformat_minor": 0,
  "metadata": {
    "colab": {
      "private_outputs": true,
      "provenance": [],
      "authorship_tag": "ABX9TyOMCh1AsF6byx6+NU3CLDOf",
      "include_colab_link": true
    },
    "kernelspec": {
      "name": "python3",
      "display_name": "Python 3"
    },
    "language_info": {
      "name": "python"
    }
  },
  "cells": [
    {
      "cell_type": "markdown",
      "metadata": {
        "id": "view-in-github",
        "colab_type": "text"
      },
      "source": [
        "<a href=\"https://colab.research.google.com/github/park-hoyeon/park-hoyeon.github.io/blob/master/skt_7_07_OpenCV.ipynb\" target=\"_parent\"><img src=\"https://colab.research.google.com/assets/colab-badge.svg\" alt=\"Open In Colab\"/></a>"
      ]
    },
    {
      "cell_type": "code",
      "execution_count": null,
      "metadata": {
        "id": "WGc-1e5QO919"
      },
      "outputs": [],
      "source": [
        "pip install opencv-python-headless\n"
      ]
    },
    {
      "cell_type": "code",
      "source": [
        "import cv2\n",
        "import numpy as np\n",
        "from google.colab.patches import cv2_imshow"
      ],
      "metadata": {
        "id": "1XOI58rJRYvm"
      },
      "execution_count": null,
      "outputs": []
    },
    {
      "cell_type": "code",
      "source": [],
      "metadata": {
        "id": "rwvbIbWySR6l"
      },
      "execution_count": null,
      "outputs": []
    },
    {
      "cell_type": "code",
      "metadata": {
        "id": "uhPnQgORsbZ"
      },
      "source": [
        "!wget -O cat.jpg https://raw.githubusercontent.com/opencv/opencv/master/samples/data/lena.jpg\n",
        "\n",
        "# 이미지 파일 이름\n",
        "file_name = 'cat.jpg'\n",
        "\n",
        "# 이미지를 컬러로 읽기\n",
        "img_color = cv2.imread(file_name, cv2.IMREAD_COLOR)\n",
        "\n",
        "# 읽어온 이미지를 colab 노트북 상에서 띄우기\n",
        "cv2_imshow(img_color)"
      ],
      "execution_count": null,
      "outputs": []
    },
    {
      "cell_type": "markdown",
      "source": [
        "## imread 함수 파라미터\n",
        "- filename\n",
        "- flags"
      ],
      "metadata": {
        "id": "RzpiLm8JTZCt"
      }
    },
    {
      "cell_type": "code",
      "source": [
        "#이미지 저장\n",
        "cv2.imwrite('saved_image.jpg', img_color)\n",
        "print(\"이미지가 저장되었습니다: saved_image.jpg\")"
      ],
      "metadata": {
        "id": "cFG1IYnnShjc"
      },
      "execution_count": null,
      "outputs": []
    },
    {
      "cell_type": "markdown",
      "source": [
        "## imwirte 함수 파라미터\n",
        "- filename: 저장된 파일 경로\n",
        "- img: 저장할 이미지 (Mat) 객체\n",
        "\n",
        "이미지가 저장되면, colab 왼쪽 파일 탐색 텝에서 해당 파일을 확인할 수 있다."
      ],
      "metadata": {
        "id": "WifDTixdTr61"
      }
    },
    {
      "cell_type": "code",
      "source": [
        "# 이미지를 그레이스케일로 변환\n",
        "img_gray = cv2.cvtColor(img_color, cv2.COLOR_BGR2GRAY)\n",
        "\n",
        "# 변환된 이미지 출력\n",
        "cv2_imshow(img_gray)\n",
        "\n",
        "# 저장\n",
        "cv2.imwrite('sgray_image.jpg', img_gray)"
      ],
      "metadata": {
        "id": "5n40UHJMTp6J"
      },
      "execution_count": null,
      "outputs": []
    },
    {
      "cell_type": "markdown",
      "source": [
        "## cvtColor 함수 파라미터\n",
        "- src: 변환할 원본 이미지\n",
        "- code: 변환 방법 코드"
      ],
      "metadata": {
        "id": "eT10R1VcUwBN"
      }
    },
    {
      "cell_type": "markdown",
      "source": [
        "## 이미지 크기 조정"
      ],
      "metadata": {
        "id": "wQKuCEApU5AD"
      }
    },
    {
      "cell_type": "code",
      "source": [
        "h,w = img_color.shape[:2]\n",
        "img_resized = cv2.resize(img_color, (w//2, h//2))\n",
        "\n",
        "# 크기 변경된 이미지 출력\n",
        "cv2_imshow(img_resized)\n",
        "\n",
        "# 저장\n",
        "cv2.imwrite('resized_image.jpg', img_resized)"
      ],
      "metadata": {
        "id": "43Mqrx8JUUvW"
      },
      "execution_count": null,
      "outputs": []
    },
    {
      "cell_type": "markdown",
      "source": [
        "## 색상 공간 변환 (HSV)\n"
      ],
      "metadata": {
        "id": "igHBFDg0Vva2"
      }
    },
    {
      "cell_type": "code",
      "source": [
        "# BGR 이미지를 HSV로 변환\n",
        "img_hsv = cv2.cvtColor(img_color, cv2.COLOR_BGR2HSV)\n",
        "\n",
        "# HSV 이미지 출력\n",
        "cv2_imshow(img_hsv)\n"
      ],
      "metadata": {
        "id": "sK2NjsWHVJ4v"
      },
      "execution_count": null,
      "outputs": []
    },
    {
      "cell_type": "markdown",
      "source": [
        "# 과제\n",
        "### 특정 색상 추출하기\n",
        ":HSV 색상 공간을 사용하면 특정 범위의 색상만 마스킹하여 추출할 수 있다.\n",
        "사용자가 특정 색상을 입력 받아 그 색상 범위를 마스크를 만들고, 마스크가 적용된 이미지를 확인하는 예시코드르 작성해보자."
      ],
      "metadata": {
        "id": "64lIvpj2WV_g"
      }
    },
    {
      "cell_type": "code",
      "source": [
        "# 특정 색상 범위를 HSV로 정의해둔 예시 (빨간,초록, 파란)\n",
        "# 실제로는 사용자가 입력한 값으로 범위를 설정하거나, 필요에 따라 다른 범위를 추가할 수 있음.\n",
        "color_ranges = {\n",
        "    'red': {'lower':(0,100,100), 'upper':(10,255,255)}, # 빨간 (0-10 and 170-180 for hue) - Need to handle wrap around for red\n",
        "    'green': {'lower':(40,100,100), 'upper':(70,255,255)}, # 초록\n",
        "    'blue': {'lower': (100,100,100), 'upper':(130,255,255)} # 파란\n",
        "}\n",
        "\n",
        "# 사용자로부터 색상 입력 받기\n",
        "user_color = 'red'# 이 값을 'green', 'blue'로 바꿔 가며 테스트\n",
        "\n",
        "# HSV 이미지 준비\n",
        "img_hsv = cv2.cvtColor(img_color, cv2.COLOR_BGR2HSV)\n",
        "\n",
        "# 색상 범위 가져오기\n",
        "lower_val = color_ranges[user_color]['lower']\n",
        "upper_val = color_ranges[user_color]['upper']\n",
        "\n",
        "# 특정 색상 범위에 해당하는 마스크 생성\n",
        "# For red, we need to handle the hue wrap-around.\n",
        "# This example only handles the lower part of the red hue range (0-10).\n",
        "# A more robust solution would create two masks and combine them for the full red range.\n",
        "mask = cv2.inRange(img_hsv, lower_val, upper_val)\n",
        "\n",
        "# 마스크를 원본 이미지에 적용\n",
        "masked_image = cv2.bitwise_and(img_color, img_color, mask=mask)\n",
        "\n",
        "# Convert original image to grayscale\n",
        "img_gray = cv2.cvtColor(img_color, cv2.COLOR_BGR2GRAY)\n",
        "\n",
        "# 결과 이미지 출력\n",
        "\n",
        "print(f\"Masked Image ({user_color} extracted):\")\n",
        "cv2_imshow(mask)\n",
        "cv2_imshow(masked_image)\n",
        "\n",
        "# 저장 (선택 사항)\n",
        "# cv2.imwrite(f'{user_color}_extracted_image.jpg', masked_image)"
      ],
      "metadata": {
        "id": "yeV6MmyVWCZ6"
      },
      "execution_count": null,
      "outputs": []
    },
    {
      "cell_type": "code",
      "source": [
        "#가우시안 블러 적용\n",
        "blurred_gaussian = cv2.GaussianBlur(img_color, (7,7),0)\n",
        "cv2_imshow(blurred_gaussian)\n",
        "cv2.imwrite('gaussian_blur.jpg', blurred_gaussian)\n",
        "\n",
        "# 미디언 블러 적용\n",
        "# 커널 크기는 7\n",
        "blurred_median = cv2.medianBlur(img_color, 7)\n",
        "cv2_imshow(blurred_median)\n",
        "cv2.imwrite('blurred_median.jpg', blurred_median)"
      ],
      "metadata": {
        "id": "uuJjuYTPaYMX"
      },
      "execution_count": null,
      "outputs": []
    },
    {
      "cell_type": "markdown",
      "source": [
        "# OpenCV 이미지 연산 실습\n"
      ],
      "metadata": {
        "id": "MlVQ_t2MdozB"
      }
    },
    {
      "cell_type": "code",
      "source": [
        "# 환경 설정 및 라이브러리 불러오기\n",
        "!pip install opencv-python-headless"
      ],
      "metadata": {
        "id": "OIGmVQzOcgIS"
      },
      "execution_count": null,
      "outputs": []
    },
    {
      "cell_type": "code",
      "source": [
        "import cv2\n",
        "import numpy as np\n",
        "from google.colab import files\n",
        "from google.colab.patches import cv2_imshow\n",
        "import time"
      ],
      "metadata": {
        "id": "XxvvpayAd2zW"
      },
      "execution_count": null,
      "outputs": []
    },
    {
      "cell_type": "markdown",
      "source": [
        "## 이미지 업로드 및 정보 확인\n"
      ],
      "metadata": {
        "id": "o2AHC4ZZeGa7"
      }
    },
    {
      "cell_type": "code",
      "source": [
        "# colab에 이미지 업로드\n",
        "uploaded = files.upload()\n",
        "\n",
        "# 업로드된 첫 번째 이미지 파일 이름 가져오기\n",
        "filename = list(uploaded.keys())[0]\n",
        "\n",
        "# 이미지를 BGR 컬러로 읽기\n",
        "image = cv2.imread(filename, cv2.IMREAD_COLOR)\n",
        "\n",
        "# 이미지 기본 정보 확인\n",
        "print(\"이미지 크기 (H,W,C):\", image.shape)\n",
        "print(\"이미지 전체 픽셀 수: \", image.size)\n",
        "\n",
        "# 특정 픽셀의 BGR 값 확인\n",
        "y,x = 100,100\n",
        "if y < image.shape[0] and x < image.shape[1]:\n",
        "  px = image[y,x]\n",
        "  print(f\"픽셀 ({y},{x})의 BGR 값: {px}\")\n",
        "  print(f\"픽셀 ({y},{x})의 B 값: {px[0]}\")\n",
        "  print(f\"픽셀 ({y},{x})의 G 값: {px[1]}\")\n",
        "  print(f\"픽셀 ({y},{x})의 R 값: {px[2]}\")\n"
      ],
      "metadata": {
        "id": "1wwKP5x9eFG1"
      },
      "execution_count": null,
      "outputs": []
    },
    {
      "cell_type": "markdown",
      "source": [
        "# 특정 범위 픽셀 값 변경하기\n",
        "- 반복문 방식\n",
        "- 슬라이싱 방식\n"
      ],
      "metadata": {
        "id": "rNJkGqePhJC7"
      }
    },
    {
      "cell_type": "code",
      "source": [
        "# 이미지 복사본 생성\n",
        "image_copy = image.copy()\n",
        "\n",
        "# (1) 반복문을 이용한 특정 범위 변경\n",
        "start_time = time.time()\n",
        "rows = min(100, image_copy.shape[0])\n",
        "cols = min(100, image_copy.shape[1])\n",
        "for i in range(rows):\n",
        "    for j in range(cols):\n",
        "        image_copy[i, j] = [255, 255, 255]\n",
        "end_time = time.time()\n",
        "print(\"--- 반복문 방식 수행 시간 : %.6f seconds ---\" % (end_time - start_time))\n",
        "\n",
        "# (2) 슬라이싱을 이용한 특정 범위 변경\n",
        "image_copy2 = image.copy()\n",
        "start_time = time.time()\n",
        "image_copy2[0:rows, 0:cols] = [0,0,0]\n",
        "end_time = time.time()\n",
        "print(\"--- 슬라이싱 방식 수행 시간 : %.6f seconds ---\" % (end_time - start_time))\n",
        "\n",
        "# 결과 이미지 보기\n",
        "print(\"\\n[반복문 방식] 상단 100*100 영역을 흰색으로 변경\")\n",
        "cv2_imshow(image_copy)\n",
        "\n",
        "print(\"\\n[슬라이싱 방식] 상단 100*100 영역을 검정색으로 변경\")\n",
        "cv2_imshow(image_copy2)"
      ],
      "metadata": {
        "id": "DM_uYeNcfwYc"
      },
      "execution_count": null,
      "outputs": []
    },
    {
      "cell_type": "markdown",
      "source": [
        "# ROI (Region of Interset) 추출 및 복사\n"
      ],
      "metadata": {
        "id": "EAb7T002i3BS"
      }
    },
    {
      "cell_type": "code",
      "source": [
        "# ROI 추출\n",
        "image_copy3 = image.copy()\n",
        "\n",
        "# 안전하게 min() 함수를 사용해 이미지 범위 내에서만 추출\n",
        "roi = image_copy3[20:min(150, image_copy3.shape[0]), 70:min(200, image_copy3.shape[1])]\n",
        "\n",
        "# 잘라낸 roi 확인\n",
        "print(\"[ROI] 20:150, 70:200 영역\")\n",
        "cv2_imshow(roi)\n",
        "\n",
        "# ROI를 다른 위치(0:130, 0:130)에 복사\n",
        "h_roi, w_roi = roi.shape[:2]\n",
        "end_y = min(h_roi, image_copy3.shape[0])\n",
        "end_x = min(w_roi, image_copy3.shape[1])\n",
        "image_copy3[0:end_y, 0:end_x] = roi\n",
        "\n",
        "print(\"[Modified image] ROI를 좌측 상단에 복사\")\n",
        "cv2_imshow(image_copy3)\n",
        "#"
      ],
      "metadata": {
        "id": "SxQC4BAwiNyv"
      },
      "execution_count": null,
      "outputs": []
    },
    {
      "cell_type": "markdown",
      "source": [
        "# 픽셀별로 색상 다루기"
      ],
      "metadata": {
        "id": "EcFODWcck2_A"
      }
    },
    {
      "cell_type": "code",
      "source": [
        "# (1) Blue 채널만 확인\n",
        "blue_channel = image[:,:,0]\n",
        "print(\"[blue channel]\")\n",
        "cv2_imshow(blue_channel)\n",
        "\n",
        "# (2) 특정 색상 채널 제거 (red채널을 0으로)\n",
        "image_no_red = image.copy()\n",
        "image_no_red[:,:,2] = 0\n",
        "print(\"[image without red channel]\")\n",
        "cv2_imshow(image_no_red)\n",
        "\n"
      ],
      "metadata": {
        "id": "vii-gH_bkGvH"
      },
      "execution_count": null,
      "outputs": []
    },
    {
      "cell_type": "markdown",
      "source": [
        "# 추가 과제"
      ],
      "metadata": {
        "id": "_szGKmUFnEf1"
      }
    },
    {
      "cell_type": "code",
      "metadata": {
        "id": "47c48f31"
      },
      "source": [
        "# 슬라이싱을 이용해 상단 100*100 영역의 색상을 반전(255-pixel)하기\n",
        "\n",
        "# 이미지 복사본 생성 (원본 유지를 위해)\n",
        "image_inverted = image.copy()\n",
        "\n",
        "# 상단 100*100 영역의 색상을 반전\n",
        "rows_to_invert = min(100, image_inverted.shape[0])\n",
        "cols_to_invert = min(100, image_inverted.shape[1])\n",
        "\n",
        "image_inverted[0:rows_to_invert, 0:cols_to_invert] = 255 - image_inverted[0:rows_to_invert, 0:cols_to_invert]\n",
        "\n",
        "# 결과 이미지 출력\n",
        "print(\"[Image with Inverted Top-Left Corner]\")\n",
        "cv2_imshow(image_inverted)\n",
        "\n",
        "# 저장 (선택 사항)\n",
        "# cv2.imwrite('inverted_top_left.jpg', image_inverted)"
      ],
      "execution_count": null,
      "outputs": []
    },
    {
      "cell_type": "code",
      "metadata": {
        "id": "1c380b7a"
      },
      "source": [
        "# ROI로 추출한 영역을 오른쪽 하단에 붙여 넣기\n",
        "# 원본 이미지 크기를 확인해 적절히 붙여넣는 좌표를 계산하시오.\n",
        "\n",
        "# 이미지 복사본 생성 (원본 유지를 위해)\n",
        "image_with_roi = image.copy()\n",
        "\n",
        "# 이전에 추출한 ROI (assuming 'roi' variable from a previous cell is available)\n",
        "# If 'roi' is not available, you would need to re-extract it here:\n",
        "# roi = image_with_roi[20:min(150, image_with_roi.shape[0]), 70:min(200, image_with_roi.shape[1])]\n",
        "\n",
        "# ROI의 크기 확인\n",
        "h_roi, w_roi = roi.shape[:2]\n",
        "\n",
        "# 원본 이미지의 크기 확인\n",
        "h_img, w_img = image_with_roi.shape[:2]\n",
        "\n",
        "# 오른쪽 하단에 붙여넣을 시작 좌표 계산\n",
        "# y 좌표: 이미지 높이 - ROI 높이\n",
        "# x 좌표: 이미지 너비 - ROI 너비\n",
        "start_y = h_img - h_roi\n",
        "start_x = w_img - w_roi\n",
        "\n",
        "# ROI를 오른쪽 하단에 붙여 넣기\n",
        "# 슬라이싱을 사용하여 해당 영역에 ROI 값을 할당\n",
        "image_with_roi[start_y:h_img, start_x:w_img] = roi\n",
        "\n",
        "# 결과 이미지 출력\n",
        "print(\"[Image with ROI pasted in bottom-right corner]\")\n",
        "cv2_imshow(image_with_roi)\n",
        "\n",
        "# 저장 (선택 사항)\n",
        "# cv2.imwrite('image_with_roi_bottom_right.jpg', image_with_roi)"
      ],
      "execution_count": null,
      "outputs": []
    },
    {
      "cell_type": "code",
      "metadata": {
        "id": "8d003f83"
      },
      "source": [
        "# BGR 이미지를 RGB 순서로 채널 변경하기\n",
        "\n",
        "# 방법 1: 배열 슬라이싱 이용\n",
        "# OpenCV는 BGR 순서로 이미지를 읽으므로, RGB로 바꾸려면 채널 순서를 바꿔야 함\n",
        "# image[:,:,0]는 Blue 채널, image[:,:,1]는 Green 채널, image[:,:,2]는 Red 채널\n",
        "image_rgb_slicing = image[:, :, ::-1]\n",
        "\n",
        "print(\"[Image with channels swapped using slicing (BGR to RGB)]\")\n",
        "cv2_imshow(image_rgb_slicing)\n",
        "\n",
        "# 방법 2: cv2.cvtColor 이용\n",
        "image_rgb_cvtColor = cv2.cvtColor(image, cv2.COLOR_BGR2RGB)\n",
        "\n",
        "print(\"\\n[Image with channels swapped using cv2.cvtColor (BGR to RGB)]\")\n",
        "cv2_imshow(image_rgb_cvtColor)\n",
        "\n",
        "# 두 결과가 동일한지 확인 (선택 사항)\n",
        "# print(\"\\nAre the two methods producing the same result?\", np.array_equal(image_rgb_slicing, image_rgb_cvtColor))"
      ],
      "execution_count": null,
      "outputs": []
    },
    {
      "cell_type": "code",
      "source": [],
      "metadata": {
        "id": "-dywmY_FnyGO"
      },
      "execution_count": null,
      "outputs": []
    },
    {
      "cell_type": "markdown",
      "metadata": {
        "id": "b5680174"
      },
      "source": [
        "# Task\n",
        "Upload two images, extract a region of interest from the first image, and paste it onto the second image at a specified location."
      ]
    },
    {
      "cell_type": "markdown",
      "metadata": {
        "id": "ee4a142d"
      },
      "source": [
        "## Upload images\n",
        "\n",
        "### Subtask:\n",
        "Upload two images from your local machine.\n"
      ]
    },
    {
      "cell_type": "markdown",
      "metadata": {
        "id": "1aacd0ec"
      },
      "source": [
        "## Upload images\n",
        "\n",
        "### Subtask:\n",
        "Upload two images from your local machine."
      ]
    },
    {
      "cell_type": "markdown",
      "metadata": {
        "id": "5e8457ca"
      },
      "source": [
        "**Reasoning**:\n",
        "The subtask requires uploading two images. The `files.upload()` function from `google.colab` is used to facilitate this process in a Colab environment. I need to call this function twice to upload two separate images."
      ]
    },
    {
      "cell_type": "code",
      "metadata": {
        "id": "c3d7b303"
      },
      "source": [
        "uploaded_img1 = files.upload()\n",
        "time.sleep(1) # Add a small delay between uploads to avoid potential issues\n",
        "uploaded_img2 = files.upload()"
      ],
      "execution_count": null,
      "outputs": []
    },
    {
      "cell_type": "markdown",
      "metadata": {
        "id": "f948cc3e"
      },
      "source": [
        "## Load images\n",
        "\n",
        "### Subtask:\n",
        "Load the uploaded images into OpenCV format."
      ]
    },
    {
      "cell_type": "markdown",
      "metadata": {
        "id": "ad4a5abf"
      },
      "source": [
        "**Reasoning**:\n",
        "To process the images using OpenCV, they need to be read from the uploaded files into a format that OpenCV can work with (NumPy arrays). The `cv2.imread` function is used for this purpose. We will read both uploaded images."
      ]
    },
    {
      "cell_type": "code",
      "metadata": {
        "id": "2e222bc8"
      },
      "source": [
        "# Get the filenames of the uploaded images\n",
        "filename1 = list(uploaded_img1.keys())[0]\n",
        "filename2 = list(uploaded_img2.keys())[0]\n",
        "\n",
        "# Read the images using cv2.imread\n",
        "# Use cv2.IMREAD_COLOR to ensure they are loaded as color images\n",
        "image1 = cv2.imread(filename1, cv2.IMREAD_COLOR)\n",
        "image2 = cv2.imread(filename2, cv2.IMREAD_COLOR)\n",
        "\n",
        "# Check if images were loaded successfully\n",
        "if image1 is None:\n",
        "    print(f\"Error loading image 1: {filename1}\")\n",
        "else:\n",
        "    print(f\"Image 1 loaded successfully: {filename1}\")\n",
        "    print(\"Image 1 shape:\", image1.shape)\n",
        "\n",
        "\n",
        "if image2 is None:\n",
        "    print(f\"Error loading image 2: {filename2}\")\n",
        "else:\n",
        "    print(f\"Image 2 loaded successfully: {filename2}\")\n",
        "    print(\"Image 2 shape:\", image2.shape)\n",
        "\n",
        "# Display the loaded images to confirm\n",
        "if image1 is not None:\n",
        "    print(\"\\nImage 1:\")\n",
        "    cv2_imshow(image1)\n",
        "if image2 is not None:\n",
        "    print(\"\\nImage 2:\")\n",
        "    cv2_imshow(image2)"
      ],
      "execution_count": null,
      "outputs": []
    },
    {
      "cell_type": "markdown",
      "metadata": {
        "id": "5b9bbc3c"
      },
      "source": [
        "## Define and Extract ROI\n",
        "\n",
        "### Subtask:\n",
        "Define the coordinates for the ROI in the second image and extract the region."
      ]
    },
    {
      "cell_type": "markdown",
      "metadata": {
        "id": "41e9bed9"
      },
      "source": [
        "**Reasoning**:\n",
        "To extract the ROI, we need to specify the rectangular area using pixel coordinates. Slicing is an efficient way to select this region from the image NumPy array. We will define variables for the start and end y and x coordinates and use them for slicing `image2`."
      ]
    },
    {
      "cell_type": "code",
      "metadata": {
        "id": "e5a01b89"
      },
      "source": [
        "# Define the coordinates for the ROI in the second image (image2)\n",
        "# You need to replace these with the actual coordinates you want to extract\n",
        "roi_start_y = 50  # Starting y-coordinate of the ROI\n",
        "roi_end_y = 120   # Ending y-coordinate of the ROI\n",
        "roi_start_x = 80  # Starting x-coordinate of the ROI\n",
        "roi_end_x = 200   # Ending x-coordinate of the ROI\n",
        "\n",
        "# Ensure the coordinates are within the bounds of image2\n",
        "h2, w2 = image2.shape[:2]\n",
        "roi_start_y = max(0, roi_start_y)\n",
        "roi_end_y = min(h2, roi_end_y)\n",
        "roi_start_x = max(0, roi_start_x)\n",
        "roi_end_x = min(w2, roi_end_x)\n",
        "\n",
        "\n",
        "# Extract the ROI from image2 using slicing\n",
        "# Make sure the start coordinates are less than the end coordinates\n",
        "if roi_start_y < roi_end_y and roi_start_x < roi_end_x:\n",
        "  roi = image2[roi_start_y:roi_end_y, roi_start_x:roi_end_x]\n",
        "\n",
        "  # Display the extracted ROI\n",
        "  print(\"Extracted ROI:\")\n",
        "  cv2_imshow(roi)\n",
        "else:\n",
        "  print(\"Error: ROI coordinates are invalid. Start coordinates must be less than end coordinates.\")\n",
        "  roi = None # Set roi to None if coordinates are invalid"
      ],
      "execution_count": null,
      "outputs": []
    },
    {
      "cell_type": "markdown",
      "metadata": {
        "id": "336e2447"
      },
      "source": [
        "## Paste ROI onto the other image\n",
        "\n",
        "### Subtask:\n",
        "Paste the extracted ROI from the second image onto the first image at a specified location."
      ]
    },
    {
      "cell_type": "markdown",
      "metadata": {
        "id": "bdf83446"
      },
      "source": [
        "**Reasoning**:\n",
        "To paste the ROI, we need to define the top-left coordinates on the destination image (`image1`). We then use slicing to assign the pixel values of the ROI to the corresponding area in `image1`. We also need to ensure the ROI fits within the bounds of `image1`."
      ]
    },
    {
      "cell_type": "code",
      "metadata": {
        "id": "91fde7ed"
      },
      "source": [
        "# Make a copy of image1 to avoid modifying the original\n",
        "image1_with_roi = image1.copy()\n",
        "\n",
        "# Get the dimensions of the ROI\n",
        "h_roi, w_roi = roi.shape[:2]\n",
        "\n",
        "# Define the top-left coordinates for pasting the ROI on image1\n",
        "# You can change these coordinates to paste the ROI at a different location\n",
        "paste_y = 50  # Top-left y-coordinate for pasting\n",
        "paste_x = 50  # Top-left x-coordinate for pasting\n",
        "\n",
        "# Calculate the bottom-right coordinates for pasting\n",
        "paste_end_y = paste_y + h_roi\n",
        "paste_end_x = paste_x + w_roi\n",
        "\n",
        "# Check if the ROI fits within the dimensions of image1 at the paste location\n",
        "h1, w1 = image1_with_roi.shape[:2]\n",
        "\n",
        "if paste_end_y <= h1 and paste_end_x <= w1:\n",
        "    # Paste the ROI onto image1\n",
        "    image1_with_roi[paste_y:paste_end_y, paste_x:paste_end_x] = roi\n",
        "\n",
        "    # Display the resulting image\n",
        "    print(\"Image with ROI pasted:\")\n",
        "    cv2_imshow(image1_with_roi)\n",
        "else:\n",
        "    print(\"Error: The ROI does not fit at the specified paste location in the first image.\")\n",
        "    print(f\"Image 1 dimensions: {h1}x{w1}\")\n",
        "    print(f\"ROI dimensions: {h_roi}x{w_roi}\")\n",
        "    print(f\"Paste location ends at: ({paste_end_y}, {paste_end_x})\")\n",
        "\n",
        "\n",
        "# Save the result (Optional)\n",
        "# cv2.imwrite('image1_with_pasted_roi.jpg', image1_with_roi)"
      ],
      "execution_count": null,
      "outputs": []
    },
    {
      "cell_type": "markdown",
      "source": [
        "#"
      ],
      "metadata": {
        "id": "D9KM6Sq1tUY7"
      }
    },
    {
      "cell_type": "code",
      "source": [],
      "metadata": {
        "id": "BYQgO12ftayK"
      },
      "execution_count": null,
      "outputs": []
    }
  ]
}