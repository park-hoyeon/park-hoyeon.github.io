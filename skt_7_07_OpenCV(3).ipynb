{
  "nbformat": 4,
  "nbformat_minor": 0,
  "metadata": {
    "colab": {
      "private_outputs": true,
      "provenance": [],
      "authorship_tag": "ABX9TyPzKpP/wsSlxHaHWHGF8wZu",
      "include_colab_link": true
    },
    "kernelspec": {
      "name": "python3",
      "display_name": "Python 3"
    },
    "language_info": {
      "name": "python"
    }
  },
  "cells": [
    {
      "cell_type": "markdown",
      "metadata": {
        "id": "view-in-github",
        "colab_type": "text"
      },
      "source": [
        "<a href=\"https://colab.research.google.com/github/park-hoyeon/park-hoyeon.github.io/blob/master/skt_7_07_OpenCV(3).ipynb\" target=\"_parent\"><img src=\"https://colab.research.google.com/assets/colab-badge.svg\" alt=\"Open In Colab\"/></a>"
      ]
    },
    {
      "cell_type": "code",
      "execution_count": null,
      "metadata": {
        "id": "eDxb7-vHQDDD"
      },
      "outputs": [],
      "source": []
    },
    {
      "cell_type": "markdown",
      "source": [
        "# OpenCV Contours 처리\n"
      ],
      "metadata": {
        "id": "heiUepeyYQ78"
      }
    },
    {
      "cell_type": "code",
      "source": [
        "import cv2\n",
        "import numpy as np\n",
        "import matplotlib.pyplot as plt\n",
        "def show_image(title, img, cmap=None):\n",
        "    \"\"\"\n",
        "    Helper function to display an image (BGR or Grayscale) using Matplotlib.\n",
        "    - If the image has 3 channels, we assume it's BGR and convert to RGB.\n",
        "    - If it's 2D, we assume a grayscale image.\n",
        "    \"\"\"\n",
        "    plt.figure(figsize=(5,5))\n",
        "    if len(img.shape) == 2:\n",
        "        # Grayscale\n",
        "        plt.imshow(img, cmap=cmap if cmap else 'gray')\n",
        "    else:\n",
        "        # BGR -> RGB\n",
        "        img = cv2.cvtColor(img, cv2.COLOR_BGR2RGB)\n",
        "        plt.imshow(img)\n",
        "    plt.title(title)\n",
        "    plt.axis('off')\n",
        "    plt.show()\n",
        "\n",
        "\n"
      ],
      "metadata": {
        "id": "GeOK5zh5uSjD"
      },
      "execution_count": null,
      "outputs": []
    },
    {
      "cell_type": "code",
      "source": [
        "image = np.zeros((400,400), dtype=np.uint8)\n",
        "\n",
        "cv2.rectangle(image, (50, 100), (300, 300), 255, -1)\n",
        "\n",
        "contours, hierarchy = cv2.findContours(\n",
        "    image.copy(), cv2.RETR_EXTERNAL, cv2.CHAIN_APPROX_SIMPLE\n",
        ")\n",
        "\n",
        "print(f\"Found {len(contours)} contours.\")\n",
        "\n",
        "output = cv2.cvtColor(image, cv2.COLOR_GRAY2BGR)\n",
        "\n",
        "cv2.drawContours(output, contours, -1, (0, 255, 255), 2)\n",
        "\n",
        "show_image(\"Contours\", output)"
      ],
      "metadata": {
        "id": "4qad9s1hzVmr"
      },
      "execution_count": null,
      "outputs": []
    },
    {
      "cell_type": "code",
      "source": [
        "# 1) Create a synthetic image (400x400, black background)\n",
        "image = np.zeros((400, 400), dtype=np.uint8)  # single channel\n",
        "# 2) Draw a white rectangle\n",
        "cv2.rectangle(image, (50, 50), (350, 350), 255, -1)\n",
        "# 3) Find contours\n",
        "# Note: image must be an 8-bit single-channel binary (or thresholded) image.\n",
        "contours, hierarchy = cv2.findContours(\n",
        "    image.copy(),      # copy, to avoid modifying the original\n",
        "    cv2.RETR_TREE,     # retrieve all contours in a tree structure\n",
        "    cv2.CHAIN_APPROX_SIMPLE  # compress horizontal/vertical/diagonal segments\n",
        ")\n",
        "print(f\"Number of contours found: {len(contours)}\")\n",
        "# 4) Draw contours on a BGR image for visualization\n",
        "output = cv2.cvtColor(image, cv2.COLOR_GRAY2BGR)  # convert to 3-channel\n",
        "cv2.drawContours(output, contours, -1, (0, 255, 0), 2)\n",
        "show_image(\"Contours\", output)"
      ],
      "metadata": {
        "id": "etpkTG_Q0dMH"
      },
      "execution_count": null,
      "outputs": []
    },
    {
      "cell_type": "markdown",
      "source": [
        "# 사각형 외곽"
      ],
      "metadata": {
        "id": "bbuQb6iD1MWx"
      }
    },
    {
      "cell_type": "code",
      "source": [
        "contour = contours[0]\n",
        "\n",
        "x, y, w, h = cv2.boundingRect(contour)\n",
        "print(f\"BoundingRect -> x:{x}, y:{y}, w:{w}, h:{h}\")\n",
        "\n",
        "output_rect = output.copy()\n",
        "\n",
        "cv2.rectangle(output, (x, y), (x + w, y + h), (0, 0, 255), 2)\n",
        "\n",
        "show_image(\"Bounding Rectangle\", output_rect)"
      ],
      "metadata": {
        "id": "GEAWw_Kd1JAq"
      },
      "execution_count": null,
      "outputs": []
    },
    {
      "cell_type": "markdown",
      "source": [
        "# Convex Hull"
      ],
      "metadata": {
        "id": "HcBk66oh2VXd"
      }
    },
    {
      "cell_type": "code",
      "source": [
        "hull = cv2.convexHull(contour)\n",
        "\n",
        "output_hull = output.copy()\n",
        "\n",
        "cv2.drawContours(output_hull, [hull], -1, (0, 0, 255), 2)\n",
        "\n",
        "show_image(\"Convex Hull\", output_hull)"
      ],
      "metadata": {
        "id": "PP1GV8xj1uK7"
      },
      "execution_count": null,
      "outputs": []
    },
    {
      "cell_type": "markdown",
      "source": [
        "# 유사 다각형 근사"
      ],
      "metadata": {
        "id": "FzWd6aYy33tg"
      }
    },
    {
      "cell_type": "code",
      "source": [
        "epsilon = 0.02 * cv2.arcLength(contour, True)\n",
        "approx = cv2.approxPolyDP(contour, epsilon, True)\n",
        "\n",
        "print(\"Number of points in original contour: \", len(contour))\n",
        "print(\"Number of points in approximated contour: \", len(approx))\n",
        "\n",
        "output_approx = output.copy()\n",
        "cv2.drawContours(output_approx, [approx], -1, (255, 0, 255), 2)\n",
        "\n",
        "show_image(\"Approximated Contour\", output_approx)"
      ],
      "metadata": {
        "id": "_qvG0_wd3bYn"
      },
      "execution_count": null,
      "outputs": []
    },
    {
      "cell_type": "markdown",
      "source": [
        "# Contours\n"
      ],
      "metadata": {
        "id": "OZAhtPON5JxH"
      }
    },
    {
      "cell_type": "code",
      "source": [
        "area = cv2.contourArea(contour)\n",
        "perimeter = cv2.arcLength(contour, True)\n",
        "moments = cv2.moments(contour)\n",
        "\n",
        "moments = cv2.moments(contour)\n",
        "print(f\"Moments: {moments}\")\n",
        "print(\"Contour Area:\", area)\n",
        "print(\"Contour Perimeter: \", perimeter)\n",
        "4\n",
        "if moments['m00'] != 0:\n",
        "    cx = int(moments['m10'] / moments['m00'])\n",
        "    cy = int(moments['m01'] / moments['m00'])\n",
        "    print(f\"Contour Center: (x={cx}, y={cy})\")"
      ],
      "metadata": {
        "id": "hvZ3_1Eo4Zha"
      },
      "execution_count": null,
      "outputs": []
    },
    {
      "cell_type": "code",
      "source": [
        "# Demonstrate minAreaRect\n",
        "rotated_rect = cv2.minAreaRect(contour)  # ((cx, cy), (w, h), angle)\n",
        "box_points = cv2.boxPoints(rotated_rect)  # 4 corner points\n",
        "box_points = np.intp(box_points)\n",
        "print(\"minAreaRect ->\", rotated_rect)\n",
        "print(\"Box points:\", box_points)\n",
        "output_minarea = output.copy()\n",
        "cv2.drawContours(output_minarea, [box_points], -1, (255, 165, 0), 2)\n",
        "show_image(\"minAreaRect Box\", output_minarea)"
      ],
      "metadata": {
        "id": "DsTZcEe156VV"
      },
      "execution_count": null,
      "outputs": []
    },
    {
      "cell_type": "markdown",
      "source": [
        "# 과제\n"
      ],
      "metadata": {
        "id": "ooXDUP3175ia"
      }
    },
    {
      "cell_type": "code",
      "source": [
        "# 다중 객체 이미지에서의 contours 처리 - 여러 개의 도형을 그린 이미지를 만들고 윤곽선을 찾아서 각각에 대한 bounding box, convex hull 시도하기.\n",
        "\n",
        "image_multi = np.zeros((400, 400), dtype=np.uint8)\n",
        "\n",
        "cv2.rectangle(image_multi, (50, 50), (150, 150), 255, -1)\n",
        "cv2.circle(image_multi, (300, 100), 50, 255, -1)\n",
        "triangle_pts = np.array([[200, 250], [350, 250], [275, 350]], np.int32)\n",
        "cv2.fillPoly(image_multi, [triangle_pts], 255)\n",
        "\n",
        "show_image(\"Multiple Shapes\", image_multi)\n",
        "\n",
        "contours_multi, hierarchy_multi = cv2.findContours(\n",
        "    image_multi.copy(), cv2.RETR_EXTERNAL, cv2.CHAIN_APPROX_SIMPLE\n",
        ")\n",
        "\n",
        "output_multi = cv2.cvtColor(image_multi, cv2.COLOR_GRAY2BGR)\n",
        "\n",
        "cv2.drawContours(output_multi, contours_multi, -1, (0, 255, 255), 2)\n",
        "show_image(\"Contours of 다중객체 이미지\", output_multi)\n",
        "\n",
        "output_multi_boxes_hulls = cv2.cvtColor(image_multi, cv2.COLOR_GRAY2BGR)\n",
        "\n",
        "colors = [(255, 0, 0), (0, 255, 0), (0, 0, 255)]\n",
        "\n",
        "for i, contour in enumerate(contours_multi):\n",
        "    # Bounding Box\n",
        "    x, y, w, h = cv2.boundingRect(contour)\n",
        "    cv2.rectangle(output_multi_boxes_hulls, (x, y), (x + w, y + h), colors[i % len(colors)], 2)\n",
        "    print(f\"Contour {i+1}: BoundingRect -> x:{x}, y:{y}, w:{w}, h:{h}\")\n",
        "\n",
        "    # Convex Hull\n",
        "    hull = cv2.convexHull(contour)\n",
        "    cv2.drawContours(output_multi_boxes_hulls, [hull], -1, colors[i % len(colors)], 2)\n",
        "\n",
        "show_image(\"Bounding Boxes and Convex Hulls\", output_multi_boxes_hulls)\n"
      ],
      "metadata": {
        "id": "a6Cj7pjs7ndE"
      },
      "execution_count": null,
      "outputs": []
    },
    {
      "cell_type": "code",
      "source": [
        "#Contour 정렬 - 다중 윤곽선을 찾은 뒤, x좌표나 면적 등을 기준으로 정렬하여 나열하기\n",
        "\n",
        "# 1) x 좌표를 기준으로 정렬\n",
        "sorted_contours_by_x = sorted(contours_multi, key=lambda c: cv2.boundingRect(c)[0])\n",
        "\n",
        "print(\"\\nSorted contours by x-coordinate:\")\n",
        "output_sorted_x = cv2.cvtColor(image_multi, cv2.COLOR_GRAY2BGR)\n",
        "for i, contour in enumerate(sorted_contours_by_x):\n",
        "\n",
        "    M = cv2.moments(contour)\n",
        "    if M[\"m00\"] != 0:\n",
        "        cX = int(M[\"m10\"] / M[\"m00\"])\n",
        "        cY = int(M[\"m01\"] / M[\"m00\"])\n",
        "        cv2.putText(output_sorted_x, str(i+1), (cX, cY), cv2.FONT_HERSHEY_SIMPLEX, 1, (255, 255, 255), 2)\n",
        "    cv2.drawContours(output_sorted_x, [contour], -1, colors[i % len(colors)], 2)\n",
        "\n",
        "show_image(\"Contours Sorted by X-coordinate\", output_sorted_x)\n",
        "\n",
        "\n",
        "# 2) 면적을 기준으로 정렬 (큰 순서대로)\n",
        "sorted_contours_by_area_desc = sorted(contours_multi, key=cv2.contourArea, reverse=True)\n",
        "\n",
        "print(\"\\nSorted contours by area (descending):\")\n",
        "output_sorted_area = cv2.cvtColor(image_multi, cv2.COLOR_GRAY2BGR)\n",
        "for i, contour in enumerate(sorted_contours_by_area_desc):\n",
        "\n",
        "    M = cv2.moments(contour)\n",
        "    if M[\"m00\"] != 0:\n",
        "        cX = int(M[\"m10\"] / M[\"m00\"])\n",
        "        cY = int(M[\"m01\"] / M[\"m00\"])\n",
        "        cv2.putText(output_sorted_area, str(i+1), (cX, cY), cv2.FONT_HERSHEY_SIMPLEX, 1, (255, 255, 255), 2)\n",
        "    cv2.drawContours(output_sorted_area, [contour], -1, colors[i % len(colors)], 2)\n",
        "\n",
        "show_image(\"Contours Sorted by Area (Descending)\", output_sorted_area)\n",
        "\n",
        "# 면적을 기준으로 정렬된 contours에 대해 bounding box와 convex hull 시도\n",
        "print(\"\\nBounding Boxes and Convex Hulls for Contours Sorted by Area:\")\n",
        "output_sorted_area_boxes_hulls = cv2.cvtColor(image_multi, cv2.COLOR_GRAY2BGR)\n",
        "\n",
        "for i, contour in enumerate(sorted_contours_by_area_desc):\n",
        "    # Bounding Box\n",
        "    x, y, w, h = cv2.boundingRect(contour)\n",
        "    cv2.rectangle(output_sorted_area_boxes_hulls, (x, y), (x + w, y + h), colors[i % len(colors)], 2)\n",
        "    print(f\"Sorted Contour {i+1} (Area): BoundingRect -> x:{x}, y:{y}, w:{w}, h:{h}, Area: {cv2.contourArea(contour):.2f}\")\n",
        "\n",
        "    # Convex Hull\n",
        "    hull = cv2.convexHull(contour)\n",
        "    cv2.drawContours(output_sorted_area_boxes_hulls, [hull], -1, colors[i % len(colors)], 2)\n",
        "\n",
        "show_image(\"Sorted by Area: Bounding Boxes and Convex Hulls\", output_sorted_area_boxes_hulls)"
      ],
      "metadata": {
        "id": "oA-jZCLZ8bth"
      },
      "execution_count": null,
      "outputs": []
    },
    {
      "cell_type": "code",
      "source": [
        "# 실제 이미지 사용 - \"귀여움.jpg\" 에서 Threshole, Canny 에지 검출 등을 적용해 contours를 찾고, 물체 외곽을 탐지하기\n",
        "\n",
        "image_path = \"귀여움.jpg\"\n",
        "try:\n",
        "    image_real = cv2.imread(image_path)\n",
        "    if image_real is None:\n",
        "        raise FileNotFoundError(f\"Image not found at {image_path}\")\n",
        "\n",
        "    show_image(\"Original Image\", image_real)\n",
        "\n",
        "    # Convert to grayscale\n",
        "    gray_real = cv2.cvtColor(image_real, cv2.COLOR_BGR2GRAY)\n",
        "    show_image(\"Grayscale Image\", gray_real, cmap='gray')\n",
        "\n",
        "    blur_real = cv2.GaussianBlur(gray_real, (5, 5), 0)\n",
        "    show_image(\"Blurred Image\", blur_real, cmap='gray')\n",
        "\n",
        "\n",
        "    ret, thresh_real = cv2.threshold(blur_real, 0, 255, cv2.THRESH_BINARY + cv2.THRESH_OTSU)\n",
        "    show_image(\"Thresholded Image (Otsu)\", thresh_real, cmap='gray')\n",
        "\n",
        "    show_image(\"Canny Edges\", canny_real, cmap='gray')\n",
        "\n",
        "\n",
        "    contours_thresh, hierarchy_thresh = cv2.findContours(\n",
        "        thresh_real.copy(), cv2.RETR_EXTERNAL, cv2.CHAIN_APPROX_SIMPLE\n",
        "    )\n",
        "    print(f\"Found {len(contours_thresh)} contours from thresholded image.\")\n",
        "\n",
        "    output_thresh_contours = image_real.copy()\n",
        "    cv2.drawContours(output_thresh_contours, contours_thresh, -1, (0, 255, 255), 2)\n",
        "    show_image(\"Contours from Threshold\", output_thresh_contours)\n",
        "\n",
        "    contours_canny, hierarchy_canny = cv2.findContours(\n",
        "        canny_real.copy(), cv2.RETR_EXTERNAL, cv2.CHAIN_APPROX_SIMPLE\n",
        "    )\n",
        "    print(f\"Found {len(contours_canny)} contours from Canny edges.\")\n",
        "\n",
        "\n",
        "    output_canny_contours = image_real.copy()\n",
        "    cv2.drawContours(output_canny_contours, contours_canny, -1, (255, 0, 255), 2)\n",
        "    show_image(\"Contours from Canny Edges\", output_canny_contours)\n",
        "\n",
        "\n",
        "    final_contours = contours_canny\n",
        "\n",
        "\n",
        "    output_processed = image_real.copy()\n",
        "\n",
        "\n",
        "    min_contour_area = 100\n",
        "    large_contours = [c for c in final_contours if cv2.contourArea(c) > min_contour_area]\n",
        "    print(f\"Processing {len(large_contours)} large contours.\")\n",
        "\n",
        "    colors = [(255, 0, 0), (0, 255, 0), (0, 0, 255), (255, 255, 0), (0, 255, 255)] # More colors\n",
        "\n",
        "    for i, contour in enumerate(large_contours):\n",
        "        # Bounding Box\n",
        "        x, y, w, h = cv2.boundingRect(contour)\n",
        "        cv2.rectangle(output_processed, (x, y), (x + w, y + h), colors[i % len(colors)], 2)\n",
        "        print(f\"Contour {i+1}: BoundingRect -> x:{x}, y:{y}, w:{w}, h:{h}, Area: {cv2.contourArea(contour):.2f}\")\n",
        "\n",
        "        # Convex Hull\n",
        "        hull = cv2.convexHull(contour)\n",
        "        cv2.drawContours(output_processed, [hull], -1, colors[i % len(colors)], 2) # Draw hull with the same color\n",
        "\n",
        "\n",
        "    show_image(\"Processed Contours (Bounding Boxes and Convex Hulls)\", output_processed)\n",
        "\n",
        "except FileNotFoundError as e:\n",
        "    print(f\"Error: {e}\")\n",
        "    print(\"Please make sure '귀여움.jpg' is uploaded to your Colab environment or mounted Drive.\")\n",
        "    print(\"You can use the 'files.upload()' function or mount Google Drive.\")\n",
        "\n",
        "except Exception as e:\n",
        "    print(f\"An error occurred: {e}\")\n"
      ],
      "metadata": {
        "id": "3agv_N_d80a-"
      },
      "execution_count": null,
      "outputs": []
    },
    {
      "cell_type": "code",
      "source": [
        "import cv2\n",
        "import numpy as np\n",
        "from google.colab.patches import cv2_imshow # Import cv2_imshow\n",
        "\n",
        "img = cv2.imread(\"귀여움.jpg\")\n",
        "if img is None:\n",
        "    print(\"이미지를 불러올 수 없습니다. 경로를 확인하세요.\")\n",
        "    # exit() # Avoid using exit() in Colab cells as it can stop the runtime\n",
        "\n",
        "# 2. 그레이스케일 변환\n",
        "gray = cv2.cvtColor(img, cv2.COLOR_BGR2GRAY)\n",
        "\n",
        "# 3. 블러 처리 (노이즈 제거)\n",
        "blur = cv2.GaussianBlur(gray, (5, 5), 0)\n",
        "\n",
        "# 4. 이진화 (Thresholding)\n",
        "_, thresh = cv2.threshold(blur, 127, 255, cv2.THRESH_BINARY)\n",
        "\n",
        "# 5. Canny 에지 검출\n",
        "edges = cv2.Canny(blur, 50, 150)\n",
        "\n",
        "# 6. Contours 찾기 (에지 기준)\n",
        "contours, _ = cv2.findContours(edges.copy(), cv2.RETR_EXTERNAL, cv2.CHAIN_APPROX_SIMPLE) # Use edges.copy()\n",
        "\n",
        "# 7. Contour 그리기 (원본 이미지에)\n",
        "img_contours = img.copy()\n",
        "cv2.drawContours(img_contours, contours, -1, (0, 255, 0), 2)\n",
        "\n",
        "# 8. 결과 출력\n",
        "cv2_imshow(img) # Use cv2_imshow\n",
        "cv2_imshow(gray) # Use cv2_imshow\n",
        "cv2_imshow(thresh) # Use cv2_imshow\n",
        "cv2_imshow(edges) # Use cv2_imshow\n",
        "cv2_imshow(img_contours) # Use cv2_imshow\n",
        "\n",
        "# cv2.waitKey(0) # These are not typically needed with cv2_imshow in Colab\n",
        "# cv2.destroyAllWindows() # These are not typically needed with cv2_imshow in Colab"
      ],
      "metadata": {
        "id": "MNTJ7n1v_PRW"
      },
      "execution_count": null,
      "outputs": []
    },
    {
      "cell_type": "code",
      "source": [
        "# 자세한 계층 구조 분석 - hierarchy를 이용해 부모-자식 윤곽선을 구분\n",
        "\n",
        "img_hierarchy = cv2.imread(\"귀여움.jpg\")\n",
        "if img_hierarchy is None:\n",
        "    print(\"이미지를 불러올 수 없습니다. 경로를 확인하세요.\")\n",
        "else:\n",
        "    gray_hierarchy = cv2.cvtColor(img_hierarchy, cv2.COLOR_BGR2GRAY)\n",
        "\n",
        "    # 임계값 적용\n",
        "    ret_h, thresh_hierarchy = cv2.threshold(gray_hierarchy, 127, 255, cv2.THRESH_BINARY_INV) # 배경을 검정, 객체를 흰색으로\n",
        "\n",
        "    # 외곽선과 계층 구조 찾기\n",
        "    contours_h, hierarchy_h = cv2.findContours(\n",
        "        thresh_hierarchy.copy(), cv2.RETR_TREE, cv2.CHAIN_APPROX_SIMPLE\n",
        "    )\n",
        "\n",
        "    # 결과 시각화를 위한 복사본 생성\n",
        "    output_hierarchy = cv2.cvtColor(thresh_hierarchy, cv2.COLOR_GRAY2BGR)\n",
        "    output_hierarchy_color = img_hierarchy.copy()\n",
        "\n",
        "    print(f\"\\nFound {len(contours_h)} contours with hierarchy.\")\n",
        "    print(\"Hierarchy structure (next, previous, first_child, parent):\")\n",
        "    print(hierarchy_h)\n",
        "\n",
        "    # 계층 구조를 사용하여 부모/자식 관계를 시각화합니다.\n",
        "    # 초록색으로 부모, 파란색으로 자식 외곽선 그리기\n",
        "    if hierarchy_h is not None:\n",
        "        hierarchy_h = hierarchy_h[0]\n",
        "\n",
        "        for i in range(len(contours_h)):\n",
        "            parent_idx = hierarchy_h[i][3]\n",
        "\n",
        "            if parent_idx == -1:\n",
        "                # 부모가 없는 경우 (가장 바깥쪽 윤곽선) - 초록색\n",
        "                cv2.drawContours(output_hierarchy_color, contours_h, i, (0, 255, 0), 2) # Green\n",
        "            else:\n",
        "                # 부모가 있는 경우 (내부 윤곽선) - 파란색\n",
        "                cv2.drawContours(output_hierarchy_color, contours_h, i, (255, 0, 0), 2) # Blue\n",
        "\n",
        "    show_image(\"Contours with Hierarchy (Green: Parent, Blue: Child)\", output_hierarchy_color)\n",
        "\n"
      ],
      "metadata": {
        "id": "3RF25rBM-qSK"
      },
      "execution_count": null,
      "outputs": []
    },
    {
      "cell_type": "markdown",
      "source": [
        "# 필터링\n"
      ],
      "metadata": {
        "id": "aEa46lHKBEsE"
      }
    },
    {
      "cell_type": "code",
      "source": [
        "!wget -O gray_image.jpg \"https://blog.aspose.cloud/ko/imaging/grayscale-image-in-java/images/grayscale.jpg\" -q\n",
        "image_path = 'gray_image.jpg'  # 혹은 여러분의 이미지 파일명\n",
        "image = cv2.imread(image_path)\n",
        "if image is None:\n",
        "    print(\"이미지를 불러오지 못했습니다. 경로를 확인하세요.\")\n",
        "else:\n",
        "    print(\"이미지 로드 성공!\")\n",
        "    cv2_imshow(image)"
      ],
      "metadata": {
        "id": "DcEmemfm_oVP"
      },
      "execution_count": null,
      "outputs": []
    },
    {
      "cell_type": "markdown",
      "source": [
        "# 과제\n"
      ],
      "metadata": {
        "id": "t2LlxcwoBc0u"
      }
    },
    {
      "cell_type": "code",
      "source": [],
      "metadata": {
        "id": "IldwAqVSBKez"
      },
      "execution_count": null,
      "outputs": []
    }
  ]
}